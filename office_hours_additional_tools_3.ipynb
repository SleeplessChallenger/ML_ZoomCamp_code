{
 "cells": [
  {
   "cell_type": "markdown",
   "id": "204a9492",
   "metadata": {},
   "source": [
    "- KNN\n",
    "- Scikit-learn pipelines"
   ]
  },
  {
   "cell_type": "code",
   "execution_count": 115,
   "id": "8c22de6e",
   "metadata": {},
   "outputs": [],
   "source": [
    "import pandas as pd\n",
    "import numpy as np"
   ]
  },
  {
   "cell_type": "code",
   "execution_count": 116,
   "id": "3bbb7c61",
   "metadata": {},
   "outputs": [],
   "source": [
    "df = pd.read_csv('2.linear_regression_models/AB_NYC_2019.csv',\n",
    "            nrows=4000)"
   ]
  },
  {
   "cell_type": "markdown",
   "id": "e50c472e",
   "metadata": {},
   "source": [
    "# KNN"
   ]
  },
  {
   "cell_type": "raw",
   "id": "aff95f97",
   "metadata": {},
   "source": [
    "In KNN we take the closest data to our target\n",
    "and calculate the result: regression or classification.\n",
    "\n",
    "Also, we don't split the data into many chunks,\n",
    "but have train & test datasets only"
   ]
  },
  {
   "cell_type": "code",
   "execution_count": 117,
   "id": "1cf905a2",
   "metadata": {},
   "outputs": [],
   "source": [
    "from sklearn.neighbors import KNeighborsRegressor"
   ]
  },
  {
   "cell_type": "code",
   "execution_count": 118,
   "id": "fa8b3bb9",
   "metadata": {},
   "outputs": [],
   "source": [
    "from sklearn.model_selection import train_test_split"
   ]
  },
  {
   "cell_type": "code",
   "execution_count": 119,
   "id": "2153e163",
   "metadata": {},
   "outputs": [],
   "source": [
    "df_train, df_valid = train_test_split(df)"
   ]
  },
  {
   "cell_type": "code",
   "execution_count": 120,
   "id": "d52322fb",
   "metadata": {},
   "outputs": [
    {
     "data": {
      "text/plain": [
       "3000"
      ]
     },
     "execution_count": 120,
     "metadata": {},
     "output_type": "execute_result"
    }
   ],
   "source": [
    "len(df_train)"
   ]
  },
  {
   "cell_type": "code",
   "execution_count": 121,
   "id": "fe00685d",
   "metadata": {},
   "outputs": [],
   "source": [
    "X_train = df_train[['latitude', 'longitude']].fillna(0).values\n",
    "y_train = df_train.price.values"
   ]
  },
  {
   "cell_type": "code",
   "execution_count": 122,
   "id": "8174d353",
   "metadata": {},
   "outputs": [],
   "source": [
    "X_valid = df_valid[['latitude', 'longitude']].fillna(0).values\n",
    "y_valid = df_valid.price.values"
   ]
  },
  {
   "cell_type": "code",
   "execution_count": 123,
   "id": "ea7a7827",
   "metadata": {},
   "outputs": [],
   "source": [
    "knn = KNeighborsRegressor(n_neighbors=5)"
   ]
  },
  {
   "cell_type": "code",
   "execution_count": 124,
   "id": "50dae3ed",
   "metadata": {},
   "outputs": [
    {
     "data": {
      "text/plain": [
       "KNeighborsRegressor()"
      ]
     },
     "execution_count": 124,
     "metadata": {},
     "output_type": "execute_result"
    }
   ],
   "source": [
    "knn.fit(X_train, y_train)"
   ]
  },
  {
   "cell_type": "code",
   "execution_count": 125,
   "id": "234b27d3",
   "metadata": {},
   "outputs": [],
   "source": [
    "y_pred = knn.predict(X_valid)"
   ]
  },
  {
   "cell_type": "code",
   "execution_count": 126,
   "id": "ad7e63aa",
   "metadata": {},
   "outputs": [],
   "source": [
    "for i in range(1, 50):\n",
    "    knn = KNeighborsRegressor(n_neighbors=5)\n",
    "    knn.fit(X_train, y_train)\n",
    "    \n",
    "    y_pred = knn.predict(X_valid)\n",
    "    # rmse"
   ]
  },
  {
   "cell_type": "raw",
   "id": "fb0f6aa3",
   "metadata": {},
   "source": [
    "Usage of KNN: databases. There is query and it's\n",
    "assessed with various data. The lower the number -> the better in case of DISTANCE; the higher the number -> the better in case of SIMILARITY.\n",
    "\n",
    "And then we return the items by the order"
   ]
  },
  {
   "cell_type": "markdown",
   "id": "5d42675f",
   "metadata": {},
   "source": [
    "# Pipelines"
   ]
  },
  {
   "cell_type": "code",
   "execution_count": 127,
   "id": "4abf1aa8",
   "metadata": {},
   "outputs": [],
   "source": [
    "df['reviews_per_month'] = df['reviews_per_month'].fillna(0)"
   ]
  },
  {
   "cell_type": "code",
   "execution_count": 128,
   "id": "a1c32ab6",
   "metadata": {},
   "outputs": [],
   "source": [
    "df.name = df.name.fillna('')\n",
    "\n",
    "for c in ['neighbourhood', 'neighbourhood_group', 'room_type']:\n",
    "    df[c] = df[c].str.lower().str.replace(' ', '_').fillna('NA')"
   ]
  },
  {
   "cell_type": "code",
   "execution_count": 129,
   "id": "c76792a7",
   "metadata": {},
   "outputs": [],
   "source": [
    "from sklearn.compose import ColumnTransformer # hstack\n",
    "from sklearn.feature_extraction.text import CountVectorizer # for text\n",
    "from sklearn.preprocessing import OneHotEncoder # for categorical"
   ]
  },
  {
   "cell_type": "code",
   "execution_count": 130,
   "id": "aa3866bb",
   "metadata": {},
   "outputs": [],
   "source": [
    "numerical = [\n",
    "    'latitude',\n",
    "    'longitude',\n",
    "    'price',\n",
    "    'minimum_nights',\n",
    "    'number_of_reviews',\n",
    "    'reviews_per_month',\n",
    "    'calculated_host_listings_count',\n",
    "    'availability_365'\n",
    "]"
   ]
  },
  {
   "cell_type": "markdown",
   "id": "cebcb55c",
   "metadata": {},
   "source": [
    "Below we'll use CountVectorizer instead of OneHotEncoder\n",
    "as the former allows us to specify the min amount of times feature can appear to be considered a feature\n",
    "\n",
    "<h3>Hence we # OneHotEncoder</h3> "
   ]
  },
  {
   "cell_type": "code",
   "execution_count": 131,
   "id": "52f8a16b",
   "metadata": {},
   "outputs": [],
   "source": [
    "# name of the transformer, actual transformer, list of categories\n",
    "# passthrough means don't do anything\n",
    "\n",
    "# '.*' means the whole string\n",
    "transformations = [\n",
    "    ('numerical', 'passthrough', numerical),\n",
    "    # ('categories', OneHotEncoder(dtype='int32'), ['neighbourhood_group', 'neighbourhood', 'room_type']),\n",
    "    \n",
    "    ('ng', CountVectorizer(token_pattern='.*', min_df=100, dtype='int32'), 'neighbourhood_group'),\n",
    "    ('n', CountVectorizer(token_pattern='.*', min_df=50, dtype='int32'),'neighbourhood'),\n",
    "    ('r', CountVectorizer(token_pattern='.*', min_df=100, dtype='int32'), 'room_type'),\n",
    "    \n",
    "    ('name', CountVectorizer(min_df=100, dtype='int32'), 'name')\n",
    "]"
   ]
  },
  {
   "cell_type": "code",
   "execution_count": 132,
   "id": "a966f5bf",
   "metadata": {},
   "outputs": [],
   "source": [
    "col_transform = ColumnTransformer(\n",
    "    transformations,\n",
    "    remainder='drop'\n",
    ")\n",
    "# \"drop\" means remove all the other features"
   ]
  },
  {
   "cell_type": "code",
   "execution_count": 133,
   "id": "af5b6412",
   "metadata": {},
   "outputs": [
    {
     "data": {
      "text/plain": [
       "ColumnTransformer(transformers=[('numerical', 'passthrough',\n",
       "                                 ['latitude', 'longitude', 'price',\n",
       "                                  'minimum_nights', 'number_of_reviews',\n",
       "                                  'reviews_per_month',\n",
       "                                  'calculated_host_listings_count',\n",
       "                                  'availability_365']),\n",
       "                                ('ng',\n",
       "                                 CountVectorizer(dtype='int32', min_df=100,\n",
       "                                                 token_pattern='.*'),\n",
       "                                 'neighbourhood_group'),\n",
       "                                ('n',\n",
       "                                 CountVectorizer(dtype='int32', min_df=50,\n",
       "                                                 token_pattern='.*'),\n",
       "                                 'neighbourhood'),\n",
       "                                ('r',\n",
       "                                 CountVectorizer(dtype='int32', min_df=100,\n",
       "                                                 token_pattern='.*'),\n",
       "                                 'room_type'),\n",
       "                                ('name',\n",
       "                                 CountVectorizer(dtype='int32', min_df=100),\n",
       "                                 'name')])"
      ]
     },
     "execution_count": 133,
     "metadata": {},
     "output_type": "execute_result"
    }
   ],
   "source": [
    "col_transform.fit(df)"
   ]
  },
  {
   "cell_type": "code",
   "execution_count": 134,
   "id": "6379ab1f",
   "metadata": {},
   "outputs": [],
   "source": [
    "X = col_transform.transform(df)"
   ]
  },
  {
   "cell_type": "code",
   "execution_count": 135,
   "id": "32ca20bf",
   "metadata": {},
   "outputs": [
    {
     "data": {
      "text/plain": [
       "['latitude',\n",
       " 'ng__manhattan',\n",
       " 'n__east_village',\n",
       " 'n__upper_west_side',\n",
       " 'name__apt',\n",
       " 'name__cozy',\n",
       " 'name__in',\n",
       " 'name__of',\n",
       " 'name__village']"
      ]
     },
     "execution_count": 135,
     "metadata": {},
     "output_type": "execute_result"
    }
   ],
   "source": [
    "col_transform.get_feature_names()[::10]\n",
    "# numerical, categorical, text features"
   ]
  },
  {
   "cell_type": "code",
   "execution_count": 136,
   "id": "b91364f3",
   "metadata": {},
   "outputs": [
    {
     "data": {
      "text/plain": [
       "<4000x84 sparse matrix of type '<class 'numpy.float64'>'\n",
       "\twith 64256 stored elements in Compressed Sparse Row format>"
      ]
     },
     "execution_count": 136,
     "metadata": {},
     "output_type": "execute_result"
    }
   ],
   "source": [
    "X"
   ]
  },
  {
   "cell_type": "code",
   "execution_count": 137,
   "id": "5f0488f5",
   "metadata": {},
   "outputs": [],
   "source": [
    "y = df.price.values"
   ]
  },
  {
   "cell_type": "code",
   "execution_count": 138,
   "id": "e9a2cdfe",
   "metadata": {},
   "outputs": [],
   "source": [
    "from sklearn.linear_model import LinearRegression"
   ]
  },
  {
   "cell_type": "code",
   "execution_count": 139,
   "id": "51b1d3b8",
   "metadata": {},
   "outputs": [
    {
     "data": {
      "text/plain": [
       "LinearRegression()"
      ]
     },
     "execution_count": 139,
     "metadata": {},
     "output_type": "execute_result"
    }
   ],
   "source": [
    "lr = LinearRegression()\n",
    "lr.fit(X, y)"
   ]
  },
  {
   "cell_type": "code",
   "execution_count": 140,
   "id": "9c185758",
   "metadata": {},
   "outputs": [],
   "source": [
    "from sklearn.pipeline import Pipeline"
   ]
  },
  {
   "cell_type": "code",
   "execution_count": 141,
   "id": "5248c9c6",
   "metadata": {},
   "outputs": [],
   "source": [
    "pipeline = Pipeline([\n",
    "    ('transform', col_transform),\n",
    "    ('lr', LinearRegression())\n",
    "])"
   ]
  },
  {
   "cell_type": "code",
   "execution_count": 142,
   "id": "8c806417",
   "metadata": {},
   "outputs": [
    {
     "data": {
      "text/plain": [
       "Pipeline(steps=[('transform',\n",
       "                 ColumnTransformer(transformers=[('numerical', 'passthrough',\n",
       "                                                  ['latitude', 'longitude',\n",
       "                                                   'price', 'minimum_nights',\n",
       "                                                   'number_of_reviews',\n",
       "                                                   'reviews_per_month',\n",
       "                                                   'calculated_host_listings_count',\n",
       "                                                   'availability_365']),\n",
       "                                                 ('ng',\n",
       "                                                  CountVectorizer(dtype='int32',\n",
       "                                                                  min_df=100,\n",
       "                                                                  token_pattern='.*'),\n",
       "                                                  'neighbourhood_group'),\n",
       "                                                 ('n',\n",
       "                                                  CountVectorizer(dtype='int32',\n",
       "                                                                  min_df=50,\n",
       "                                                                  token_pattern='.*'),\n",
       "                                                  'neighbourhood'),\n",
       "                                                 ('r',\n",
       "                                                  CountVectorizer(dtype='int32',\n",
       "                                                                  min_df=100,\n",
       "                                                                  token_pattern='.*'),\n",
       "                                                  'room_type'),\n",
       "                                                 ('name',\n",
       "                                                  CountVectorizer(dtype='int32',\n",
       "                                                                  min_df=100),\n",
       "                                                  'name')])),\n",
       "                ('lr', LinearRegression())])"
      ]
     },
     "execution_count": 142,
     "metadata": {},
     "output_type": "execute_result"
    }
   ],
   "source": [
    "pipeline.fit(df, df.price.values)"
   ]
  },
  {
   "cell_type": "code",
   "execution_count": 143,
   "id": "9d49356b",
   "metadata": {},
   "outputs": [
    {
     "data": {
      "text/plain": [
       "array([149.00000008, 225.00000888, 149.99999557, ...,  49.00000071,\n",
       "        62.99999315, 100.00000335])"
      ]
     },
     "execution_count": 143,
     "metadata": {},
     "output_type": "execute_result"
    }
   ],
   "source": [
    "pipeline.predict(df)"
   ]
  },
  {
   "cell_type": "markdown",
   "id": "a9349996",
   "metadata": {},
   "source": [
    "# Custom transformer inside Pipeline"
   ]
  },
  {
   "cell_type": "code",
   "execution_count": 144,
   "id": "830d8f11",
   "metadata": {},
   "outputs": [],
   "source": [
    "from sklearn.base import TransformerMixin"
   ]
  },
  {
   "cell_type": "code",
   "execution_count": 145,
   "id": "f09ef2f6",
   "metadata": {},
   "outputs": [],
   "source": [
    "class ConcatenteTransformer(TransformerMixin):\n",
    "    \n",
    "    def fit(self, x, y=None):\n",
    "        return self\n",
    "    \n",
    "    def transform(self, X):\n",
    "        columns = list(X.columns)\n",
    "        \n",
    "        res = ''\n",
    "        \n",
    "        for c in columns:\n",
    "            res = res + ' ' + c + '=' + X[c]\n",
    "        \n",
    "        return res.str.strip()"
   ]
  },
  {
   "cell_type": "code",
   "execution_count": 146,
   "id": "563c06bd",
   "metadata": {},
   "outputs": [],
   "source": [
    "ct = ConcatenteTransformer()"
   ]
  },
  {
   "cell_type": "code",
   "execution_count": 147,
   "id": "c2378de6",
   "metadata": {},
   "outputs": [],
   "source": [
    "p2 = Pipeline([\n",
    "    ('concatenate', ConcatenteTransformer()),\n",
    "    ('vectorize', CountVectorizer(token_pattern='\\S+', min_df=100)) \n",
    "])"
   ]
  },
  {
   "cell_type": "code",
   "execution_count": 148,
   "id": "e6f141bf",
   "metadata": {},
   "outputs": [
    {
     "data": {
      "text/plain": [
       "<4000x17 sparse matrix of type '<class 'numpy.int64'>'\n",
       "\twith 10165 stored elements in Compressed Sparse Row format>"
      ]
     },
     "execution_count": 148,
     "metadata": {},
     "output_type": "execute_result"
    }
   ],
   "source": [
    "p2.fit_transform(df[['neighbourhood_group', 'neighbourhood', 'room_type']])"
   ]
  },
  {
   "cell_type": "markdown",
   "id": "e691c34a",
   "metadata": {},
   "source": [
    "# Put inside our transformation"
   ]
  },
  {
   "cell_type": "code",
   "execution_count": 149,
   "id": "753a8331",
   "metadata": {},
   "outputs": [],
   "source": [
    "# here we use our custom pipeline instead of 3 separate\n",
    "# rows that you can see in the previous transformations\n",
    "\n",
    "transformations = [\n",
    "    ('numerical', 'passthrough', numerical),\n",
    "    \n",
    "    ('categories', Pipeline([\n",
    "        ('concatenate', ConcatenteTransformer()),\n",
    "        ('vectorize', CountVectorizer(token_pattern='\\S+', min_df=100)) \n",
    "]), ['neighbourhood_group', 'neighbourhood', 'room_type']),\n",
    "\n",
    "    ('name', CountVectorizer(min_df=100, dtype='int32'), 'name')\n",
    "]"
   ]
  },
  {
   "cell_type": "code",
   "execution_count": 150,
   "id": "4350dffd",
   "metadata": {},
   "outputs": [],
   "source": [
    "col_transform = ColumnTransformer(\n",
    "    transformations,\n",
    "    remainder='drop'\n",
    ")"
   ]
  },
  {
   "cell_type": "code",
   "execution_count": 151,
   "id": "d1f9c1bc",
   "metadata": {},
   "outputs": [],
   "source": [
    "pipeline = Pipeline([\n",
    "    ('transformer', col_transform),\n",
    "    ('lr', LinearRegression())\n",
    "])"
   ]
  },
  {
   "cell_type": "code",
   "execution_count": 152,
   "id": "703b88e6",
   "metadata": {},
   "outputs": [
    {
     "data": {
      "text/plain": [
       "array([149.00000071, 225.00000739, 149.99998623, ...,  49.00001048,\n",
       "        63.00000505,  99.99999369])"
      ]
     },
     "execution_count": 152,
     "metadata": {},
     "output_type": "execute_result"
    }
   ],
   "source": [
    "pipeline.fit(df, df.price.values)\n",
    "pipeline.predict(df)"
   ]
  },
  {
   "cell_type": "code",
   "execution_count": 153,
   "id": "d7869152",
   "metadata": {},
   "outputs": [],
   "source": [
    "import pickle"
   ]
  },
  {
   "cell_type": "code",
   "execution_count": 154,
   "id": "7767fd81",
   "metadata": {},
   "outputs": [],
   "source": [
    "with open('pipeline.bin', 'wb') as f_out:\n",
    "    pickle.dump(pipeline, f_out)"
   ]
  },
  {
   "cell_type": "code",
   "execution_count": null,
   "id": "56c2626d",
   "metadata": {},
   "outputs": [],
   "source": []
  }
 ],
 "metadata": {
  "kernelspec": {
   "display_name": "Python 3",
   "language": "python",
   "name": "python3"
  },
  "language_info": {
   "codemirror_mode": {
    "name": "ipython",
    "version": 3
   },
   "file_extension": ".py",
   "mimetype": "text/x-python",
   "name": "python",
   "nbconvert_exporter": "python",
   "pygments_lexer": "ipython3",
   "version": "3.8.10"
  }
 },
 "nbformat": 4,
 "nbformat_minor": 5
}
