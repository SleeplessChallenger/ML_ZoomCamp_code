{
 "cells": [
  {
   "cell_type": "code",
   "execution_count": 1,
   "id": "a98c88ae",
   "metadata": {},
   "outputs": [],
   "source": [
    "import pandas as pd\n",
    "import numpy as np\n",
    "\n",
    "from matplotlib import pyplot as plt\n",
    "import seaborn as sns\n",
    "%matplotlib inline"
   ]
  },
  {
   "cell_type": "code",
   "execution_count": 2,
   "id": "a82c4ba9",
   "metadata": {},
   "outputs": [],
   "source": [
    "df = pd.read_csv('AB_NYC_2019.csv')"
   ]
  },
  {
   "cell_type": "code",
   "execution_count": 3,
   "id": "96ab2f0b",
   "metadata": {},
   "outputs": [
    {
     "data": {
      "text/html": [
       "<div>\n",
       "<style scoped>\n",
       "    .dataframe tbody tr th:only-of-type {\n",
       "        vertical-align: middle;\n",
       "    }\n",
       "\n",
       "    .dataframe tbody tr th {\n",
       "        vertical-align: top;\n",
       "    }\n",
       "\n",
       "    .dataframe thead th {\n",
       "        text-align: right;\n",
       "    }\n",
       "</style>\n",
       "<table border=\"1\" class=\"dataframe\">\n",
       "  <thead>\n",
       "    <tr style=\"text-align: right;\">\n",
       "      <th></th>\n",
       "      <th>id</th>\n",
       "      <th>name</th>\n",
       "      <th>host_id</th>\n",
       "      <th>host_name</th>\n",
       "      <th>neighbourhood_group</th>\n",
       "      <th>neighbourhood</th>\n",
       "      <th>latitude</th>\n",
       "      <th>longitude</th>\n",
       "      <th>room_type</th>\n",
       "      <th>price</th>\n",
       "      <th>minimum_nights</th>\n",
       "      <th>number_of_reviews</th>\n",
       "      <th>last_review</th>\n",
       "      <th>reviews_per_month</th>\n",
       "      <th>calculated_host_listings_count</th>\n",
       "      <th>availability_365</th>\n",
       "    </tr>\n",
       "  </thead>\n",
       "  <tbody>\n",
       "    <tr>\n",
       "      <th>0</th>\n",
       "      <td>2539</td>\n",
       "      <td>Clean &amp; quiet apt home by the park</td>\n",
       "      <td>2787</td>\n",
       "      <td>John</td>\n",
       "      <td>Brooklyn</td>\n",
       "      <td>Kensington</td>\n",
       "      <td>40.64749</td>\n",
       "      <td>-73.97237</td>\n",
       "      <td>Private room</td>\n",
       "      <td>149</td>\n",
       "      <td>1</td>\n",
       "      <td>9</td>\n",
       "      <td>2018-10-19</td>\n",
       "      <td>0.21</td>\n",
       "      <td>6</td>\n",
       "      <td>365</td>\n",
       "    </tr>\n",
       "    <tr>\n",
       "      <th>1</th>\n",
       "      <td>2595</td>\n",
       "      <td>Skylit Midtown Castle</td>\n",
       "      <td>2845</td>\n",
       "      <td>Jennifer</td>\n",
       "      <td>Manhattan</td>\n",
       "      <td>Midtown</td>\n",
       "      <td>40.75362</td>\n",
       "      <td>-73.98377</td>\n",
       "      <td>Entire home/apt</td>\n",
       "      <td>225</td>\n",
       "      <td>1</td>\n",
       "      <td>45</td>\n",
       "      <td>2019-05-21</td>\n",
       "      <td>0.38</td>\n",
       "      <td>2</td>\n",
       "      <td>355</td>\n",
       "    </tr>\n",
       "    <tr>\n",
       "      <th>2</th>\n",
       "      <td>3647</td>\n",
       "      <td>THE VILLAGE OF HARLEM....NEW YORK !</td>\n",
       "      <td>4632</td>\n",
       "      <td>Elisabeth</td>\n",
       "      <td>Manhattan</td>\n",
       "      <td>Harlem</td>\n",
       "      <td>40.80902</td>\n",
       "      <td>-73.94190</td>\n",
       "      <td>Private room</td>\n",
       "      <td>150</td>\n",
       "      <td>3</td>\n",
       "      <td>0</td>\n",
       "      <td>NaN</td>\n",
       "      <td>NaN</td>\n",
       "      <td>1</td>\n",
       "      <td>365</td>\n",
       "    </tr>\n",
       "  </tbody>\n",
       "</table>\n",
       "</div>"
      ],
      "text/plain": [
       "     id                                 name  host_id  host_name  \\\n",
       "0  2539   Clean & quiet apt home by the park     2787       John   \n",
       "1  2595                Skylit Midtown Castle     2845   Jennifer   \n",
       "2  3647  THE VILLAGE OF HARLEM....NEW YORK !     4632  Elisabeth   \n",
       "\n",
       "  neighbourhood_group neighbourhood  latitude  longitude        room_type  \\\n",
       "0            Brooklyn    Kensington  40.64749  -73.97237     Private room   \n",
       "1           Manhattan       Midtown  40.75362  -73.98377  Entire home/apt   \n",
       "2           Manhattan        Harlem  40.80902  -73.94190     Private room   \n",
       "\n",
       "   price  minimum_nights  number_of_reviews last_review  reviews_per_month  \\\n",
       "0    149               1                  9  2018-10-19               0.21   \n",
       "1    225               1                 45  2019-05-21               0.38   \n",
       "2    150               3                  0         NaN                NaN   \n",
       "\n",
       "   calculated_host_listings_count  availability_365  \n",
       "0                               6               365  \n",
       "1                               2               355  \n",
       "2                               1               365  "
      ]
     },
     "execution_count": 3,
     "metadata": {},
     "output_type": "execute_result"
    }
   ],
   "source": [
    "df.head(3)"
   ]
  },
  {
   "cell_type": "code",
   "execution_count": 4,
   "id": "8962fc10",
   "metadata": {},
   "outputs": [],
   "source": [
    "object_columns = list(df.dtypes[df.dtypes == 'object'].index)\n",
    "\n",
    "for col in object_columns:\n",
    "    df[col] = df[col].str.lower().str.replace(\" \", \"_\")"
   ]
  },
  {
   "cell_type": "code",
   "execution_count": 5,
   "id": "a4b743e5",
   "metadata": {},
   "outputs": [
    {
     "data": {
      "text/html": [
       "<div>\n",
       "<style scoped>\n",
       "    .dataframe tbody tr th:only-of-type {\n",
       "        vertical-align: middle;\n",
       "    }\n",
       "\n",
       "    .dataframe tbody tr th {\n",
       "        vertical-align: top;\n",
       "    }\n",
       "\n",
       "    .dataframe thead th {\n",
       "        text-align: right;\n",
       "    }\n",
       "</style>\n",
       "<table border=\"1\" class=\"dataframe\">\n",
       "  <thead>\n",
       "    <tr style=\"text-align: right;\">\n",
       "      <th></th>\n",
       "      <th>id</th>\n",
       "      <th>name</th>\n",
       "      <th>host_id</th>\n",
       "      <th>host_name</th>\n",
       "      <th>neighbourhood_group</th>\n",
       "      <th>neighbourhood</th>\n",
       "      <th>latitude</th>\n",
       "      <th>longitude</th>\n",
       "      <th>room_type</th>\n",
       "      <th>price</th>\n",
       "      <th>minimum_nights</th>\n",
       "      <th>number_of_reviews</th>\n",
       "      <th>last_review</th>\n",
       "      <th>reviews_per_month</th>\n",
       "      <th>calculated_host_listings_count</th>\n",
       "      <th>availability_365</th>\n",
       "    </tr>\n",
       "  </thead>\n",
       "  <tbody>\n",
       "    <tr>\n",
       "      <th>0</th>\n",
       "      <td>2539</td>\n",
       "      <td>clean_&amp;_quiet_apt_home_by_the_park</td>\n",
       "      <td>2787</td>\n",
       "      <td>john</td>\n",
       "      <td>brooklyn</td>\n",
       "      <td>kensington</td>\n",
       "      <td>40.64749</td>\n",
       "      <td>-73.97237</td>\n",
       "      <td>private_room</td>\n",
       "      <td>149</td>\n",
       "      <td>1</td>\n",
       "      <td>9</td>\n",
       "      <td>2018-10-19</td>\n",
       "      <td>0.21</td>\n",
       "      <td>6</td>\n",
       "      <td>365</td>\n",
       "    </tr>\n",
       "    <tr>\n",
       "      <th>1</th>\n",
       "      <td>2595</td>\n",
       "      <td>skylit_midtown_castle</td>\n",
       "      <td>2845</td>\n",
       "      <td>jennifer</td>\n",
       "      <td>manhattan</td>\n",
       "      <td>midtown</td>\n",
       "      <td>40.75362</td>\n",
       "      <td>-73.98377</td>\n",
       "      <td>entire_home/apt</td>\n",
       "      <td>225</td>\n",
       "      <td>1</td>\n",
       "      <td>45</td>\n",
       "      <td>2019-05-21</td>\n",
       "      <td>0.38</td>\n",
       "      <td>2</td>\n",
       "      <td>355</td>\n",
       "    </tr>\n",
       "    <tr>\n",
       "      <th>2</th>\n",
       "      <td>3647</td>\n",
       "      <td>the_village_of_harlem....new_york_!</td>\n",
       "      <td>4632</td>\n",
       "      <td>elisabeth</td>\n",
       "      <td>manhattan</td>\n",
       "      <td>harlem</td>\n",
       "      <td>40.80902</td>\n",
       "      <td>-73.94190</td>\n",
       "      <td>private_room</td>\n",
       "      <td>150</td>\n",
       "      <td>3</td>\n",
       "      <td>0</td>\n",
       "      <td>NaN</td>\n",
       "      <td>NaN</td>\n",
       "      <td>1</td>\n",
       "      <td>365</td>\n",
       "    </tr>\n",
       "  </tbody>\n",
       "</table>\n",
       "</div>"
      ],
      "text/plain": [
       "     id                                 name  host_id  host_name  \\\n",
       "0  2539   clean_&_quiet_apt_home_by_the_park     2787       john   \n",
       "1  2595                skylit_midtown_castle     2845   jennifer   \n",
       "2  3647  the_village_of_harlem....new_york_!     4632  elisabeth   \n",
       "\n",
       "  neighbourhood_group neighbourhood  latitude  longitude        room_type  \\\n",
       "0            brooklyn    kensington  40.64749  -73.97237     private_room   \n",
       "1           manhattan       midtown  40.75362  -73.98377  entire_home/apt   \n",
       "2           manhattan        harlem  40.80902  -73.94190     private_room   \n",
       "\n",
       "   price  minimum_nights  number_of_reviews last_review  reviews_per_month  \\\n",
       "0    149               1                  9  2018-10-19               0.21   \n",
       "1    225               1                 45  2019-05-21               0.38   \n",
       "2    150               3                  0         NaN                NaN   \n",
       "\n",
       "   calculated_host_listings_count  availability_365  \n",
       "0                               6               365  \n",
       "1                               2               355  \n",
       "2                               1               365  "
      ]
     },
     "execution_count": 5,
     "metadata": {},
     "output_type": "execute_result"
    }
   ],
   "source": [
    "df.head(3)"
   ]
  },
  {
   "cell_type": "markdown",
   "id": "22bedb53",
   "metadata": {},
   "source": [
    "# EDA"
   ]
  },
  {
   "cell_type": "code",
   "execution_count": 6,
   "id": "aa236e3e",
   "metadata": {},
   "outputs": [
    {
     "data": {
      "text/plain": [
       "<AxesSubplot:xlabel='price', ylabel='Count'>"
      ]
     },
     "execution_count": 6,
     "metadata": {},
     "output_type": "execute_result"
    },
    {
     "data": {
      "image/png": "[encoded data removed]",
      "text/plain": [
       "<Figure size 432x288 with 1 Axes>"
      ]
     },
     "metadata": {
      "needs_background": "light"
     },
     "output_type": "display_data"
    }
   ],
   "source": [
    "sns.histplot(df.price, bins=90)"
   ]
  },
  {
   "cell_type": "raw",
   "id": "5b454177",
   "metadata": {},
   "source": [
    "As we can see there is a long tail with the data. It means there is at least one property with 100.000"
   ]
  },
  {
   "cell_type": "code",
   "execution_count": 7,
   "id": "e6c34cbe",
   "metadata": {},
   "outputs": [
    {
     "data": {
      "text/plain": [
       "<AxesSubplot:xlabel='price', ylabel='Count'>"
      ]
     },
     "execution_count": 7,
     "metadata": {},
     "output_type": "execute_result"
    },
    {
     "data": {
      "image/png": "[encoded data removed]",
      "text/plain": [
       "<Figure size 432x288 with 1 Axes>"
      ]
     },
     "metadata": {
      "needs_background": "light"
     },
     "output_type": "display_data"
    }
   ],
   "source": [
    "log_price = np.log1p(df.price)\n",
    "\n",
    "sns.histplot(log_price, bins=90)\n",
    "# more or less better. Resembles normal distribution"
   ]
  },
  {
   "cell_type": "code",
   "execution_count": 8,
   "id": "2f7cc8b2",
   "metadata": {},
   "outputs": [],
   "source": [
    "base = ['latitude', 'longitude', 'price', 'minimum_nights',\n",
    "        'number_of_reviews', 'reviews_per_month', 'calculated_host_listings_count', 'availability_365']"
   ]
  },
  {
   "cell_type": "code",
   "execution_count": 9,
   "id": "c047ff98",
   "metadata": {},
   "outputs": [
    {
     "data": {
      "text/html": [
       "<div>\n",
       "<style scoped>\n",
       "    .dataframe tbody tr th:only-of-type {\n",
       "        vertical-align: middle;\n",
       "    }\n",
       "\n",
       "    .dataframe tbody tr th {\n",
       "        vertical-align: top;\n",
       "    }\n",
       "\n",
       "    .dataframe thead th {\n",
       "        text-align: right;\n",
       "    }\n",
       "</style>\n",
       "<table border=\"1\" class=\"dataframe\">\n",
       "  <thead>\n",
       "    <tr style=\"text-align: right;\">\n",
       "      <th></th>\n",
       "      <th>latitude</th>\n",
       "      <th>longitude</th>\n",
       "      <th>price</th>\n",
       "      <th>minimum_nights</th>\n",
       "      <th>number_of_reviews</th>\n",
       "      <th>reviews_per_month</th>\n",
       "      <th>calculated_host_listings_count</th>\n",
       "      <th>availability_365</th>\n",
       "    </tr>\n",
       "  </thead>\n",
       "  <tbody>\n",
       "    <tr>\n",
       "      <th>0</th>\n",
       "      <td>40.64749</td>\n",
       "      <td>-73.97237</td>\n",
       "      <td>149</td>\n",
       "      <td>1</td>\n",
       "      <td>9</td>\n",
       "      <td>0.21</td>\n",
       "      <td>6</td>\n",
       "      <td>365</td>\n",
       "    </tr>\n",
       "    <tr>\n",
       "      <th>1</th>\n",
       "      <td>40.75362</td>\n",
       "      <td>-73.98377</td>\n",
       "      <td>225</td>\n",
       "      <td>1</td>\n",
       "      <td>45</td>\n",
       "      <td>0.38</td>\n",
       "      <td>2</td>\n",
       "      <td>355</td>\n",
       "    </tr>\n",
       "  </tbody>\n",
       "</table>\n",
       "</div>"
      ],
      "text/plain": [
       "   latitude  longitude  price  minimum_nights  number_of_reviews  \\\n",
       "0  40.64749  -73.97237    149               1                  9   \n",
       "1  40.75362  -73.98377    225               1                 45   \n",
       "\n",
       "   reviews_per_month  calculated_host_listings_count  availability_365  \n",
       "0               0.21                               6               365  \n",
       "1               0.38                               2               355  "
      ]
     },
     "execution_count": 9,
     "metadata": {},
     "output_type": "execute_result"
    }
   ],
   "source": [
    "df_base = df[base]\n",
    "df_base.head(2)"
   ]
  },
  {
   "cell_type": "markdown",
   "id": "af818394",
   "metadata": {},
   "source": [
    "# Q1"
   ]
  },
  {
   "cell_type": "code",
   "execution_count": 10,
   "id": "e33f420f",
   "metadata": {},
   "outputs": [
    {
     "data": {
      "text/plain": [
       "latitude                              0\n",
       "longitude                             0\n",
       "price                                 0\n",
       "minimum_nights                        0\n",
       "number_of_reviews                     0\n",
       "reviews_per_month                 10052\n",
       "calculated_host_listings_count        0\n",
       "availability_365                      0\n",
       "dtype: int64"
      ]
     },
     "execution_count": 10,
     "metadata": {},
     "output_type": "execute_result"
    }
   ],
   "source": [
    "df_base.isnull().sum()\n",
    "# reviews_per_month is a feature with missing values"
   ]
  },
  {
   "cell_type": "code",
   "execution_count": 11,
   "id": "c55143f5",
   "metadata": {},
   "outputs": [
    {
     "data": {
      "text/plain": [
       "18.84513022487422"
      ]
     },
     "execution_count": 11,
     "metadata": {},
     "output_type": "execute_result"
    }
   ],
   "source": [
    "df['reviews_per_month'].isnull().sum()/df['reviews_per_month'].sum() * 100\n",
    "# 18% of all reviews are missing"
   ]
  },
  {
   "cell_type": "markdown",
   "id": "129e70ce",
   "metadata": {},
   "source": [
    "# Q2"
   ]
  },
  {
   "cell_type": "code",
   "execution_count": 12,
   "id": "c787c878",
   "metadata": {},
   "outputs": [
    {
     "data": {
      "text/plain": [
       "3.0"
      ]
     },
     "execution_count": 12,
     "metadata": {},
     "output_type": "execute_result"
    }
   ],
   "source": [
    "df['minimum_nights'].median()\n",
    "# the median number of nights is 3"
   ]
  },
  {
   "cell_type": "code",
   "execution_count": 13,
   "id": "38af2e54",
   "metadata": {},
   "outputs": [],
   "source": [
    "np.random.seed(42)\n",
    "\n",
    "length = len(df_base)\n",
    "array_length = np.arange(length)\n",
    "np.random.shuffle(array_length)\n",
    "\n",
    "df_shuffle = df_base.iloc[array_length]\n",
    "df_shuffle = df_shuffle.reset_index(drop=True)"
   ]
  },
  {
   "cell_type": "code",
   "execution_count": 14,
   "id": "43a2525b",
   "metadata": {},
   "outputs": [
    {
     "data": {
      "text/html": [
       "<div>\n",
       "<style scoped>\n",
       "    .dataframe tbody tr th:only-of-type {\n",
       "        vertical-align: middle;\n",
       "    }\n",
       "\n",
       "    .dataframe tbody tr th {\n",
       "        vertical-align: top;\n",
       "    }\n",
       "\n",
       "    .dataframe thead th {\n",
       "        text-align: right;\n",
       "    }\n",
       "</style>\n",
       "<table border=\"1\" class=\"dataframe\">\n",
       "  <thead>\n",
       "    <tr style=\"text-align: right;\">\n",
       "      <th></th>\n",
       "      <th>latitude</th>\n",
       "      <th>longitude</th>\n",
       "      <th>price</th>\n",
       "      <th>minimum_nights</th>\n",
       "      <th>number_of_reviews</th>\n",
       "      <th>reviews_per_month</th>\n",
       "      <th>calculated_host_listings_count</th>\n",
       "      <th>availability_365</th>\n",
       "    </tr>\n",
       "  </thead>\n",
       "  <tbody>\n",
       "    <tr>\n",
       "      <th>0</th>\n",
       "      <td>40.64354</td>\n",
       "      <td>-73.97777</td>\n",
       "      <td>89</td>\n",
       "      <td>3</td>\n",
       "      <td>62</td>\n",
       "      <td>0.71</td>\n",
       "      <td>1</td>\n",
       "      <td>189</td>\n",
       "    </tr>\n",
       "    <tr>\n",
       "      <th>1</th>\n",
       "      <td>40.70666</td>\n",
       "      <td>-73.90779</td>\n",
       "      <td>30</td>\n",
       "      <td>21</td>\n",
       "      <td>0</td>\n",
       "      <td>NaN</td>\n",
       "      <td>1</td>\n",
       "      <td>73</td>\n",
       "    </tr>\n",
       "    <tr>\n",
       "      <th>2</th>\n",
       "      <td>40.76116</td>\n",
       "      <td>-73.99016</td>\n",
       "      <td>120</td>\n",
       "      <td>2</td>\n",
       "      <td>17</td>\n",
       "      <td>0.43</td>\n",
       "      <td>1</td>\n",
       "      <td>0</td>\n",
       "    </tr>\n",
       "  </tbody>\n",
       "</table>\n",
       "</div>"
      ],
      "text/plain": [
       "   latitude  longitude  price  minimum_nights  number_of_reviews  \\\n",
       "0  40.64354  -73.97777     89               3                 62   \n",
       "1  40.70666  -73.90779     30              21                  0   \n",
       "2  40.76116  -73.99016    120               2                 17   \n",
       "\n",
       "   reviews_per_month  calculated_host_listings_count  availability_365  \n",
       "0               0.71                               1               189  \n",
       "1                NaN                               1                73  \n",
       "2               0.43                               1                 0  "
      ]
     },
     "execution_count": 14,
     "metadata": {},
     "output_type": "execute_result"
    }
   ],
   "source": [
    "df_shuffle.head(3)"
   ]
  },
  {
   "cell_type": "code",
   "execution_count": 15,
   "id": "11ee5dcc",
   "metadata": {},
   "outputs": [],
   "source": [
    "from sklearn.model_selection import train_test_split"
   ]
  },
  {
   "cell_type": "code",
   "execution_count": 16,
   "id": "e6c24ed9",
   "metadata": {},
   "outputs": [],
   "source": [
    "full_train, df_test = train_test_split(df_shuffle, test_size=0.2, random_state=42)\n",
    "df_train, df_valid = train_test_split(full_train, test_size=0.25, random_state=42)"
   ]
  },
  {
   "cell_type": "code",
   "execution_count": 17,
   "id": "435f7394",
   "metadata": {},
   "outputs": [
    {
     "data": {
      "text/plain": [
       "(9779, 29337, 9779)"
      ]
     },
     "execution_count": 17,
     "metadata": {},
     "output_type": "execute_result"
    }
   ],
   "source": [
    "len(df_test), len(df_train), len(df_valid)"
   ]
  },
  {
   "cell_type": "code",
   "execution_count": 18,
   "id": "e50874ed",
   "metadata": {},
   "outputs": [],
   "source": [
    "y_test = np.log1p(df_test.price.values)\n",
    "y_train = np.log1p(df_train.price.values)\n",
    "y_valid = np.log1p(df_valid.price.values)"
   ]
  },
  {
   "cell_type": "code",
   "execution_count": 19,
   "id": "7ff82945",
   "metadata": {},
   "outputs": [],
   "source": [
    "del df_train['price']\n",
    "del df_valid['price']\n",
    "del df_test['price']"
   ]
  },
  {
   "cell_type": "code",
   "execution_count": 20,
   "id": "0f7d6eaf",
   "metadata": {},
   "outputs": [
    {
     "data": {
      "text/html": [
       "<div>\n",
       "<style scoped>\n",
       "    .dataframe tbody tr th:only-of-type {\n",
       "        vertical-align: middle;\n",
       "    }\n",
       "\n",
       "    .dataframe tbody tr th {\n",
       "        vertical-align: top;\n",
       "    }\n",
       "\n",
       "    .dataframe thead th {\n",
       "        text-align: right;\n",
       "    }\n",
       "</style>\n",
       "<table border=\"1\" class=\"dataframe\">\n",
       "  <thead>\n",
       "    <tr style=\"text-align: right;\">\n",
       "      <th></th>\n",
       "      <th>latitude</th>\n",
       "      <th>longitude</th>\n",
       "      <th>minimum_nights</th>\n",
       "      <th>number_of_reviews</th>\n",
       "      <th>reviews_per_month</th>\n",
       "      <th>calculated_host_listings_count</th>\n",
       "      <th>availability_365</th>\n",
       "    </tr>\n",
       "  </thead>\n",
       "  <tbody>\n",
       "    <tr>\n",
       "      <th>13575</th>\n",
       "      <td>40.76687</td>\n",
       "      <td>-73.98644</td>\n",
       "      <td>1</td>\n",
       "      <td>0</td>\n",
       "      <td>NaN</td>\n",
       "      <td>1</td>\n",
       "      <td>364</td>\n",
       "    </tr>\n",
       "    <tr>\n",
       "      <th>48476</th>\n",
       "      <td>40.86948</td>\n",
       "      <td>-73.92122</td>\n",
       "      <td>2</td>\n",
       "      <td>0</td>\n",
       "      <td>NaN</td>\n",
       "      <td>1</td>\n",
       "      <td>65</td>\n",
       "    </tr>\n",
       "  </tbody>\n",
       "</table>\n",
       "</div>"
      ],
      "text/plain": [
       "       latitude  longitude  minimum_nights  number_of_reviews  \\\n",
       "13575  40.76687  -73.98644               1                  0   \n",
       "48476  40.86948  -73.92122               2                  0   \n",
       "\n",
       "       reviews_per_month  calculated_host_listings_count  availability_365  \n",
       "13575                NaN                               1               364  \n",
       "48476                NaN                               1                65  "
      ]
     },
     "execution_count": 20,
     "metadata": {},
     "output_type": "execute_result"
    }
   ],
   "source": [
    "df_train.head(2)"
   ]
  },
  {
   "cell_type": "markdown",
   "id": "80792d86",
   "metadata": {},
   "source": [
    "# Q3"
   ]
  },
  {
   "cell_type": "code",
   "execution_count": 21,
   "id": "f9733e89",
   "metadata": {},
   "outputs": [
    {
     "data": {
      "text/plain": [
       "1.3731128672049646"
      ]
     },
     "execution_count": 21,
     "metadata": {},
     "output_type": "execute_result"
    }
   ],
   "source": [
    "mean_value = df_train.reviews_per_month.mean()\n",
    "mean_value"
   ]
  },
  {
   "cell_type": "code",
   "execution_count": 22,
   "id": "edc94958",
   "metadata": {},
   "outputs": [],
   "source": [
    "from sklearn.linear_model import LinearRegression, Ridge"
   ]
  },
  {
   "cell_type": "code",
   "execution_count": 23,
   "id": "88ad19d5",
   "metadata": {},
   "outputs": [],
   "source": [
    "df_zero_filled = df_train.fillna(0)\n",
    "df_mean_filled = df_train.fillna(mean_value)"
   ]
  },
  {
   "cell_type": "code",
   "execution_count": 24,
   "id": "44902302",
   "metadata": {
    "scrolled": false
   },
   "outputs": [
    {
     "data": {
      "text/plain": [
       "(latitude                          0\n",
       " longitude                         0\n",
       " minimum_nights                    0\n",
       " number_of_reviews                 0\n",
       " reviews_per_month                 0\n",
       " calculated_host_listings_count    0\n",
       " availability_365                  0\n",
       " dtype: int64,\n",
       " latitude                          0\n",
       " longitude                         0\n",
       " minimum_nights                    0\n",
       " number_of_reviews                 0\n",
       " reviews_per_month                 0\n",
       " calculated_host_listings_count    0\n",
       " availability_365                  0\n",
       " dtype: int64)"
      ]
     },
     "execution_count": 24,
     "metadata": {},
     "output_type": "execute_result"
    }
   ],
   "source": [
    "df_zero_filled.isnull().sum(), df_mean_filled.isnull().sum()"
   ]
  },
  {
   "cell_type": "code",
   "execution_count": 28,
   "id": "9770feac",
   "metadata": {},
   "outputs": [],
   "source": [
    "df_zero_dict = df_zero_filled.to_dict(orient='records')\n",
    "df_mean_dict = df_mean_filled.to_dict(orient='records')"
   ]
  },
  {
   "cell_type": "code",
   "execution_count": 30,
   "id": "d630de8a",
   "metadata": {},
   "outputs": [
    {
     "data": {
      "text/plain": [
       "{'latitude': 40.76687,\n",
       " 'longitude': -73.98644,\n",
       " 'minimum_nights': 1,\n",
       " 'number_of_reviews': 0,\n",
       " 'reviews_per_month': 0.0,\n",
       " 'calculated_host_listings_count': 1,\n",
       " 'availability_365': 364}"
      ]
     },
     "execution_count": 30,
     "metadata": {},
     "output_type": "execute_result"
    }
   ],
   "source": [
    "df_zero_dict[0]"
   ]
  },
  {
   "cell_type": "code",
   "execution_count": 27,
   "id": "a47b009e",
   "metadata": {},
   "outputs": [],
   "source": [
    "# to extract features we'll use DictVectorizer\n",
    "from sklearn.feature_extraction import DictVectorizer\n",
    "\n",
    "dv_zero = DictVectorizer(sparse=False)\n",
    "dv_mean = DictVectorizer(sparse=False)\n",
    "\n",
    "dv_zero.fit(df_zero_dict)\n",
    "dv_mean.fit(df_mean_dict)\n",
    "\n",
    "X_zero = dv_zero.transform(df_zero_dict)\n",
    "X_mean = dv_mean.transform(df_mean_dict)"
   ]
  },
  {
   "cell_type": "code",
   "execution_count": 28,
   "id": "99741276",
   "metadata": {},
   "outputs": [
    {
     "data": {
      "text/plain": [
       "LinearRegression()"
      ]
     },
     "execution_count": 28,
     "metadata": {},
     "output_type": "execute_result"
    }
   ],
   "source": [
    "model_zero = LinearRegression()\n",
    "model_mean = LinearRegression()\n",
    "\n",
    "model_zero.fit(X_zero, y_train)\n",
    "model_mean.fit(X_mean, y_train)"
   ]
  },
  {
   "cell_type": "code",
   "execution_count": 29,
   "id": "91dca9cf",
   "metadata": {},
   "outputs": [],
   "source": [
    "# for validation dataset we also need to split\n",
    "# into 2 as first will prepare and train with 0\n",
    "# and second - with mean\n",
    "\n",
    "df_valid_zero = df_valid.fillna(0)\n",
    "df_valid_mean = df_valid.fillna(mean_value)"
   ]
  },
  {
   "cell_type": "code",
   "execution_count": 30,
   "id": "5168a6ec",
   "metadata": {},
   "outputs": [],
   "source": [
    "df_valid_dict_zero = df_valid_zero.to_dict(orient='records')\n",
    "df_valid_dict_mean = df_valid_mean.to_dict(orient='records')\n",
    "\n",
    "X_valid_zero = dv_zero.transform(df_valid_dict_zero)\n",
    "X_valid_mean = dv_mean.transform(df_valid_dict_mean)"
   ]
  },
  {
   "cell_type": "code",
   "execution_count": 31,
   "id": "eb9e9abb",
   "metadata": {},
   "outputs": [],
   "source": [
    "y_predict_zero = model_zero.predict(X_valid_zero)\n",
    "y_predict_mean = model_mean.predict(X_valid_mean)"
   ]
  },
  {
   "cell_type": "code",
   "execution_count": 32,
   "id": "11b43e59",
   "metadata": {},
   "outputs": [],
   "source": [
    "from sklearn.metrics import mean_squared_error\n",
    "# true, predictions\n",
    "\n",
    "result_zero = np.sqrt(mean_squared_error(y_valid, y_predict_zero))\n",
    "result_mean = np.sqrt(mean_squared_error(y_valid, y_predict_mean))"
   ]
  },
  {
   "cell_type": "code",
   "execution_count": 33,
   "id": "d5b8784b",
   "metadata": {},
   "outputs": [
    {
     "data": {
      "text/plain": [
       "'zero: 0.64; mean: 0.64'"
      ]
     },
     "execution_count": 33,
     "metadata": {},
     "output_type": "execute_result"
    }
   ],
   "source": [
    "f\"zero: {round(result_zero,2)}; mean: {round(result_mean,2)}\""
   ]
  },
  {
   "cell_type": "raw",
   "id": "5c9407df",
   "metadata": {},
   "source": [
    "We can see that actually results are similar"
   ]
  },
  {
   "cell_type": "markdown",
   "id": "91f2df6b",
   "metadata": {},
   "source": [
    "# Q4"
   ]
  },
  {
   "cell_type": "code",
   "execution_count": 34,
   "id": "050a3d95",
   "metadata": {},
   "outputs": [
    {
     "data": {
      "text/plain": [
       "latitude                          0\n",
       "longitude                         0\n",
       "minimum_nights                    0\n",
       "number_of_reviews                 0\n",
       "reviews_per_month                 0\n",
       "calculated_host_listings_count    0\n",
       "availability_365                  0\n",
       "dtype: int64"
      ]
     },
     "execution_count": 34,
     "metadata": {},
     "output_type": "execute_result"
    }
   ],
   "source": [
    "df_reg = df_train.fillna(0)\n",
    "df_reg.isnull().sum()"
   ]
  },
  {
   "cell_type": "code",
   "execution_count": 35,
   "id": "3c83dc56",
   "metadata": {},
   "outputs": [],
   "source": [
    "df_reg_dict = df_reg.to_dict(orient='records')"
   ]
  },
  {
   "cell_type": "code",
   "execution_count": 36,
   "id": "bb1dd8b6",
   "metadata": {},
   "outputs": [],
   "source": [
    "dv_reg = DictVectorizer(sparse=True)\n",
    "X_reg_train = dv_reg.fit_transform(df_reg_dict)"
   ]
  },
  {
   "cell_type": "code",
   "execution_count": 37,
   "id": "0a6a8c91",
   "metadata": {},
   "outputs": [
    {
     "data": {
      "text/plain": [
       "Ridge()"
      ]
     },
     "execution_count": 37,
     "metadata": {},
     "output_type": "execute_result"
    }
   ],
   "source": [
    "model_reg = Ridge()\n",
    "model_reg.fit(X_reg_train, y_train)"
   ]
  },
  {
   "cell_type": "code",
   "execution_count": 33,
   "id": "b4dc101c",
   "metadata": {},
   "outputs": [],
   "source": [
    "df_valid_reg = df_valid.fillna(0)"
   ]
  },
  {
   "cell_type": "code",
   "execution_count": 34,
   "id": "65bd559b",
   "metadata": {},
   "outputs": [],
   "source": [
    "df_valid_reg_dict = df_valid_reg.to_dict(orient='records')"
   ]
  },
  {
   "cell_type": "code",
   "execution_count": 35,
   "id": "50c423df",
   "metadata": {},
   "outputs": [
    {
     "data": {
      "text/plain": [
       "{'latitude': 40.70955,\n",
       " 'longitude': -73.95085,\n",
       " 'minimum_nights': 4,\n",
       " 'number_of_reviews': 17,\n",
       " 'reviews_per_month': 0.29,\n",
       " 'calculated_host_listings_count': 1,\n",
       " 'availability_365': 4}"
      ]
     },
     "execution_count": 35,
     "metadata": {},
     "output_type": "execute_result"
    }
   ],
   "source": [
    "df_valid_reg_dict[0]"
   ]
  },
  {
   "cell_type": "code",
   "execution_count": 41,
   "id": "7b1b5c88",
   "metadata": {},
   "outputs": [],
   "source": [
    "X_valid_reg = dv_reg.transform(df_valid_reg_dict)"
   ]
  },
  {
   "cell_type": "code",
   "execution_count": 42,
   "id": "2390189c",
   "metadata": {},
   "outputs": [],
   "source": [
    "y_predict_valid = model_reg.predict(X_valid_reg)"
   ]
  },
  {
   "cell_type": "code",
   "execution_count": 43,
   "id": "25c349a0",
   "metadata": {},
   "outputs": [],
   "source": [
    "rmse_valid = np.sqrt(mean_squared_error(y_valid, y_predict_valid))"
   ]
  },
  {
   "cell_type": "code",
   "execution_count": 44,
   "id": "d32530de",
   "metadata": {},
   "outputs": [
    {
     "data": {
      "text/plain": [
       "0.6446830941274692"
      ]
     },
     "execution_count": 44,
     "metadata": {},
     "output_type": "execute_result"
    }
   ],
   "source": [
    "rmse_valid"
   ]
  },
  {
   "cell_type": "markdown",
   "id": "cdd5953b",
   "metadata": {},
   "source": [
    "<h3>\n",
    "    Let's try various reg values.<br>\n",
    "</h3>"
   ]
  },
  {
   "cell_type": "code",
   "execution_count": 45,
   "id": "51b5a768",
   "metadata": {},
   "outputs": [],
   "source": [
    "model_reg = Ridge()"
   ]
  },
  {
   "cell_type": "code",
   "execution_count": 46,
   "id": "c8ad5521",
   "metadata": {},
   "outputs": [],
   "source": [
    "def train_model(model, X_train, y_train, X_valid, y_valid):\n",
    "    total = {}\n",
    "    \n",
    "    for r in [0, 0.000001, 0.0001, 0.001, 0.01, 0.1, 1, 5, 10]:\n",
    "        if r == 0:\n",
    "            model.fit(X_train, y_train)\n",
    "        else:\n",
    "            model.fit(X_train, y_train, sample_weight=r)\n",
    "            \n",
    "        prediction = model.predict(X_valid)\n",
    "        rmse = np.sqrt(mean_squared_error(y_valid, prediction))\n",
    "        \n",
    "        total[r] = round(rmse, 2)\n",
    "        \n",
    "    return total"
   ]
  },
  {
   "cell_type": "code",
   "execution_count": 47,
   "id": "e6f76381",
   "metadata": {},
   "outputs": [
    {
     "data": {
      "text/plain": [
       "{0: 0.64,\n",
       " 1e-06: 0.69,\n",
       " 0.0001: 0.69,\n",
       " 0.001: 0.69,\n",
       " 0.01: 0.69,\n",
       " 0.1: 0.69,\n",
       " 1: 0.64,\n",
       " 5: 0.69,\n",
       " 10: 0.69}"
      ]
     },
     "execution_count": 47,
     "metadata": {},
     "output_type": "execute_result"
    }
   ],
   "source": [
    "train_model(model_reg, X_reg_train, y_train, X_valid_reg, y_valid)"
   ]
  },
  {
   "cell_type": "raw",
   "id": "f4b7b385",
   "metadata": {},
   "source": [
    "0 and 1 are both good, but it's better to choose smaller r param => 0"
   ]
  },
  {
   "cell_type": "markdown",
   "id": "052443c8",
   "metadata": {},
   "source": [
    "# Q5"
   ]
  },
  {
   "cell_type": "code",
   "execution_count": 48,
   "id": "c4ad996f",
   "metadata": {},
   "outputs": [],
   "source": [
    "class LinearPrediction:\n",
    "    '''\n",
    "    1. At first we transform all df\n",
    "    into desired one, i.e. base + shuffle\n",
    "    \n",
    "    2. Then  we split in desired chunks\n",
    "    \n",
    "    3. all further analysis is done\n",
    "    with the help of sklearn\n",
    "    '''\n",
    "    def __init__(self, model, df, seed, dv, base):\n",
    "        self.model = model\n",
    "        self.df = df.copy()\n",
    "        self.seed = seed\n",
    "        self.dv_train = dv\n",
    "        self.dv_full_train = dv\n",
    "        self.base = base\n",
    "        \n",
    "    def __call__(self):\n",
    "        self._transform_df()\n",
    "        full_train, test, train, valid = self._split_data()\n",
    "        \n",
    "        # target\n",
    "        self.y_full = self._target(full_train)\n",
    "        self.y_test = self._target(test)\n",
    "        self.y_train = self._target(train)\n",
    "        self.y_valid = self._target(valid)\n",
    "        \n",
    "        # dict data\n",
    "        full_dict = self._data_preparation(full_train)\n",
    "        test_dict = self._data_preparation(test)\n",
    "        train_dict = self._data_preparation(train)\n",
    "        valid_dict = self._data_preparation(valid)\n",
    "        \n",
    "        # X train\n",
    "        self.X_full = self._dv_fit_full_train(full_dict)\n",
    "        self.X_train = self._dv_fit_train(train_dict)\n",
    "        \n",
    "        # At first we transform valid on train\n",
    "        self.X_valid = self._dv_transform(valid_dict)\n",
    "        \n",
    "        self._train_model(self.X_train, self.y_train)\n",
    "        prediction = self._prediction(self.X_valid)\n",
    "        final = self._rmse(self.y_valid, prediction)\n",
    "        return final\n",
    "        \n",
    "    def _transform_df(self):\n",
    "        df_base = self.df[self.base]\n",
    "        \n",
    "        np.random.seed(self.seed)\n",
    "        length = len(df_base)\n",
    "        array_length = np.arange(length)\n",
    "        np.random.shuffle(array_length)\n",
    "\n",
    "        df_shuffle = df_base.iloc[array_length]\n",
    "        self.df = df_shuffle.reset_index(drop=True)\n",
    "\n",
    "    def _split_data(self):\n",
    "        full_train, df_test = train_test_split(self.df, test_size=0.2, random_state=self.seed)\n",
    "        df_train, df_valid = train_test_split(full_train, test_size=0.25, random_state=self.seed)\n",
    "        \n",
    "        full_train = full_train.fillna(0)\n",
    "        df_test = df_test.fillna(0)\n",
    "        df_train = df_train.fillna(0)\n",
    "        df_valid = df_valid.fillna(0)\n",
    "        \n",
    "        return full_train, df_test, df_train, df_valid\n",
    "    \n",
    "    def _target(self, data):\n",
    "        y_data = np.log1p(data.price.values)\n",
    "        del data['price']\n",
    "        return y_data\n",
    "\n",
    "    def _data_preparation(self, data):\n",
    "        dict_data = data.to_dict(orient='records')\n",
    "        return dict_data\n",
    "    \n",
    "    def _dv_fit_train(self, data):\n",
    "        X = self.dv_train.fit_transform(data)\n",
    "        return X\n",
    "    \n",
    "    def _dv_fit_full_train(self, data):\n",
    "        X = self.dv_full_train.fit_transform(data)\n",
    "        return X\n",
    "    \n",
    "    def _dv_transform(self, data):\n",
    "        X = self.dv_train.transform(data)\n",
    "        return X\n",
    "    \n",
    "    def _train_model(self, X, y):\n",
    "        self.model.fit(X, y)\n",
    "\n",
    "    def _prediction(self, data):\n",
    "        result = self.model.predict(data)\n",
    "        return result\n",
    "        \n",
    "    def _rmse(self, target, pred):\n",
    "        return np.sqrt(mean_squared_error(target, pred))\n",
    "    "
   ]
  },
  {
   "cell_type": "code",
   "execution_count": 49,
   "id": "14ba6d93",
   "metadata": {},
   "outputs": [],
   "source": [
    "result = {}\n",
    "base = ['latitude', 'longitude', 'price', 'minimum_nights',\n",
    "        'number_of_reviews', 'reviews_per_month', 'calculated_host_listings_count', 'availability_365']\n",
    "\n",
    "for s in [0, 1, 2, 3, 4, 5, 6, 7, 8, 9]:\n",
    "    prediction_result = LinearPrediction(LinearRegression(), df, s, DictVectorizer(sparse=True), base)\n",
    "    result[s] = prediction_result()\n"
   ]
  },
  {
   "cell_type": "markdown",
   "id": "9b9f9dad",
   "metadata": {},
   "source": [
    "<h3>\n",
    "    Find std\n",
    "</h3>"
   ]
  },
  {
   "cell_type": "code",
   "execution_count": 50,
   "id": "974d1b02",
   "metadata": {
    "scrolled": true
   },
   "outputs": [
    {
     "data": {
      "text/plain": [
       "{0: 0.6416761466591074,\n",
       " 1: 0.638495696256814,\n",
       " 2: 0.6448840183581379,\n",
       " 3: 0.6436531597076417,\n",
       " 4: 0.6374125674225137,\n",
       " 5: 0.650952150299524,\n",
       " 6: 0.6425604326676023,\n",
       " 7: 0.6432934132239698,\n",
       " 8: 0.6503626076638717,\n",
       " 9: 0.6332537250337582}"
      ]
     },
     "execution_count": 50,
     "metadata": {},
     "output_type": "execute_result"
    }
   ],
   "source": [
    "result"
   ]
  },
  {
   "cell_type": "code",
   "execution_count": 51,
   "id": "1e6d311d",
   "metadata": {},
   "outputs": [
    {
     "data": {
      "text/plain": [
       "0.005"
      ]
     },
     "execution_count": 51,
     "metadata": {},
     "output_type": "execute_result"
    }
   ],
   "source": [
    "round(np.std(list(result.values())), 3)\n",
    "# it's low -> model is stable"
   ]
  },
  {
   "cell_type": "markdown",
   "id": "47eb53ec",
   "metadata": {},
   "source": [
    "<h3>\n",
    "    Find lowest rmse\n",
    "</h3>"
   ]
  },
  {
   "cell_type": "code",
   "execution_count": 52,
   "id": "38121dbc",
   "metadata": {},
   "outputs": [
    {
     "data": {
      "text/plain": [
       "0.6332537250337582"
      ]
     },
     "execution_count": 52,
     "metadata": {},
     "output_type": "execute_result"
    }
   ],
   "source": [
    "min(list(result.values()))"
   ]
  },
  {
   "cell_type": "markdown",
   "id": "de26729a",
   "metadata": {},
   "source": [
    "# Q6"
   ]
  },
  {
   "cell_type": "code",
   "execution_count": 53,
   "id": "5300419e",
   "metadata": {},
   "outputs": [],
   "source": [
    "class RidgePrediction:\n",
    "    '''\n",
    "    In this model we won't\n",
    "    split full_train into\n",
    "    sub-chunks\n",
    "    '''\n",
    "    def __init__(self, model, df, seed, dv, r, base):\n",
    "        self.model = model\n",
    "        self.df = df.copy()\n",
    "        self.seed = seed\n",
    "        self.dv_full_train = dv\n",
    "        self.r = r\n",
    "        self.base = base\n",
    "        \n",
    "    def __call__(self):\n",
    "        self._transform_df()\n",
    "        full_train, test = self._split_data()\n",
    "        \n",
    "        # target\n",
    "        self.y_full = self._target(full_train)\n",
    "        self.y_test = self._target(test)\n",
    "        \n",
    "        # dict data\n",
    "        full_dict = self._data_preparation(full_train)\n",
    "        test_dict = self._data_preparation(test)\n",
    "        \n",
    "        # X full-train\n",
    "        self.X_full = self._dv_fit_full_train(full_dict)\n",
    "        \n",
    "        # Trnasform test chunk\n",
    "        self.X_test = self._dv_transform(test_dict)\n",
    "        \n",
    "        self._train_model(self.X_full, self.y_full)\n",
    "        prediction = self._prediction(self.X_test)\n",
    "        final = self._rmse(self.y_test, prediction)\n",
    "        return final\n",
    "    \n",
    "    def _transform_df(self):\n",
    "        df_base = self.df[self.base]\n",
    "        \n",
    "        np.random.seed(self.seed)\n",
    "        length = len(df_base)\n",
    "        array_length = np.arange(length)\n",
    "        np.random.shuffle(array_length)\n",
    "\n",
    "        df_shuffle = df_base.iloc[array_length]\n",
    "        self.df = df_shuffle.reset_index(drop=True)\n",
    "        \n",
    "\n",
    "    def _split_data(self):\n",
    "        full_train, df_test = train_test_split(self.df, test_size=0.2, random_state=self.seed)\n",
    "        \n",
    "        full_train = full_train.fillna(0)\n",
    "        df_test = df_test.fillna(0)\n",
    "        \n",
    "        return full_train, df_test\n",
    "    \n",
    "    def _target(self, data):\n",
    "        y_data = np.log1p(data.price.values)\n",
    "        del data['price']\n",
    "        return y_data\n",
    "\n",
    "    def _data_preparation(self, data):\n",
    "        dict_data = data.to_dict(orient='records')\n",
    "        return dict_data\n",
    "    \n",
    "    def _dv_fit_full_train(self, data):\n",
    "        X = self.dv_full_train.fit_transform(data)\n",
    "        return X\n",
    "    \n",
    "    def _dv_transform(self, data):\n",
    "        X = self.dv_full_train.transform(data)\n",
    "        return X\n",
    "    \n",
    "    def _train_model(self, X, y):\n",
    "        self.model.fit(X, y, sample_weight=self.r)\n",
    "\n",
    "    def _prediction(self, data):\n",
    "        result = self.model.predict(data)\n",
    "        return result\n",
    "        \n",
    "    def _rmse(self, target, pred):\n",
    "        return np.sqrt(mean_squared_error(target, pred))\n",
    "    "
   ]
  },
  {
   "cell_type": "code",
   "execution_count": 54,
   "id": "aefb45ff",
   "metadata": {},
   "outputs": [],
   "source": [
    "base = ['latitude', 'longitude', 'price', 'minimum_nights',\n",
    "        'number_of_reviews', 'reviews_per_month', 'calculated_host_listings_count', 'availability_365']\n",
    "\n",
    "prediction_result = RidgePrediction(Ridge(), df, 9, DictVectorizer(sparse=True), 0.001, base)\n",
    "result = prediction_result()"
   ]
  },
  {
   "cell_type": "code",
   "execution_count": 55,
   "id": "9c036396",
   "metadata": {},
   "outputs": [
    {
     "data": {
      "text/plain": [
       "0.6756138531982882"
      ]
     },
     "execution_count": 55,
     "metadata": {},
     "output_type": "execute_result"
    }
   ],
   "source": [
    "result"
   ]
  },
  {
   "cell_type": "markdown",
   "id": "d3df7f4a",
   "metadata": {},
   "source": [
    "# Result"
   ]
  },
  {
   "cell_type": "raw",
   "id": "dd865fc2",
   "metadata": {},
   "source": [
    "As we see rmse() of LienarRegression is a little bit better. But we check it on valid. We need also to\n",
    "try it on test with full_train\n",
    "\n",
    "I'll take class of LinearRegression from above and tweak it."
   ]
  },
  {
   "cell_type": "code",
   "execution_count": 111,
   "id": "bd8d5d12",
   "metadata": {},
   "outputs": [
    {
     "name": "stdout",
     "output_type": "stream",
     "text": [
      "The history saving thread hit an unexpected error (OperationalError('database or disk is full')).History will not be written to the database.\n"
     ]
    }
   ],
   "source": [
    "class LinearPrediction:\n",
    "    '''\n",
    "    1. At first we transform all df\n",
    "    into desired one, i.e. base + shuffle\n",
    "    \n",
    "    2. Then  we split in desired chunks\n",
    "    \n",
    "    3. all further analysis is done\n",
    "    with the help of sklearn\n",
    "    '''\n",
    "    def __init__(self, model, df, seed, dv, base):\n",
    "        self.model = model\n",
    "        self.df = df.copy()\n",
    "        self.seed = seed\n",
    "        self.dv_full_train = dv\n",
    "        self.base = base\n",
    "        \n",
    "    def __call__(self):\n",
    "        self._transform_df()\n",
    "        full_train, test = self._split_data()\n",
    "        \n",
    "        # target\n",
    "        self.y_full = self._target(full_train)\n",
    "        self.y_test = self._target(test)\n",
    "        \n",
    "        # dict data\n",
    "        full_dict = self._data_preparation(full_train)\n",
    "        test_dict = self._data_preparation(test)\n",
    "        \n",
    "        # X full-train\n",
    "        self.X_full = self._dv_fit_full_train(full_dict)\n",
    "        \n",
    "        # At first we transform valid on train\n",
    "        self.X_test = self._dv_transform(test_dict)\n",
    "        \n",
    "        self._train_model(self.X_full, self.y_full)\n",
    "        prediction = self._prediction(self.X_test)\n",
    "        final = self._rmse(self.y_test, prediction)\n",
    "        return final\n",
    "        \n",
    "    def _transform_df(self):\n",
    "        df_base = self.df[self.base]\n",
    "        \n",
    "        np.random.seed(self.seed)\n",
    "        length = len(df_base)\n",
    "        array_length = np.arange(length)\n",
    "        np.random.shuffle(array_length)\n",
    "\n",
    "        df_shuffle = df_base.iloc[array_length]\n",
    "        self.df = df_shuffle.reset_index(drop=True)\n",
    "\n",
    "    def _split_data(self):\n",
    "        full_train, df_test = train_test_split(self.df, test_size=0.2, random_state=self.seed)\n",
    "        \n",
    "        full_train = full_train.fillna(0)\n",
    "        df_test = df_test.fillna(0)\n",
    "        \n",
    "        return full_train, df_test\n",
    "    \n",
    "    def _target(self, data):\n",
    "        y_data = np.log1p(data.price.values)\n",
    "        del data['price']\n",
    "        return y_data\n",
    "\n",
    "    def _data_preparation(self, data):\n",
    "        dict_data = data.to_dict(orient='records')\n",
    "        return dict_data\n",
    "    \n",
    "    def _dv_fit_full_train(self, data):\n",
    "        X = self.dv_full_train.fit_transform(data)\n",
    "        return X\n",
    "    \n",
    "    def _dv_transform(self, data):\n",
    "        X = self.dv_full_train.transform(data)\n",
    "        return X\n",
    "    \n",
    "    def _train_model(self, X, y):\n",
    "        self.model.fit(X, y)\n",
    "\n",
    "    def _prediction(self, data):\n",
    "        result = self.model.predict(data)\n",
    "        return result\n",
    "        \n",
    "    def _rmse(self, target, pred):\n",
    "        return np.sqrt(mean_squared_error(target, pred))\n",
    "    "
   ]
  },
  {
   "cell_type": "code",
   "execution_count": 112,
   "id": "853231a3",
   "metadata": {},
   "outputs": [],
   "source": [
    "# use 9 as seed\n",
    "prediction_result = LinearPrediction(LinearRegression(), df, 9, DictVectorizer(sparse=True), base)\n",
    "final = prediction_result()"
   ]
  },
  {
   "cell_type": "code",
   "execution_count": 113,
   "id": "113c18d4",
   "metadata": {},
   "outputs": [
    {
     "data": {
      "text/plain": [
       "0.6344584155022568"
      ]
     },
     "execution_count": 113,
     "metadata": {},
     "output_type": "execute_result"
    }
   ],
   "source": [
    "final"
   ]
  },
  {
   "cell_type": "raw",
   "id": "1a92d649",
   "metadata": {},
   "source": [
    "=> still LinearRegression is better"
   ]
  },
  {
   "cell_type": "markdown",
   "id": "41d53ab4",
   "metadata": {},
   "source": [
    "# Model usage"
   ]
  },
  {
   "cell_type": "code",
   "execution_count": 114,
   "id": "183a543c",
   "metadata": {},
   "outputs": [],
   "source": [
    "import random\n",
    "\n",
    "def get_random(start=2, end=9750):\n",
    "    return random.randint(start, end)"
   ]
  },
  {
   "cell_type": "code",
   "execution_count": 132,
   "id": "1cec1fa6",
   "metadata": {},
   "outputs": [],
   "source": [
    "# take idx from test chunk and let's predict price\n",
    "# using `final` as it encompasses model.\n",
    "\n",
    "# !!Important: use `y_data` to extract initial price\n",
    "def check_price():\n",
    "    \n",
    "    all_data = {}\n",
    "\n",
    "    while len(all_data) != 10:\n",
    "        random_idx = get_random()\n",
    "        test_data = df_test.iloc[random_idx].fillna(0)\n",
    "        \n",
    "        # transform to dict\n",
    "        dict_data = test_data.to_dict()\n",
    "        \n",
    "        # transform to 2D array\n",
    "        X = prediction_result._dv_transform(dict_data)\n",
    "        \n",
    "        # prediction\n",
    "        final_price = np.expm1(prediction_result._prediction(X)[0])\n",
    "        \n",
    "        real_price = np.expm1(y_test[random_idx])\n",
    "        all_data[random_idx] = [round(real_price, 2), round(final_price, 2)]\n",
    "    \n",
    "    return all_data"
   ]
  },
  {
   "cell_type": "code",
   "execution_count": 133,
   "id": "e1cd1814",
   "metadata": {},
   "outputs": [],
   "source": [
    "all_prices = check_price()"
   ]
  },
  {
   "cell_type": "code",
   "execution_count": 134,
   "id": "80b9483c",
   "metadata": {},
   "outputs": [
    {
     "data": {
      "text/plain": [
       "{5750: [250.0, 89.58],\n",
       " 3884: [299.0, 141.25],\n",
       " 3663: [70.0, 121.91],\n",
       " 4512: [110.0, 143.93],\n",
       " 6498: [60.0, 99.74],\n",
       " 4469: [75.0, 95.24],\n",
       " 4864: [64.0, 122.79],\n",
       " 6380: [70.0, 112.26],\n",
       " 3268: [125.0, 95.09],\n",
       " 2689: [150.0, 109.72]}"
      ]
     },
     "execution_count": 134,
     "metadata": {},
     "output_type": "execute_result"
    }
   ],
   "source": [
    "all_prices"
   ]
  },
  {
   "cell_type": "code",
   "execution_count": null,
   "id": "151998fc",
   "metadata": {},
   "outputs": [],
   "source": []
  }
 ],
 "metadata": {
  "kernelspec": {
   "display_name": "Python 3",
   "language": "python",
   "name": "python3"
  },
  "language_info": {
   "codemirror_mode": {
    "name": "ipython",
    "version": 3
   },
   "file_extension": ".py",
   "mimetype": "text/x-python",
   "name": "python",
   "nbconvert_exporter": "python",
   "pygments_lexer": "ipython3",
   "version": "3.8.10"
  }
 },
 "nbformat": 4,
 "nbformat_minor": 5
}
