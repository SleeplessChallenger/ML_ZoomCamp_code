{
 "cells": [
  {
   "cell_type": "code",
   "execution_count": 2,
   "id": "e9205307",
   "metadata": {},
   "outputs": [],
   "source": [
    "import numpy as np"
   ]
  },
  {
   "cell_type": "markdown",
   "id": "10ee8f4c",
   "metadata": {},
   "source": [
    "# One-dimensional arrays"
   ]
  },
  {
   "cell_type": "code",
   "execution_count": 3,
   "id": "64eafcc4",
   "metadata": {},
   "outputs": [
    {
     "data": {
      "text/plain": [
       "array([0., 0., 0., 0., 0.])"
      ]
     },
     "execution_count": 3,
     "metadata": {},
     "output_type": "execute_result"
    }
   ],
   "source": [
    "# create array of zeros\n",
    "np.zeros(5)"
   ]
  },
  {
   "cell_type": "code",
   "execution_count": 4,
   "id": "7ee39eae",
   "metadata": {},
   "outputs": [
    {
     "data": {
      "text/plain": [
       "array([1., 1., 1., 1., 1.])"
      ]
     },
     "execution_count": 4,
     "metadata": {},
     "output_type": "execute_result"
    }
   ],
   "source": [
    "# create array of ones\n",
    "np.ones(5)"
   ]
  },
  {
   "cell_type": "code",
   "execution_count": 5,
   "id": "94edc326",
   "metadata": {},
   "outputs": [
    {
     "data": {
      "text/plain": [
       "array([2.5, 2.5, 2.5, 2.5, 2.5, 2.5, 2.5, 2.5, 2.5, 2.5])"
      ]
     },
     "execution_count": 5,
     "metadata": {},
     "output_type": "execute_result"
    }
   ],
   "source": [
    "# to define size and value with which to fill\n",
    "np.full(10, 2.5)"
   ]
  },
  {
   "cell_type": "code",
   "execution_count": 12,
   "id": "e33b0654",
   "metadata": {},
   "outputs": [
    {
     "data": {
      "text/plain": [
       "array([  3,   1,   6,   7,   3, 653,   9])"
      ]
     },
     "execution_count": 12,
     "metadata": {},
     "output_type": "execute_result"
    }
   ],
   "source": [
    "# create numpy array out of python one\n",
    "arr = np.array([3, 1, 6, 7, 3, 653, 9])\n",
    "arr"
   ]
  },
  {
   "cell_type": "code",
   "execution_count": 13,
   "id": "03334166",
   "metadata": {},
   "outputs": [
    {
     "data": {
      "text/plain": [
       "3"
      ]
     },
     "execution_count": 13,
     "metadata": {},
     "output_type": "execute_result"
    }
   ],
   "source": [
    "arr[4]"
   ]
  },
  {
   "cell_type": "code",
   "execution_count": 15,
   "id": "28caff5b",
   "metadata": {},
   "outputs": [
    {
     "data": {
      "text/plain": [
       "array([  3,   2,   6,   7,   3, 653,   9])"
      ]
     },
     "execution_count": 15,
     "metadata": {},
     "output_type": "execute_result"
    }
   ],
   "source": [
    "arr[1] = 2\n",
    "arr"
   ]
  },
  {
   "cell_type": "code",
   "execution_count": 16,
   "id": "c8207530",
   "metadata": {},
   "outputs": [
    {
     "data": {
      "text/plain": [
       "array([0, 1, 2, 3, 4, 5, 6, 7, 8, 9])"
      ]
     },
     "execution_count": 16,
     "metadata": {},
     "output_type": "execute_result"
    }
   ],
   "source": [
    "# create range of particular size\n",
    "np.arange(10)"
   ]
  },
  {
   "cell_type": "code",
   "execution_count": 17,
   "id": "2a6f3fe6",
   "metadata": {},
   "outputs": [
    {
     "data": {
      "text/plain": [
       "array([3, 4, 5, 6, 7, 8, 9])"
      ]
     },
     "execution_count": 17,
     "metadata": {},
     "output_type": "execute_result"
    }
   ],
   "source": [
    "np.arange(3, 10)"
   ]
  },
  {
   "cell_type": "code",
   "execution_count": 19,
   "id": "f344e04e",
   "metadata": {},
   "outputs": [
    {
     "data": {
      "text/plain": [
       "array([ 2.        ,  3.44444444,  4.88888889,  6.33333333,  7.77777778,\n",
       "        9.22222222, 10.66666667, 12.11111111, 13.55555556, 15.        ])"
      ]
     },
     "execution_count": 19,
     "metadata": {},
     "output_type": "execute_result"
    }
   ],
   "source": [
    "# array in the range of a particular size\n",
    "np.linspace(2, 15, 10)"
   ]
  },
  {
   "cell_type": "markdown",
   "id": "206cb302",
   "metadata": {},
   "source": [
    "# Multi-dimensional arrays"
   ]
  },
  {
   "cell_type": "code",
   "execution_count": 20,
   "id": "792074ff",
   "metadata": {},
   "outputs": [
    {
     "data": {
      "text/plain": [
       "array([[0., 0.],\n",
       "       [0., 0.],\n",
       "       [0., 0.],\n",
       "       [0., 0.],\n",
       "       [0., 0.]])"
      ]
     },
     "execution_count": 20,
     "metadata": {},
     "output_type": "execute_result"
    }
   ],
   "source": [
    "# specify dimensions of an array: rows & cols\n",
    "np.zeros((5, 2))"
   ]
  },
  {
   "cell_type": "code",
   "execution_count": 23,
   "id": "7cea5c5b",
   "metadata": {},
   "outputs": [
    {
     "data": {
      "text/plain": [
       "array([[ 3,  5,  1,  6],\n",
       "       [ 6,  2, 10, 54],\n",
       "       [54, 75,  1,  0]])"
      ]
     },
     "execution_count": 23,
     "metadata": {},
     "output_type": "execute_result"
    }
   ],
   "source": [
    "arr = np.array([\n",
    "    [3, 5, 1, 6],\n",
    "    [6, 2, 10, 54],\n",
    "    [54, 75, 1, 0]\n",
    "])\n",
    "\n",
    "arr"
   ]
  },
  {
   "cell_type": "code",
   "execution_count": 24,
   "id": "f542c63b",
   "metadata": {},
   "outputs": [
    {
     "data": {
      "text/plain": [
       "10"
      ]
     },
     "execution_count": 24,
     "metadata": {},
     "output_type": "execute_result"
    }
   ],
   "source": [
    "arr[1][2]"
   ]
  },
  {
   "cell_type": "code",
   "execution_count": 25,
   "id": "79b7fe00",
   "metadata": {},
   "outputs": [
    {
     "data": {
      "text/plain": [
       "array([[ 3,  5,  1,  6],\n",
       "       [ 6,  2, 10, 54],\n",
       "       [54, 55,  1,  0]])"
      ]
     },
     "execution_count": 25,
     "metadata": {},
     "output_type": "execute_result"
    }
   ],
   "source": [
    "arr[2][1] = 55\n",
    "arr"
   ]
  },
  {
   "cell_type": "code",
   "execution_count": 26,
   "id": "717e1027",
   "metadata": {},
   "outputs": [
    {
     "data": {
      "text/plain": [
       "array([ 6,  2, 10, 54])"
      ]
     },
     "execution_count": 26,
     "metadata": {},
     "output_type": "execute_result"
    }
   ],
   "source": [
    "arr[1]"
   ]
  },
  {
   "cell_type": "code",
   "execution_count": 27,
   "id": "8ebd4ccc",
   "metadata": {},
   "outputs": [
    {
     "data": {
      "text/plain": [
       "array([ 1, 10,  1])"
      ]
     },
     "execution_count": 27,
     "metadata": {},
     "output_type": "execute_result"
    }
   ],
   "source": [
    "# get only particular columns\n",
    "arr[:, 2]"
   ]
  },
  {
   "cell_type": "code",
   "execution_count": 29,
   "id": "b0abe5df",
   "metadata": {},
   "outputs": [
    {
     "data": {
      "text/plain": [
       "array([[  3, 101,   1,   6],\n",
       "       [  6, 102,  10,  54],\n",
       "       [ 54, 103,   1,   0]])"
      ]
     },
     "execution_count": 29,
     "metadata": {},
     "output_type": "execute_result"
    }
   ],
   "source": [
    "arr[:, 1] = [101, 102, 103]\n",
    "arr"
   ]
  },
  {
   "cell_type": "code",
   "execution_count": 30,
   "id": "0a0636b7",
   "metadata": {},
   "outputs": [
    {
     "data": {
      "text/plain": [
       "array([[0.06659575, 0.70433229],\n",
       "       [0.1239048 , 0.98631205],\n",
       "       [0.64725463, 0.54820955],\n",
       "       [0.14655424, 0.95934664],\n",
       "       [0.17838729, 0.01946963]])"
      ]
     },
     "execution_count": 30,
     "metadata": {},
     "output_type": "execute_result"
    }
   ],
   "source": [
    "# generate random arrays\n",
    "np.random.rand(5, 2)"
   ]
  },
  {
   "cell_type": "code",
   "execution_count": 31,
   "id": "696b3c4a",
   "metadata": {},
   "outputs": [
    {
     "data": {
      "text/plain": [
       "array([[0.22199317, 0.87073231, 0.20671916],\n",
       "       [0.91861091, 0.48841119, 0.61174386],\n",
       "       [0.76590786, 0.51841799, 0.2968005 ],\n",
       "       [0.18772123, 0.08074127, 0.7384403 ]])"
      ]
     },
     "execution_count": 31,
     "metadata": {},
     "output_type": "execute_result"
    }
   ],
   "source": [
    "# to make random numbers repeatable\n",
    "np.random.seed(5)\n",
    "np.random.rand(4, 3)"
   ]
  },
  {
   "cell_type": "code",
   "execution_count": 33,
   "id": "b553a92b",
   "metadata": {},
   "outputs": [
    {
     "data": {
      "text/plain": [
       "array([[ 1.10855471e-03, -2.89544069e-01],\n",
       "       [-1.11606630e+00, -1.28827567e-02],\n",
       "       [-3.78361464e-01, -4.81135363e-01],\n",
       "       [-1.51733118e+00, -4.90871981e-01],\n",
       "       [-2.40680579e-01, -6.47947460e-01]])"
      ]
     },
     "execution_count": 33,
     "metadata": {},
     "output_type": "execute_result"
    }
   ],
   "source": [
    "# if we want to take numbers from standard normal distribution\n",
    "np.random.seed(9)\n",
    "np.random.randn(5, 2)"
   ]
  },
  {
   "cell_type": "code",
   "execution_count": 34,
   "id": "e91cf35c",
   "metadata": {},
   "outputs": [
    {
     "data": {
      "text/plain": [
       "array([[49,  6],\n",
       "       [27,  5],\n",
       "       [21, 25],\n",
       "       [41, 30],\n",
       "       [16, 25]])"
      ]
     },
     "execution_count": 34,
     "metadata": {},
     "output_type": "execute_result"
    }
   ],
   "source": [
    "np.random.seed(7)\n",
    "np.random.randint(low=2, high=54, size=(5, 2))"
   ]
  },
  {
   "cell_type": "code",
   "execution_count": 35,
   "id": "277c0384",
   "metadata": {},
   "outputs": [
    {
     "data": {
      "text/plain": [
       "array([[50.11204637,  7.20511334, 26.84389801],\n",
       "       [49.98825008, 67.92299961, 80.37390361],\n",
       "       [38.09411331,  6.59363469, 28.81455993],\n",
       "       [90.95935277, 21.33853536, 45.21239618]])"
      ]
     },
     "execution_count": 35,
     "metadata": {},
     "output_type": "execute_result"
    }
   ],
   "source": [
    "# we can multiply every element by particular data\n",
    "100 * np.random.rand(4, 3)"
   ]
  },
  {
   "cell_type": "markdown",
   "id": "045ceeaa",
   "metadata": {},
   "source": [
    "# Elementwise operations"
   ]
  },
  {
   "cell_type": "code",
   "execution_count": 36,
   "id": "be3f55d2",
   "metadata": {},
   "outputs": [
    {
     "data": {
      "text/plain": [
       "array([0, 1, 2, 3, 4])"
      ]
     },
     "execution_count": 36,
     "metadata": {},
     "output_type": "execute_result"
    }
   ],
   "source": [
    "array = np.arange(5)\n",
    "array"
   ]
  },
  {
   "cell_type": "code",
   "execution_count": 37,
   "id": "ac2402d5",
   "metadata": {},
   "outputs": [
    {
     "data": {
      "text/plain": [
       "array([2, 3, 4, 5, 6])"
      ]
     },
     "execution_count": 37,
     "metadata": {},
     "output_type": "execute_result"
    }
   ],
   "source": [
    "array + 2"
   ]
  },
  {
   "cell_type": "code",
   "execution_count": 38,
   "id": "94c17d0b",
   "metadata": {},
   "outputs": [
    {
     "data": {
      "text/plain": [
       "array([0.  , 0.01, 0.02, 0.03, 0.04])"
      ]
     },
     "execution_count": 38,
     "metadata": {},
     "output_type": "execute_result"
    }
   ],
   "source": [
    "array / 100"
   ]
  },
  {
   "cell_type": "code",
   "execution_count": 41,
   "id": "8f416cab",
   "metadata": {},
   "outputs": [],
   "source": [
    "array2 = 10 + (array * 10)"
   ]
  },
  {
   "cell_type": "code",
   "execution_count": 42,
   "id": "7bcf3029",
   "metadata": {},
   "outputs": [
    {
     "data": {
      "text/plain": [
       "array([10, 21, 32, 43, 54])"
      ]
     },
     "execution_count": 42,
     "metadata": {},
     "output_type": "execute_result"
    }
   ],
   "source": [
    "array2 + array"
   ]
  },
  {
   "cell_type": "markdown",
   "id": "b65fe0b2",
   "metadata": {},
   "source": [
    "# Comparision operations"
   ]
  },
  {
   "cell_type": "code",
   "execution_count": 44,
   "id": "1777ed93",
   "metadata": {},
   "outputs": [
    {
     "data": {
      "text/plain": [
       "array([False, False, False,  True,  True])"
      ]
     },
     "execution_count": 44,
     "metadata": {},
     "output_type": "execute_result"
    }
   ],
   "source": [
    "array > 2"
   ]
  },
  {
   "cell_type": "code",
   "execution_count": 45,
   "id": "cd0b2dba",
   "metadata": {},
   "outputs": [
    {
     "data": {
      "text/plain": [
       "array([ True,  True,  True,  True,  True])"
      ]
     },
     "execution_count": 45,
     "metadata": {},
     "output_type": "execute_result"
    }
   ],
   "source": [
    "array2 > array"
   ]
  },
  {
   "cell_type": "code",
   "execution_count": 46,
   "id": "6ee33ad7",
   "metadata": {},
   "outputs": [
    {
     "data": {
      "text/plain": [
       "array([10, 20, 30, 40, 50])"
      ]
     },
     "execution_count": 46,
     "metadata": {},
     "output_type": "execute_result"
    }
   ],
   "source": [
    "# to see which elemnts are greater, not plain True/False\n",
    "array2[array2 > array]"
   ]
  },
  {
   "cell_type": "markdown",
   "id": "3e6e1f39",
   "metadata": {},
   "source": [
    "# Summarizing operations"
   ]
  },
  {
   "cell_type": "code",
   "execution_count": 47,
   "id": "b23b0110",
   "metadata": {},
   "outputs": [
    {
     "data": {
      "text/plain": [
       "0"
      ]
     },
     "execution_count": 47,
     "metadata": {},
     "output_type": "execute_result"
    }
   ],
   "source": [
    "array.min()"
   ]
  },
  {
   "cell_type": "code",
   "execution_count": 48,
   "id": "718973cd",
   "metadata": {},
   "outputs": [
    {
     "data": {
      "text/plain": [
       "50"
      ]
     },
     "execution_count": 48,
     "metadata": {},
     "output_type": "execute_result"
    }
   ],
   "source": [
    "array2.max()"
   ]
  },
  {
   "cell_type": "code",
   "execution_count": 49,
   "id": "9953ae0c",
   "metadata": {},
   "outputs": [
    {
     "data": {
      "text/plain": [
       "150"
      ]
     },
     "execution_count": 49,
     "metadata": {},
     "output_type": "execute_result"
    }
   ],
   "source": [
    "array2.sum()"
   ]
  },
  {
   "cell_type": "code",
   "execution_count": 50,
   "id": "f076a3dd",
   "metadata": {},
   "outputs": [
    {
     "data": {
      "text/plain": [
       "2.0"
      ]
     },
     "execution_count": 50,
     "metadata": {},
     "output_type": "execute_result"
    }
   ],
   "source": [
    "array.mean()"
   ]
  },
  {
   "cell_type": "code",
   "execution_count": 51,
   "id": "97e7f9d2",
   "metadata": {},
   "outputs": [
    {
     "data": {
      "text/plain": [
       "1.4142135623730951"
      ]
     },
     "execution_count": 51,
     "metadata": {},
     "output_type": "execute_result"
    }
   ],
   "source": [
    "array.std()"
   ]
  },
  {
   "cell_type": "code",
   "execution_count": 53,
   "id": "a37c3232",
   "metadata": {},
   "outputs": [
    {
     "data": {
      "text/plain": [
       "array([[0.93120602, 0.02489923, 0.60054892, 0.9501295 , 0.23030288],\n",
       "       [0.54848992, 0.90912837, 0.13316945, 0.52341258, 0.75040986],\n",
       "       [0.66901324, 0.46775286, 0.20484909, 0.49076589, 0.37238469]])"
      ]
     },
     "execution_count": 53,
     "metadata": {},
     "output_type": "execute_result"
    }
   ],
   "source": [
    "new_arr = np.random.rand(3, 5)\n",
    "new_arr"
   ]
  },
  {
   "cell_type": "code",
   "execution_count": 54,
   "id": "503db442",
   "metadata": {},
   "outputs": [
    {
     "data": {
      "text/plain": [
       "7.806462493198735"
      ]
     },
     "execution_count": 54,
     "metadata": {},
     "output_type": "execute_result"
    }
   ],
   "source": [
    "new_arr.sum()"
   ]
  },
  {
   "cell_type": "markdown",
   "id": "c03484a8",
   "metadata": {},
   "source": [
    "# Multiplication"
   ]
  },
  {
   "cell_type": "code",
   "execution_count": 12,
   "id": "1a1e854a",
   "metadata": {},
   "outputs": [],
   "source": [
    "u = np.arange(1,7)\n",
    "v = np.arange(3,9)"
   ]
  },
  {
   "cell_type": "code",
   "execution_count": 13,
   "id": "6ed3ea61",
   "metadata": {},
   "outputs": [
    {
     "data": {
      "text/plain": [
       "((6,), (6,))"
      ]
     },
     "execution_count": 13,
     "metadata": {},
     "output_type": "execute_result"
    }
   ],
   "source": [
    "u.shape, v.shape"
   ]
  },
  {
   "cell_type": "code",
   "execution_count": 14,
   "id": "717c469f",
   "metadata": {},
   "outputs": [],
   "source": [
    "def vector_multplication(u, v):\n",
    "    assert u.shape[0] == v.shape[0]\n",
    "    \n",
    "    result = 0\n",
    "    shape = u.shape[0]\n",
    "    for i in range(shape):\n",
    "        result += u[i] * v[i]\n",
    "    \n",
    "    return result"
   ]
  },
  {
   "cell_type": "code",
   "execution_count": 15,
   "id": "c36e5d12",
   "metadata": {},
   "outputs": [
    {
     "data": {
      "text/plain": [
       "133"
      ]
     },
     "execution_count": 15,
     "metadata": {},
     "output_type": "execute_result"
    }
   ],
   "source": [
    "vector_multplication(u, v)"
   ]
  },
  {
   "cell_type": "code",
   "execution_count": 16,
   "id": "722ca9c4",
   "metadata": {},
   "outputs": [
    {
     "data": {
      "text/plain": [
       "133"
      ]
     },
     "execution_count": 16,
     "metadata": {},
     "output_type": "execute_result"
    }
   ],
   "source": [
    "# analog of the one we did above is dot()\n",
    "u.dot(v)"
   ]
  },
  {
   "cell_type": "code",
   "execution_count": 25,
   "id": "f91bdb96",
   "metadata": {},
   "outputs": [
    {
     "data": {
      "text/plain": [
       "array([[0.90969502, 0.72492919, 0.06097546, 0.61336228],\n",
       "       [0.98125557, 0.05038929, 0.36204099, 0.78622776],\n",
       "       [0.71849521, 0.24262338, 0.67413969, 0.5627456 ],\n",
       "       [0.79831637, 0.3811175 , 0.61071928, 0.72627451],\n",
       "       [0.09863846, 0.11702187, 0.59105956, 0.91169733]])"
      ]
     },
     "execution_count": 25,
     "metadata": {},
     "output_type": "execute_result"
    }
   ],
   "source": [
    "arr = np.random.rand(5,4)\n",
    "arr"
   ]
  },
  {
   "cell_type": "code",
   "execution_count": 24,
   "id": "6c35a5a1",
   "metadata": {},
   "outputs": [
    {
     "data": {
      "text/plain": [
       "array([[0.65467089],\n",
       "       [0.8640165 ],\n",
       "       [0.00112854],\n",
       "       [0.228264  ]])"
      ]
     },
     "execution_count": 24,
     "metadata": {},
     "output_type": "execute_result"
    }
   ],
   "source": [
    "arr2 = np.random.rand(4,1)\n",
    "arr2"
   ]
  },
  {
   "cell_type": "code",
   "execution_count": null,
   "id": "d4037195",
   "metadata": {},
   "outputs": [],
   "source": [
    "[0.65467089]    [0.90969502, 0.72492919, 0.06097546, 0.61336228]  \n",
    "[0.8640165 ]    [0.98125557, 0.05038929, 0.36204099, 0.78622776]\n",
    "[0.00112854]    [0.71849521, 0.24262338, 0.67413969, 0.5627456 ]\n",
    "[0.228264  ]    [0.79831637, 0.3811175 , 0.61071928, 0.72627451]\n",
    "                [0.09863846, 0.11702187, 0.59105956, 0.91169733]\n",
    "    \n",
    "take row from matrix (right), then transpose and then multiply. After that sum."
   ]
  },
  {
   "cell_type": "code",
   "execution_count": 26,
   "id": "41dac7cc",
   "metadata": {},
   "outputs": [
    {
     "data": {
      "text/plain": [
       "array([[1.36197897],\n",
       "       [0.86581271],\n",
       "       [0.80922386],\n",
       "       [1.01839784],\n",
       "       [0.37445926]])"
      ]
     },
     "execution_count": 26,
     "metadata": {},
     "output_type": "execute_result"
    }
   ],
   "source": [
    "arr.dot(arr2)"
   ]
  },
  {
   "cell_type": "code",
   "execution_count": 36,
   "id": "a631e05d",
   "metadata": {},
   "outputs": [],
   "source": [
    "def matrix_vector_multiplication(U, v):\n",
    "    assert U.shape[1] == v.shape[0]\n",
    "    \n",
    "    rows = U.shape[0]\n",
    "    result = np.zeros(rows)\n",
    "    \n",
    "    for i in range(rows):\n",
    "        result[i] = vector_multplication(U[i], v)\n",
    "    \n",
    "    return result"
   ]
  },
  {
   "cell_type": "code",
   "execution_count": 37,
   "id": "d7361fc0",
   "metadata": {},
   "outputs": [
    {
     "data": {
      "text/plain": [
       "array([1.36197897, 0.86581271, 0.80922386, 1.01839784, 0.37445926])"
      ]
     },
     "execution_count": 37,
     "metadata": {},
     "output_type": "execute_result"
    }
   ],
   "source": [
    "matrix_vector_multiplication(arr, arr2)"
   ]
  },
  {
   "cell_type": "code",
   "execution_count": 38,
   "id": "6a00382d",
   "metadata": {},
   "outputs": [
    {
     "data": {
      "text/plain": [
       "array([[1.36197897],\n",
       "       [0.86581271],\n",
       "       [0.80922386],\n",
       "       [1.01839784],\n",
       "       [0.37445926]])"
      ]
     },
     "execution_count": 38,
     "metadata": {},
     "output_type": "execute_result"
    }
   ],
   "source": [
    "arr.dot(arr2)"
   ]
  },
  {
   "cell_type": "code",
   "execution_count": 39,
   "id": "dbc74e2f",
   "metadata": {},
   "outputs": [
    {
     "data": {
      "text/plain": [
       "array([[0.89243533, 0.12410723, 0.04428137, 0.62124557],\n",
       "       [0.61834981, 0.14940746, 0.69118653, 0.27252122],\n",
       "       [0.64132804, 0.23808549, 0.38230005, 0.04094243]])"
      ]
     },
     "execution_count": 39,
     "metadata": {},
     "output_type": "execute_result"
    }
   ],
   "source": [
    "# matrix-matrix multiplication\n",
    "arr = np.random.rand(3, 4)\n",
    "arr"
   ]
  },
  {
   "cell_type": "code",
   "execution_count": 40,
   "id": "e21a4b9f",
   "metadata": {},
   "outputs": [
    {
     "data": {
      "text/plain": [
       "array([[0.38636967, 0.24215796, 0.21396919],\n",
       "       [0.2764935 , 0.96289938, 0.66580138],\n",
       "       [0.74811041, 0.3835186 , 0.59052354],\n",
       "       [0.29541681, 0.19184521, 0.67754385]])"
      ]
     },
     "execution_count": 40,
     "metadata": {},
     "output_type": "execute_result"
    }
   ],
   "source": [
    "arr2 = np.random.rand(4, 3)\n",
    "arr2"
   ]
  },
  {
   "cell_type": "code",
   "execution_count": 41,
   "id": "4c268acf",
   "metadata": {},
   "outputs": [
    {
     "data": {
      "text/plain": [
       "array([[0.59577853, 0.47177882, 0.72065474],\n",
       "       [0.877813  , 0.61096746, 0.8245905 ],\n",
       "       [0.61171653, 0.53902885, 0.54923956]])"
      ]
     },
     "execution_count": 41,
     "metadata": {},
     "output_type": "execute_result"
    }
   ],
   "source": [
    "arr.dot(arr2)"
   ]
  },
  {
   "cell_type": "code",
   "execution_count": 42,
   "id": "223a5270",
   "metadata": {},
   "outputs": [],
   "source": [
    "def matrix_matrix_mult(U, V):\n",
    "    assert U.shape[1] == V.shape[0]\n",
    "    \n",
    "    num_rows = U.shape[0]\n",
    "    num_cols = V.shape[1]\n",
    "    \n",
    "    result = np.ones((num_rows, num_cols))\n",
    "    \n",
    "    for i in range(num_cols):\n",
    "        vi = V[:, i]\n",
    "        Uvi = matrix_vector_multiplication(U, vi)\n",
    "        result[:, i] = Uvi\n",
    "    \n",
    "    return result"
   ]
  },
  {
   "cell_type": "code",
   "execution_count": 43,
   "id": "a4d8c8ca",
   "metadata": {},
   "outputs": [
    {
     "data": {
      "text/plain": [
       "array([[0.59577853, 0.47177882, 0.72065474],\n",
       "       [0.877813  , 0.61096746, 0.8245905 ],\n",
       "       [0.61171653, 0.53902885, 0.54923956]])"
      ]
     },
     "execution_count": 43,
     "metadata": {},
     "output_type": "execute_result"
    }
   ],
   "source": [
    "matrix_matrix_mult(arr, arr2)"
   ]
  },
  {
   "cell_type": "raw",
   "id": "ac6b9a0c",
   "metadata": {},
   "source": [
    "col1 == row2; row1 == col2"
   ]
  },
  {
   "cell_type": "code",
   "execution_count": 44,
   "id": "c36bf8b7",
   "metadata": {},
   "outputs": [
    {
     "data": {
      "text/plain": [
       "array([[0.59577853, 0.47177882, 0.72065474],\n",
       "       [0.877813  , 0.61096746, 0.8245905 ],\n",
       "       [0.61171653, 0.53902885, 0.54923956]])"
      ]
     },
     "execution_count": 44,
     "metadata": {},
     "output_type": "execute_result"
    }
   ],
   "source": [
    "arr.dot(arr2)"
   ]
  },
  {
   "cell_type": "markdown",
   "id": "a69b31c5",
   "metadata": {},
   "source": [
    "# Identity matrix"
   ]
  },
  {
   "cell_type": "code",
   "execution_count": 71,
   "id": "6677267b",
   "metadata": {},
   "outputs": [
    {
     "data": {
      "text/plain": [
       "array([[1., 0., 0.],\n",
       "       [0., 1., 0.],\n",
       "       [0., 0., 1.]])"
      ]
     },
     "execution_count": 71,
     "metadata": {},
     "output_type": "execute_result"
    }
   ],
   "source": [
    "np.eye(3)"
   ]
  },
  {
   "cell_type": "code",
   "execution_count": 72,
   "id": "35282011",
   "metadata": {},
   "outputs": [
    {
     "data": {
      "text/plain": [
       "array([[0.89243533, 0.12410723, 0.04428137, 0.62124557],\n",
       "       [0.61834981, 0.14940746, 0.69118653, 0.27252122],\n",
       "       [0.64132804, 0.23808549, 0.38230005, 0.04094243]])"
      ]
     },
     "execution_count": 72,
     "metadata": {},
     "output_type": "execute_result"
    }
   ],
   "source": [
    "arr.dot(np.eye(4))"
   ]
  },
  {
   "cell_type": "code",
   "execution_count": 73,
   "id": "1f6cbb53",
   "metadata": {},
   "outputs": [
    {
     "data": {
      "text/plain": [
       "array([[ 4,  6,  1],\n",
       "       [ 8, 12, 76],\n",
       "       [54, 21,  9]])"
      ]
     },
     "execution_count": 73,
     "metadata": {},
     "output_type": "execute_result"
    }
   ],
   "source": [
    "arr_square = np.array([[4, 6, 1],\n",
    "                      [8, 12, 76],\n",
    "                      [54, 21, 9]])\n",
    "arr_square"
   ]
  },
  {
   "cell_type": "code",
   "execution_count": 74,
   "id": "94821d60",
   "metadata": {},
   "outputs": [
    {
     "data": {
      "text/plain": [
       "array([[-0.08378378, -0.00185811,  0.025     ],\n",
       "       [ 0.22702703, -0.00101351, -0.01666667],\n",
       "       [-0.02702703,  0.01351351, -0.        ]])"
      ]
     },
     "execution_count": 74,
     "metadata": {},
     "output_type": "execute_result"
    }
   ],
   "source": [
    "invert = np.linalg.inv(arr_square)\n",
    "invert"
   ]
  },
  {
   "cell_type": "code",
   "execution_count": 76,
   "id": "725be886",
   "metadata": {},
   "outputs": [
    {
     "data": {
      "text/plain": [
       "array([[ 1.00000000e+00, -2.77555756e-17,  3.88578059e-16],\n",
       "       [ 1.11022302e-16,  1.00000000e+00, -1.05471187e-15],\n",
       "       [ 0.00000000e+00,  0.00000000e+00,  1.00000000e+00]])"
      ]
     },
     "execution_count": 76,
     "metadata": {},
     "output_type": "execute_result"
    }
   ],
   "source": [
    "I = invert.dot(arr_square)\n",
    "I"
   ]
  },
  {
   "cell_type": "code",
   "execution_count": 77,
   "id": "9aa453fd",
   "metadata": {},
   "outputs": [
    {
     "data": {
      "text/plain": [
       "array([[ 4.,  6.,  1.],\n",
       "       [ 8., 12., 76.],\n",
       "       [54., 21.,  9.]])"
      ]
     },
     "execution_count": 77,
     "metadata": {},
     "output_type": "execute_result"
    }
   ],
   "source": [
    "arr_square.dot(I)"
   ]
  },
  {
   "cell_type": "code",
   "execution_count": null,
   "id": "39d3fc89",
   "metadata": {},
   "outputs": [],
   "source": []
  }
 ],
 "metadata": {
  "kernelspec": {
   "display_name": "Python 3",
   "language": "python",
   "name": "python3"
  },
  "language_info": {
   "codemirror_mode": {
    "name": "ipython",
    "version": 3
   },
   "file_extension": ".py",
   "mimetype": "text/x-python",
   "name": "python",
   "nbconvert_exporter": "python",
   "pygments_lexer": "ipython3",
   "version": "3.8.10"
  }
 },
 "nbformat": 4,
 "nbformat_minor": 5
}
