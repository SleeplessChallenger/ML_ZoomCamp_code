{
 "cells": [
  {
   "cell_type": "code",
   "execution_count": 1,
   "id": "e8ef72dc",
   "metadata": {},
   "outputs": [],
   "source": [
    "import pandas as pd\n",
    "import numpy as np\n",
    "\n",
    "from sklearn.model_selection import train_test_split\n",
    "\n",
    "import seaborn as sns\n",
    "from matplotlib import pyplot as plt\n",
    "%matplotlib inline"
   ]
  },
  {
   "cell_type": "code",
   "execution_count": 2,
   "id": "dfa1b196",
   "metadata": {},
   "outputs": [],
   "source": [
    "df = pd.read_csv('../linear_regression_models/AB_NYC_2019.csv')"
   ]
  },
  {
   "cell_type": "code",
   "execution_count": 3,
   "id": "b09875dd",
   "metadata": {},
   "outputs": [],
   "source": [
    "base = ['neighbourhood_group',\n",
    "       'room_type', 'latitude', 'longitude', 'price',\n",
    "       'minimum_nights', 'number_of_reviews', 'reviews_per_month',\n",
    "       'calculated_host_listings_count', 'availability_365']"
   ]
  },
  {
   "cell_type": "code",
   "execution_count": 4,
   "id": "587d6782",
   "metadata": {},
   "outputs": [],
   "source": [
    "df_base = df[base]"
   ]
  },
  {
   "cell_type": "code",
   "execution_count": 5,
   "id": "03eddedb",
   "metadata": {},
   "outputs": [
    {
     "data": {
      "text/plain": [
       "neighbourhood_group                   0\n",
       "room_type                             0\n",
       "latitude                              0\n",
       "longitude                             0\n",
       "price                                 0\n",
       "minimum_nights                        0\n",
       "number_of_reviews                     0\n",
       "reviews_per_month                 10052\n",
       "calculated_host_listings_count        0\n",
       "availability_365                      0\n",
       "dtype: int64"
      ]
     },
     "execution_count": 5,
     "metadata": {},
     "output_type": "execute_result"
    }
   ],
   "source": [
    "df_base.isnull().sum()"
   ]
  },
  {
   "cell_type": "code",
   "execution_count": 6,
   "id": "573981a3",
   "metadata": {},
   "outputs": [],
   "source": [
    "df_base = df_base.fillna(0)"
   ]
  },
  {
   "cell_type": "code",
   "execution_count": 7,
   "id": "9284993e",
   "metadata": {},
   "outputs": [],
   "source": [
    "# Let's make data look nicer\n",
    "\n",
    "df_base.columns = df_base.columns.str.lower().str.replace(\" \", \"_\")\n",
    "\n",
    "cols = list(df_base.dtypes[df_base.dtypes == 'object'].index)\n",
    "\n",
    "for col in cols:\n",
    "    df_base[col] = df_base[col].str.lower().str.replace(\" \", \"_\")"
   ]
  },
  {
   "cell_type": "code",
   "execution_count": 8,
   "id": "f373d621",
   "metadata": {},
   "outputs": [
    {
     "data": {
      "text/html": [
       "<div>\n",
       "<style scoped>\n",
       "    .dataframe tbody tr th:only-of-type {\n",
       "        vertical-align: middle;\n",
       "    }\n",
       "\n",
       "    .dataframe tbody tr th {\n",
       "        vertical-align: top;\n",
       "    }\n",
       "\n",
       "    .dataframe thead th {\n",
       "        text-align: right;\n",
       "    }\n",
       "</style>\n",
       "<table border=\"1\" class=\"dataframe\">\n",
       "  <thead>\n",
       "    <tr style=\"text-align: right;\">\n",
       "      <th></th>\n",
       "      <th>neighbourhood_group</th>\n",
       "      <th>room_type</th>\n",
       "      <th>latitude</th>\n",
       "      <th>longitude</th>\n",
       "      <th>price</th>\n",
       "      <th>minimum_nights</th>\n",
       "      <th>number_of_reviews</th>\n",
       "      <th>reviews_per_month</th>\n",
       "      <th>calculated_host_listings_count</th>\n",
       "      <th>availability_365</th>\n",
       "    </tr>\n",
       "  </thead>\n",
       "  <tbody>\n",
       "    <tr>\n",
       "      <th>0</th>\n",
       "      <td>brooklyn</td>\n",
       "      <td>private_room</td>\n",
       "      <td>40.64749</td>\n",
       "      <td>-73.97237</td>\n",
       "      <td>149</td>\n",
       "      <td>1</td>\n",
       "      <td>9</td>\n",
       "      <td>0.21</td>\n",
       "      <td>6</td>\n",
       "      <td>365</td>\n",
       "    </tr>\n",
       "    <tr>\n",
       "      <th>1</th>\n",
       "      <td>manhattan</td>\n",
       "      <td>entire_home/apt</td>\n",
       "      <td>40.75362</td>\n",
       "      <td>-73.98377</td>\n",
       "      <td>225</td>\n",
       "      <td>1</td>\n",
       "      <td>45</td>\n",
       "      <td>0.38</td>\n",
       "      <td>2</td>\n",
       "      <td>355</td>\n",
       "    </tr>\n",
       "    <tr>\n",
       "      <th>2</th>\n",
       "      <td>manhattan</td>\n",
       "      <td>private_room</td>\n",
       "      <td>40.80902</td>\n",
       "      <td>-73.94190</td>\n",
       "      <td>150</td>\n",
       "      <td>3</td>\n",
       "      <td>0</td>\n",
       "      <td>0.00</td>\n",
       "      <td>1</td>\n",
       "      <td>365</td>\n",
       "    </tr>\n",
       "  </tbody>\n",
       "</table>\n",
       "</div>"
      ],
      "text/plain": [
       "  neighbourhood_group        room_type  latitude  longitude  price  \\\n",
       "0            brooklyn     private_room  40.64749  -73.97237    149   \n",
       "1           manhattan  entire_home/apt  40.75362  -73.98377    225   \n",
       "2           manhattan     private_room  40.80902  -73.94190    150   \n",
       "\n",
       "   minimum_nights  number_of_reviews  reviews_per_month  \\\n",
       "0               1                  9               0.21   \n",
       "1               1                 45               0.38   \n",
       "2               3                  0               0.00   \n",
       "\n",
       "   calculated_host_listings_count  availability_365  \n",
       "0                               6               365  \n",
       "1                               2               355  \n",
       "2                               1               365  "
      ]
     },
     "execution_count": 8,
     "metadata": {},
     "output_type": "execute_result"
    }
   ],
   "source": [
    "df_base.head(3)"
   ]
  },
  {
   "cell_type": "markdown",
   "id": "5faaccb9",
   "metadata": {},
   "source": [
    "# Q1"
   ]
  },
  {
   "cell_type": "code",
   "execution_count": 9,
   "id": "ed8b584a",
   "metadata": {},
   "outputs": [
    {
     "data": {
      "text/plain": [
       "manhattan        21661\n",
       "brooklyn         20104\n",
       "queens            5666\n",
       "bronx             1091\n",
       "staten_island      373\n",
       "Name: neighbourhood_group, dtype: int64"
      ]
     },
     "execution_count": 9,
     "metadata": {},
     "output_type": "execute_result"
    }
   ],
   "source": [
    "df_base['neighbourhood_group'].value_counts()"
   ]
  },
  {
   "cell_type": "raw",
   "id": "cecc0a74",
   "metadata": {},
   "source": [
    "=> Manhattan in the most frequent observation"
   ]
  },
  {
   "cell_type": "code",
   "execution_count": 10,
   "id": "4faf9c94",
   "metadata": {},
   "outputs": [
    {
     "data": {
      "text/plain": [
       "48895"
      ]
     },
     "execution_count": 10,
     "metadata": {},
     "output_type": "execute_result"
    }
   ],
   "source": [
    "len(df_base)"
   ]
  },
  {
   "cell_type": "code",
   "execution_count": 11,
   "id": "f64e7949",
   "metadata": {},
   "outputs": [],
   "source": [
    "full_train, df_test = train_test_split(df_base, test_size=0.2, random_state=42)\n",
    "df_train, df_valid = train_test_split(full_train, test_size=0.25, random_state=42)"
   ]
  },
  {
   "cell_type": "code",
   "execution_count": 12,
   "id": "f15a16cd",
   "metadata": {},
   "outputs": [
    {
     "data": {
      "text/plain": [
       "(39116, 9779)"
      ]
     },
     "execution_count": 12,
     "metadata": {},
     "output_type": "execute_result"
    }
   ],
   "source": [
    "len(full_train), len(df_test)"
   ]
  },
  {
   "cell_type": "code",
   "execution_count": 13,
   "id": "8223fee8",
   "metadata": {},
   "outputs": [
    {
     "data": {
      "text/plain": [
       "(29337, 9779)"
      ]
     },
     "execution_count": 13,
     "metadata": {},
     "output_type": "execute_result"
    }
   ],
   "source": [
    "len(df_train), len(df_valid)"
   ]
  },
  {
   "cell_type": "code",
   "execution_count": 14,
   "id": "598f0447",
   "metadata": {},
   "outputs": [],
   "source": [
    "y_full_train = full_train['price'].values\n",
    "y_test = df_test['price'].values\n",
    "y_train = df_train['price'].values\n",
    "y_valid = df_valid['price'].values"
   ]
  },
  {
   "cell_type": "code",
   "execution_count": 15,
   "id": "fde3887c",
   "metadata": {},
   "outputs": [],
   "source": [
    "full_train = full_train.reset_index(drop=True)\n",
    "df_test = df_test.reset_index(drop=True)\n",
    "df_train = df_train.reset_index(drop=True)\n",
    "df_valid = df_valid.reset_index(drop=True)"
   ]
  },
  {
   "cell_type": "code",
   "execution_count": 16,
   "id": "0f3f1231",
   "metadata": {},
   "outputs": [],
   "source": [
    "del full_train['price']\n",
    "del df_test['price']\n",
    "del df_train['price']\n",
    "del df_valid['price']"
   ]
  },
  {
   "cell_type": "code",
   "execution_count": 17,
   "id": "6106983c",
   "metadata": {},
   "outputs": [],
   "source": [
    "y_full_train = (y_full_train >= 152).astype(int)\n",
    "y_test = (y_test >= 152).astype(int)\n",
    "y_train = (y_train >= 152).astype(int)\n",
    "y_valid = (y_valid >= 152).astype(int)"
   ]
  },
  {
   "cell_type": "markdown",
   "id": "89824583",
   "metadata": {},
   "source": [
    "# Q2"
   ]
  },
  {
   "cell_type": "code",
   "execution_count": 18,
   "id": "8c879281",
   "metadata": {},
   "outputs": [
    {
     "data": {
      "text/plain": [
       "neighbourhood_group                object\n",
       "room_type                          object\n",
       "latitude                          float64\n",
       "longitude                         float64\n",
       "minimum_nights                      int64\n",
       "number_of_reviews                   int64\n",
       "reviews_per_month                 float64\n",
       "calculated_host_listings_count      int64\n",
       "availability_365                    int64\n",
       "dtype: object"
      ]
     },
     "execution_count": 18,
     "metadata": {},
     "output_type": "execute_result"
    }
   ],
   "source": [
    "full_train.dtypes"
   ]
  },
  {
   "cell_type": "code",
   "execution_count": 19,
   "id": "475d8a6e",
   "metadata": {},
   "outputs": [
    {
     "data": {
      "text/plain": [
       "neighbourhood_group                   5\n",
       "room_type                             3\n",
       "latitude                          17462\n",
       "longitude                         13527\n",
       "minimum_nights                      100\n",
       "number_of_reviews                   376\n",
       "reviews_per_month                   903\n",
       "calculated_host_listings_count       47\n",
       "availability_365                    366\n",
       "dtype: int64"
      ]
     },
     "execution_count": 19,
     "metadata": {},
     "output_type": "execute_result"
    }
   ],
   "source": [
    "full_train.nunique()"
   ]
  },
  {
   "cell_type": "code",
   "execution_count": 20,
   "id": "7e08bc6d",
   "metadata": {},
   "outputs": [],
   "source": [
    "numerical = ['latitude', 'longitude', 'minimum_nights',\n",
    "            'number_of_reviews', 'reviews_per_month',\n",
    "            'calculated_host_listings_count', 'availability_365']\n",
    "\n",
    "categorical = ['neighbourhood_group', 'room_type']"
   ]
  },
  {
   "cell_type": "code",
   "execution_count": 21,
   "id": "cd111705",
   "metadata": {},
   "outputs": [],
   "source": [
    "# correlation matrix\n",
    "matrix = df_base[numerical].corr().to_dict()"
   ]
  },
  {
   "cell_type": "code",
   "execution_count": 22,
   "id": "3e6fecea",
   "metadata": {},
   "outputs": [],
   "source": [
    "def give_highest(matrix):\n",
    "    for key, inner_dict in matrix.items():\n",
    "        del inner_dict[key]\n",
    "        result = dict(sorted(inner_dict.items(), key=lambda item: item[1], reverse=True))\n",
    "        matrix[key] = result\n",
    "    \n",
    "    return matrix"
   ]
  },
  {
   "cell_type": "code",
   "execution_count": 23,
   "id": "8dfc79b1",
   "metadata": {
    "scrolled": true
   },
   "outputs": [
    {
     "data": {
      "text/plain": [
       "{'latitude': {'longitude': 0.08478836838942543,\n",
       "  'minimum_nights': 0.024869274138726128,\n",
       "  'calculated_host_listings_count': 0.019517351185378132,\n",
       "  'availability_365': -0.010983458290208541,\n",
       "  'number_of_reviews': -0.015388804497945684,\n",
       "  'reviews_per_month': -0.01875772712330614},\n",
       " 'longitude': {'reviews_per_month': 0.1385161659552922,\n",
       "  'latitude': 0.08478836838942543,\n",
       "  'availability_365': 0.08273074786310534,\n",
       "  'number_of_reviews': 0.05909428794877501,\n",
       "  'minimum_nights': -0.06274711429076898,\n",
       "  'calculated_host_listings_count': -0.11471279117178322},\n",
       " 'minimum_nights': {'availability_365': 0.14430306319924938,\n",
       "  'calculated_host_listings_count': 0.1279596294349121,\n",
       "  'latitude': 0.024869274138726128,\n",
       "  'longitude': -0.06274711429076898,\n",
       "  'number_of_reviews': -0.08011606824164533,\n",
       "  'reviews_per_month': -0.1249049651159733},\n",
       " 'number_of_reviews': {'reviews_per_month': 0.5894072970835077,\n",
       "  'availability_365': 0.17202758146293173,\n",
       "  'longitude': 0.05909428794877501,\n",
       "  'latitude': -0.015388804497945684,\n",
       "  'calculated_host_listings_count': -0.0723760605417757,\n",
       "  'minimum_nights': -0.08011606824164533},\n",
       " 'reviews_per_month': {'number_of_reviews': 0.5894072970835077,\n",
       "  'availability_365': 0.16373167028253482,\n",
       "  'longitude': 0.1385161659552922,\n",
       "  'latitude': -0.01875772712330614,\n",
       "  'calculated_host_listings_count': -0.0473120558784385,\n",
       "  'minimum_nights': -0.1249049651159733},\n",
       " 'calculated_host_listings_count': {'availability_365': 0.22570137219113445,\n",
       "  'minimum_nights': 0.1279596294349121,\n",
       "  'latitude': 0.019517351185378132,\n",
       "  'reviews_per_month': -0.0473120558784385,\n",
       "  'number_of_reviews': -0.0723760605417757,\n",
       "  'longitude': -0.11471279117178322},\n",
       " 'availability_365': {'calculated_host_listings_count': 0.22570137219113445,\n",
       "  'number_of_reviews': 0.17202758146293173,\n",
       "  'reviews_per_month': 0.16373167028253482,\n",
       "  'minimum_nights': 0.14430306319924938,\n",
       "  'longitude': 0.08273074786310534,\n",
       "  'latitude': -0.010983458290208541}}"
      ]
     },
     "execution_count": 23,
     "metadata": {},
     "output_type": "execute_result"
    }
   ],
   "source": [
    "give_highest(matrix)"
   ]
  },
  {
   "cell_type": "code",
   "execution_count": 25,
   "id": "dd505eab",
   "metadata": {
    "scrolled": true
   },
   "outputs": [
    {
     "data": {
      "text/plain": [
       "latitude                        latitude                          1.000000\n",
       "longitude                       longitude                         1.000000\n",
       "calculated_host_listings_count  calculated_host_listings_count    1.000000\n",
       "reviews_per_month               reviews_per_month                 1.000000\n",
       "minimum_nights                  minimum_nights                    1.000000\n",
       "number_of_reviews               number_of_reviews                 1.000000\n",
       "availability_365                availability_365                  1.000000\n",
       "number_of_reviews               reviews_per_month                 0.589407\n",
       "reviews_per_month               number_of_reviews                 0.589407\n",
       "availability_365                calculated_host_listings_count    0.225701\n",
       "calculated_host_listings_count  availability_365                  0.225701\n",
       "availability_365                number_of_reviews                 0.172028\n",
       "number_of_reviews               availability_365                  0.172028\n",
       "availability_365                reviews_per_month                 0.163732\n",
       "reviews_per_month               availability_365                  0.163732\n",
       "availability_365                minimum_nights                    0.144303\n",
       "minimum_nights                  availability_365                  0.144303\n",
       "longitude                       reviews_per_month                 0.138516\n",
       "reviews_per_month               longitude                         0.138516\n",
       "calculated_host_listings_count  minimum_nights                    0.127960\n",
       "minimum_nights                  calculated_host_listings_count    0.127960\n",
       "latitude                        longitude                         0.084788\n",
       "longitude                       latitude                          0.084788\n",
       "availability_365                longitude                         0.082731\n",
       "longitude                       availability_365                  0.082731\n",
       "                                number_of_reviews                 0.059094\n",
       "number_of_reviews               longitude                         0.059094\n",
       "latitude                        minimum_nights                    0.024869\n",
       "minimum_nights                  latitude                          0.024869\n",
       "calculated_host_listings_count  latitude                          0.019517\n",
       "latitude                        calculated_host_listings_count    0.019517\n",
       "availability_365                latitude                         -0.010983\n",
       "latitude                        availability_365                 -0.010983\n",
       "number_of_reviews               latitude                         -0.015389\n",
       "latitude                        number_of_reviews                -0.015389\n",
       "reviews_per_month               latitude                         -0.018758\n",
       "latitude                        reviews_per_month                -0.018758\n",
       "reviews_per_month               calculated_host_listings_count   -0.047312\n",
       "calculated_host_listings_count  reviews_per_month                -0.047312\n",
       "longitude                       minimum_nights                   -0.062747\n",
       "minimum_nights                  longitude                        -0.062747\n",
       "number_of_reviews               calculated_host_listings_count   -0.072376\n",
       "calculated_host_listings_count  number_of_reviews                -0.072376\n",
       "number_of_reviews               minimum_nights                   -0.080116\n",
       "minimum_nights                  number_of_reviews                -0.080116\n",
       "longitude                       calculated_host_listings_count   -0.114713\n",
       "calculated_host_listings_count  longitude                        -0.114713\n",
       "reviews_per_month               minimum_nights                   -0.124905\n",
       "minimum_nights                  reviews_per_month                -0.124905\n",
       "dtype: float64"
      ]
     },
     "execution_count": 25,
     "metadata": {},
     "output_type": "execute_result"
    }
   ],
   "source": [
    "df_base[numerical].corr().unstack().sort_values(ascending=False)"
   ]
  },
  {
   "cell_type": "markdown",
   "id": "1a501076",
   "metadata": {},
   "source": [
    "<h3>Turn price into binary</h3>"
   ]
  },
  {
   "cell_type": "code",
   "execution_count": 216,
   "id": "efb4bd8e",
   "metadata": {},
   "outputs": [],
   "source": [
    "above_average = (df_base.price >= 152).astype(int)"
   ]
  },
  {
   "cell_type": "code",
   "execution_count": 217,
   "id": "97ea1dd9",
   "metadata": {},
   "outputs": [
    {
     "data": {
      "text/plain": [
       "48895"
      ]
     },
     "execution_count": 217,
     "metadata": {},
     "output_type": "execute_result"
    }
   ],
   "source": [
    "len(above_average)"
   ]
  },
  {
   "cell_type": "code",
   "execution_count": 218,
   "id": "bc800c34",
   "metadata": {},
   "outputs": [],
   "source": [
    "new_df = pd.DataFrame()\n",
    "new_df['binary'] = above_average\n",
    "new_df['price'] = df_base.price"
   ]
  },
  {
   "cell_type": "code",
   "execution_count": 367,
   "id": "aadb6a8b",
   "metadata": {
    "scrolled": true
   },
   "outputs": [
    {
     "data": {
      "text/html": [
       "<div>\n",
       "<style scoped>\n",
       "    .dataframe tbody tr th:only-of-type {\n",
       "        vertical-align: middle;\n",
       "    }\n",
       "\n",
       "    .dataframe tbody tr th {\n",
       "        vertical-align: top;\n",
       "    }\n",
       "\n",
       "    .dataframe thead th {\n",
       "        text-align: right;\n",
       "    }\n",
       "</style>\n",
       "<table border=\"1\" class=\"dataframe\">\n",
       "  <thead>\n",
       "    <tr style=\"text-align: right;\">\n",
       "      <th></th>\n",
       "      <th>binary</th>\n",
       "      <th>price</th>\n",
       "    </tr>\n",
       "  </thead>\n",
       "  <tbody>\n",
       "    <tr>\n",
       "      <th>0</th>\n",
       "      <td>0</td>\n",
       "      <td>149</td>\n",
       "    </tr>\n",
       "    <tr>\n",
       "      <th>1</th>\n",
       "      <td>1</td>\n",
       "      <td>225</td>\n",
       "    </tr>\n",
       "    <tr>\n",
       "      <th>2</th>\n",
       "      <td>0</td>\n",
       "      <td>150</td>\n",
       "    </tr>\n",
       "    <tr>\n",
       "      <th>3</th>\n",
       "      <td>0</td>\n",
       "      <td>89</td>\n",
       "    </tr>\n",
       "    <tr>\n",
       "      <th>4</th>\n",
       "      <td>0</td>\n",
       "      <td>80</td>\n",
       "    </tr>\n",
       "  </tbody>\n",
       "</table>\n",
       "</div>"
      ],
      "text/plain": [
       "   binary  price\n",
       "0       0    149\n",
       "1       1    225\n",
       "2       0    150\n",
       "3       0     89\n",
       "4       0     80"
      ]
     },
     "execution_count": 367,
     "metadata": {},
     "output_type": "execute_result"
    }
   ],
   "source": [
    "new_df.head(5)"
   ]
  },
  {
   "cell_type": "markdown",
   "id": "3459bbd7",
   "metadata": {},
   "source": [
    "# Q3"
   ]
  },
  {
   "cell_type": "code",
   "execution_count": 220,
   "id": "1c1a23c4",
   "metadata": {},
   "outputs": [],
   "source": [
    "from sklearn.metrics import mutual_info_score"
   ]
  },
  {
   "cell_type": "code",
   "execution_count": 221,
   "id": "8cca04b9",
   "metadata": {},
   "outputs": [],
   "source": [
    "def calc_mutual(series):\n",
    "    return mutual_info_score(series, above_average)"
   ]
  },
  {
   "cell_type": "code",
   "execution_count": 222,
   "id": "7b00beb9",
   "metadata": {},
   "outputs": [],
   "source": [
    "result = df_base[categorical].apply(calc_mutual)"
   ]
  },
  {
   "cell_type": "code",
   "execution_count": 223,
   "id": "2f00b3c6",
   "metadata": {},
   "outputs": [
    {
     "data": {
      "text/html": [
       "<div>\n",
       "<style scoped>\n",
       "    .dataframe tbody tr th:only-of-type {\n",
       "        vertical-align: middle;\n",
       "    }\n",
       "\n",
       "    .dataframe tbody tr th {\n",
       "        vertical-align: top;\n",
       "    }\n",
       "\n",
       "    .dataframe thead th {\n",
       "        text-align: right;\n",
       "    }\n",
       "</style>\n",
       "<table border=\"1\" class=\"dataframe\">\n",
       "  <thead>\n",
       "    <tr style=\"text-align: right;\">\n",
       "      <th></th>\n",
       "      <th>Mut. info</th>\n",
       "    </tr>\n",
       "  </thead>\n",
       "  <tbody>\n",
       "    <tr>\n",
       "      <th>room_type</th>\n",
       "      <td>0.14</td>\n",
       "    </tr>\n",
       "    <tr>\n",
       "      <th>neighbourhood_group</th>\n",
       "      <td>0.05</td>\n",
       "    </tr>\n",
       "  </tbody>\n",
       "</table>\n",
       "</div>"
      ],
      "text/plain": [
       "                     Mut. info\n",
       "room_type                 0.14\n",
       "neighbourhood_group       0.05"
      ]
     },
     "execution_count": 223,
     "metadata": {},
     "output_type": "execute_result"
    }
   ],
   "source": [
    "round(result.sort_values(ascending=False).to_frame('Mut. info'), 2)"
   ]
  },
  {
   "cell_type": "markdown",
   "id": "6557fab1",
   "metadata": {},
   "source": [
    "# Q4"
   ]
  },
  {
   "cell_type": "code",
   "execution_count": 28,
   "id": "6edc01df",
   "metadata": {},
   "outputs": [],
   "source": [
    "from sklearn.linear_model import LogisticRegression\n",
    "from sklearn.feature_extraction import DictVectorizer"
   ]
  },
  {
   "cell_type": "code",
   "execution_count": 29,
   "id": "44451f62",
   "metadata": {},
   "outputs": [],
   "source": [
    "train_dict = df_train[categorical + numerical].to_dict(orient='records')\n",
    "valid_dict = df_valid[categorical + numerical].to_dict(orient='records')"
   ]
  },
  {
   "cell_type": "code",
   "execution_count": 30,
   "id": "01f30fb9",
   "metadata": {},
   "outputs": [],
   "source": [
    "dv = DictVectorizer(sparse=False)\n",
    "X_train = dv.fit_transform(train_dict)"
   ]
  },
  {
   "cell_type": "code",
   "execution_count": 31,
   "id": "b4ab89f5",
   "metadata": {
    "scrolled": false
   },
   "outputs": [
    {
     "data": {
      "text/plain": [
       "['availability_365',\n",
       " 'calculated_host_listings_count',\n",
       " 'latitude',\n",
       " 'longitude',\n",
       " 'minimum_nights',\n",
       " 'neighbourhood_group=bronx',\n",
       " 'neighbourhood_group=brooklyn',\n",
       " 'neighbourhood_group=manhattan',\n",
       " 'neighbourhood_group=queens',\n",
       " 'neighbourhood_group=staten_island',\n",
       " 'number_of_reviews',\n",
       " 'reviews_per_month',\n",
       " 'room_type=entire_home/apt',\n",
       " 'room_type=private_room',\n",
       " 'room_type=shared_room']"
      ]
     },
     "execution_count": 31,
     "metadata": {},
     "output_type": "execute_result"
    }
   ],
   "source": [
    "dv.get_feature_names()"
   ]
  },
  {
   "cell_type": "code",
   "execution_count": 32,
   "id": "267e65ea",
   "metadata": {},
   "outputs": [],
   "source": [
    "model = LogisticRegression(solver='liblinear', dual=False, max_iter=2000,\n",
    "                           C=1.0, random_state=42)"
   ]
  },
  {
   "cell_type": "code",
   "execution_count": 33,
   "id": "6517feeb",
   "metadata": {},
   "outputs": [
    {
     "data": {
      "text/plain": [
       "LogisticRegression(max_iter=2000, random_state=42, solver='liblinear')"
      ]
     },
     "execution_count": 33,
     "metadata": {},
     "output_type": "execute_result"
    }
   ],
   "source": [
    "model.fit(X_train, y_train)"
   ]
  },
  {
   "cell_type": "code",
   "execution_count": 34,
   "id": "6e97f763",
   "metadata": {},
   "outputs": [
    {
     "data": {
      "text/plain": [
       "array([-0.09158457])"
      ]
     },
     "execution_count": 34,
     "metadata": {},
     "output_type": "execute_result"
    }
   ],
   "source": [
    "model.intercept_"
   ]
  },
  {
   "cell_type": "code",
   "execution_count": 35,
   "id": "f122797f",
   "metadata": {
    "scrolled": true
   },
   "outputs": [
    {
     "data": {
      "text/plain": [
       "array([[ 3.000e-03,  4.000e-03, -5.818e+00, -3.166e+00, -1.100e-02,\n",
       "        -8.200e-02,  1.250e-01,  1.576e+00, -2.900e-02, -1.681e+00,\n",
       "        -3.000e-03, -4.200e-02,  1.957e+00, -8.200e-01, -1.228e+00]])"
      ]
     },
     "execution_count": 35,
     "metadata": {},
     "output_type": "execute_result"
    }
   ],
   "source": [
    "model.coef_.round(3)"
   ]
  },
  {
   "cell_type": "code",
   "execution_count": 36,
   "id": "2e4ebc85",
   "metadata": {},
   "outputs": [],
   "source": [
    "X_valid = dv.transform(valid_dict)"
   ]
  },
  {
   "cell_type": "code",
   "execution_count": 38,
   "id": "95a6933a",
   "metadata": {},
   "outputs": [],
   "source": [
    "soft_predictions = model.predict_proba(X_valid)[:, 1]"
   ]
  },
  {
   "cell_type": "code",
   "execution_count": 39,
   "id": "70c5e703",
   "metadata": {},
   "outputs": [
    {
     "data": {
      "text/plain": [
       "array([0.02878758, 0.59581868, 0.4262335 , ..., 0.11418704, 0.03457736,\n",
       "       0.52841542])"
      ]
     },
     "execution_count": 39,
     "metadata": {},
     "output_type": "execute_result"
    }
   ],
   "source": [
    "soft_predictions"
   ]
  },
  {
   "cell_type": "code",
   "execution_count": 40,
   "id": "cd781f14",
   "metadata": {
    "scrolled": true
   },
   "outputs": [
    {
     "data": {
      "text/plain": [
       "{'availability_365': 0.0,\n",
       " 'calculated_host_listings_count': 0.0,\n",
       " 'latitude': -5.82,\n",
       " 'longitude': -3.17,\n",
       " 'minimum_nights': -0.01,\n",
       " 'neighbourhood_group=bronx': -0.08,\n",
       " 'neighbourhood_group=brooklyn': 0.13,\n",
       " 'neighbourhood_group=manhattan': 1.58,\n",
       " 'neighbourhood_group=queens': -0.03,\n",
       " 'neighbourhood_group=staten_island': -1.68,\n",
       " 'number_of_reviews': -0.0,\n",
       " 'reviews_per_month': -0.04,\n",
       " 'room_type=entire_home/apt': 1.96,\n",
       " 'room_type=private_room': -0.82,\n",
       " 'room_type=shared_room': -1.23}"
      ]
     },
     "execution_count": 40,
     "metadata": {},
     "output_type": "execute_result"
    }
   ],
   "source": [
    "dict(zip(dv.get_feature_names(), model.coef_[0].round(2)))"
   ]
  },
  {
   "cell_type": "code",
   "execution_count": 41,
   "id": "4c51df69",
   "metadata": {},
   "outputs": [],
   "source": [
    "decision_threshold = (soft_predictions >= 0.5)"
   ]
  },
  {
   "cell_type": "code",
   "execution_count": 42,
   "id": "9bf35ca7",
   "metadata": {},
   "outputs": [
    {
     "data": {
      "text/plain": [
       "array([False,  True, False, ..., False, False,  True])"
      ]
     },
     "execution_count": 42,
     "metadata": {},
     "output_type": "execute_result"
    }
   ],
   "source": [
    "decision_threshold"
   ]
  },
  {
   "cell_type": "code",
   "execution_count": 238,
   "id": "a1b80ec4",
   "metadata": {},
   "outputs": [
    {
     "data": {
      "text/plain": [
       "0.79"
      ]
     },
     "execution_count": 238,
     "metadata": {},
     "output_type": "execute_result"
    }
   ],
   "source": [
    "round((decision_threshold == y_valid).mean(),2)"
   ]
  },
  {
   "cell_type": "code",
   "execution_count": 239,
   "id": "5de8e671",
   "metadata": {},
   "outputs": [],
   "source": [
    "df_temp = pd.DataFrame()\n",
    "df_temp['soft pred.'] = soft_predictions\n",
    "df_temp['pred.'] = decision_threshold.astype(int)\n",
    "df_temp['real data'] = y_valid\n",
    "df_temp['correct'] = df_temp['pred.'] == df_temp['real data']"
   ]
  },
  {
   "cell_type": "code",
   "execution_count": 240,
   "id": "755018f3",
   "metadata": {},
   "outputs": [
    {
     "data": {
      "text/html": [
       "<div>\n",
       "<style scoped>\n",
       "    .dataframe tbody tr th:only-of-type {\n",
       "        vertical-align: middle;\n",
       "    }\n",
       "\n",
       "    .dataframe tbody tr th {\n",
       "        vertical-align: top;\n",
       "    }\n",
       "\n",
       "    .dataframe thead th {\n",
       "        text-align: right;\n",
       "    }\n",
       "</style>\n",
       "<table border=\"1\" class=\"dataframe\">\n",
       "  <thead>\n",
       "    <tr style=\"text-align: right;\">\n",
       "      <th></th>\n",
       "      <th>soft pred.</th>\n",
       "      <th>pred.</th>\n",
       "      <th>real data</th>\n",
       "      <th>correct</th>\n",
       "    </tr>\n",
       "  </thead>\n",
       "  <tbody>\n",
       "    <tr>\n",
       "      <th>0</th>\n",
       "      <td>0.028788</td>\n",
       "      <td>0</td>\n",
       "      <td>0</td>\n",
       "      <td>True</td>\n",
       "    </tr>\n",
       "    <tr>\n",
       "      <th>1</th>\n",
       "      <td>0.595819</td>\n",
       "      <td>1</td>\n",
       "      <td>0</td>\n",
       "      <td>False</td>\n",
       "    </tr>\n",
       "    <tr>\n",
       "      <th>2</th>\n",
       "      <td>0.426234</td>\n",
       "      <td>0</td>\n",
       "      <td>1</td>\n",
       "      <td>False</td>\n",
       "    </tr>\n",
       "    <tr>\n",
       "      <th>3</th>\n",
       "      <td>0.074923</td>\n",
       "      <td>0</td>\n",
       "      <td>0</td>\n",
       "      <td>True</td>\n",
       "    </tr>\n",
       "    <tr>\n",
       "      <th>4</th>\n",
       "      <td>0.811784</td>\n",
       "      <td>1</td>\n",
       "      <td>1</td>\n",
       "      <td>True</td>\n",
       "    </tr>\n",
       "    <tr>\n",
       "      <th>...</th>\n",
       "      <td>...</td>\n",
       "      <td>...</td>\n",
       "      <td>...</td>\n",
       "      <td>...</td>\n",
       "    </tr>\n",
       "    <tr>\n",
       "      <th>9774</th>\n",
       "      <td>0.637550</td>\n",
       "      <td>1</td>\n",
       "      <td>1</td>\n",
       "      <td>True</td>\n",
       "    </tr>\n",
       "    <tr>\n",
       "      <th>9775</th>\n",
       "      <td>0.010139</td>\n",
       "      <td>0</td>\n",
       "      <td>0</td>\n",
       "      <td>True</td>\n",
       "    </tr>\n",
       "    <tr>\n",
       "      <th>9776</th>\n",
       "      <td>0.114187</td>\n",
       "      <td>0</td>\n",
       "      <td>0</td>\n",
       "      <td>True</td>\n",
       "    </tr>\n",
       "    <tr>\n",
       "      <th>9777</th>\n",
       "      <td>0.034577</td>\n",
       "      <td>0</td>\n",
       "      <td>0</td>\n",
       "      <td>True</td>\n",
       "    </tr>\n",
       "    <tr>\n",
       "      <th>9778</th>\n",
       "      <td>0.528415</td>\n",
       "      <td>1</td>\n",
       "      <td>0</td>\n",
       "      <td>False</td>\n",
       "    </tr>\n",
       "  </tbody>\n",
       "</table>\n",
       "<p>9779 rows × 4 columns</p>\n",
       "</div>"
      ],
      "text/plain": [
       "      soft pred.  pred.  real data  correct\n",
       "0       0.028788      0          0     True\n",
       "1       0.595819      1          0    False\n",
       "2       0.426234      0          1    False\n",
       "3       0.074923      0          0     True\n",
       "4       0.811784      1          1     True\n",
       "...          ...    ...        ...      ...\n",
       "9774    0.637550      1          1     True\n",
       "9775    0.010139      0          0     True\n",
       "9776    0.114187      0          0     True\n",
       "9777    0.034577      0          0     True\n",
       "9778    0.528415      1          0    False\n",
       "\n",
       "[9779 rows x 4 columns]"
      ]
     },
     "execution_count": 240,
     "metadata": {},
     "output_type": "execute_result"
    }
   ],
   "source": [
    "df_temp"
   ]
  },
  {
   "cell_type": "markdown",
   "id": "94d7397c",
   "metadata": {},
   "source": [
    "# Q5"
   ]
  },
  {
   "cell_type": "code",
   "execution_count": 315,
   "id": "11c1904c",
   "metadata": {},
   "outputs": [],
   "source": [
    "class FeatureElimination:\n",
    "    def __init__(self, initial_acc, train_df, valid_df, y_train, y_valid):\n",
    "        self.initial_acc = initial_acc\n",
    "        self.train_df = train_df\n",
    "        self.valid_df = valid_df\n",
    "        self.y_tr = y_train\n",
    "        self.y_val = y_valid\n",
    "        self.categorical = ['neighbourhood_group', 'room_type']\n",
    "        self.numerical = ['latitude', 'longitude', 'minimum_nights',\n",
    "            'number_of_reviews', 'reviews_per_month',\n",
    "            'calculated_host_listings_count', 'availability_365']\n",
    "        self.dv = DictVectorizer(sparse=False)\n",
    "        self.model = LogisticRegression(solver='liblinear', dual=False, max_iter=2000,\n",
    "                                        C=1.0, random_state=42)\n",
    "    \n",
    "    \n",
    "    def get_result(self):\n",
    "        all_features = self.categorical + self.numerical\n",
    "        levels = {}\n",
    "        \n",
    "        for i in range(len(all_features)):\n",
    "            curr_drop = all_features[i]\n",
    "            \n",
    "            features = self._remove_element(all_features, i)\n",
    "            X_train, X_valid = self._transform_data(self.train_df, self.valid_df, features)\n",
    "            \n",
    "            self._train_model(X_train, self.y_tr)\n",
    "            soft_predictions = self._predict_data(X_valid)\n",
    "            curr_acc = self._get_accuracy(soft_predictions)\n",
    "            \n",
    "            levels[curr_drop] = (round(curr_acc, 2), self.initial_acc - curr_acc)\n",
    "        \n",
    "        return levels    \n",
    "    \n",
    "    def _remove_element(self, features, idx):\n",
    "        if idx == 0:\n",
    "            features = features[1:]\n",
    "        elif idx == len(features) - 1:\n",
    "            features = features[:-1]\n",
    "        else:\n",
    "            features = features[:idx] + features[idx + 1:]\n",
    "        \n",
    "        return features\n",
    "    \n",
    "    def _transform_data(self, train, valid, features):\n",
    "        train_dict = train[features].to_dict(orient='records')\n",
    "        valid_dict = valid[features].to_dict(orient='records')\n",
    "        \n",
    "        X_train = dv.fit_transform(train_dict)\n",
    "        X_valid = dv.transform(valid_dict)\n",
    "        \n",
    "        return X_train, X_valid\n",
    "    \n",
    "    def _train_model(self, X, y):\n",
    "        self.model.fit(X, y)\n",
    "    \n",
    "    def _predict_data(self, X):\n",
    "        return self.model.predict_proba(X)[:, 1]\n",
    "    \n",
    "    def _get_accuracy(self, data, threshold=0.5):\n",
    "        price_level = (data >= threshold)\n",
    "        result = (price_level == self.y_val).mean()\n",
    "        return result\n"
   ]
  },
  {
   "cell_type": "code",
   "execution_count": 316,
   "id": "4b1be4d7",
   "metadata": {},
   "outputs": [
    {
     "data": {
      "text/plain": [
       "{'neighbourhood_group': (0.75, 0.040127824930974554),\n",
       " 'room_type': (0.73, 0.06006851416300241),\n",
       " 'latitude': (0.79, 0.003109724920748569),\n",
       " 'longitude': (0.79, 0.003007464975968932),\n",
       " 'minimum_nights': (0.79, -0.0014919725943347562),\n",
       " 'number_of_reviews': (0.79, -0.0014919725943347562),\n",
       " 'reviews_per_month': (0.79, -0.0007761529808774092),\n",
       " 'calculated_host_listings_count': (0.79, 0.00034870641169859606),\n",
       " 'availability_365': (0.78, 0.008631761938848626)}"
      ]
     },
     "execution_count": 316,
     "metadata": {},
     "output_type": "execute_result"
    }
   ],
   "source": [
    "feature_elim = FeatureElimination(0.79, df_train, df_valid, y_train, y_valid)\n",
    "feature_elim.get_result()"
   ]
  },
  {
   "cell_type": "raw",
   "id": "34327835",
   "metadata": {},
   "source": [
    "`reviews_per_month` is the least important"
   ]
  },
  {
   "cell_type": "markdown",
   "id": "41860673",
   "metadata": {},
   "source": [
    "# Q6"
   ]
  },
  {
   "cell_type": "code",
   "execution_count": 324,
   "id": "ae6cd4ef",
   "metadata": {},
   "outputs": [],
   "source": [
    "from sklearn.linear_model import Ridge\n",
    "from sklearn.model_selection import train_test_split"
   ]
  },
  {
   "cell_type": "code",
   "execution_count": 329,
   "id": "5bbb3219",
   "metadata": {},
   "outputs": [],
   "source": [
    "df_base.price = np.log1p(df_base.price)"
   ]
  },
  {
   "cell_type": "code",
   "execution_count": 330,
   "id": "1c4d8f65",
   "metadata": {},
   "outputs": [],
   "source": [
    "full_train, df_test = train_test_split(df_base, test_size=0.2, random_state=5)\n",
    "df_train, df_valid = train_test_split(full_train, test_size=0.25, random_state=5)"
   ]
  },
  {
   "cell_type": "code",
   "execution_count": 331,
   "id": "664a8c9d",
   "metadata": {},
   "outputs": [],
   "source": [
    "y_full_train = full_train.price.values\n",
    "y_test = df_test.price.values\n",
    "y_train = df_train.price.values\n",
    "y_valid = df_valid.price.values"
   ]
  },
  {
   "cell_type": "code",
   "execution_count": 332,
   "id": "813596b3",
   "metadata": {},
   "outputs": [],
   "source": [
    "del full_train['price']\n",
    "del df_test['price']\n",
    "del df_train['price']\n",
    "del df_valid['price']"
   ]
  },
  {
   "cell_type": "code",
   "execution_count": 334,
   "id": "0be3b2bf",
   "metadata": {
    "scrolled": false
   },
   "outputs": [
    {
     "data": {
      "text/plain": [
       "neighbourhood_group               0\n",
       "room_type                         0\n",
       "latitude                          0\n",
       "longitude                         0\n",
       "price                             0\n",
       "minimum_nights                    0\n",
       "number_of_reviews                 0\n",
       "reviews_per_month                 0\n",
       "calculated_host_listings_count    0\n",
       "availability_365                  0\n",
       "dtype: int64"
      ]
     },
     "execution_count": 334,
     "metadata": {},
     "output_type": "execute_result"
    }
   ],
   "source": [
    "df_base.isnull().sum()"
   ]
  },
  {
   "cell_type": "code",
   "execution_count": 353,
   "id": "8b96be09",
   "metadata": {},
   "outputs": [],
   "source": [
    "dict_train = df_train.to_dict(orient='records')\n",
    "dict_valid = df_valid.to_dict(orient='records')"
   ]
  },
  {
   "cell_type": "code",
   "execution_count": 354,
   "id": "84acc790",
   "metadata": {},
   "outputs": [],
   "source": [
    "dv = DictVectorizer(sparse=False)"
   ]
  },
  {
   "cell_type": "code",
   "execution_count": 355,
   "id": "e1acd64c",
   "metadata": {},
   "outputs": [],
   "source": [
    "X_train = dv.fit_transform(dict_train)\n",
    "X_valid = dv.transform(dict_valid)"
   ]
  },
  {
   "cell_type": "code",
   "execution_count": 364,
   "id": "ab19a139",
   "metadata": {},
   "outputs": [],
   "source": [
    "from sklearn.metrics import mean_squared_error\n",
    "\n",
    "def train_predict(a=0):\n",
    "    model = Ridge(alpha=a)\n",
    "    model.fit(X_train, y_train)\n",
    "    \n",
    "    pred = model.predict(X_valid)  \n",
    "    rmse = np.sqrt(mean_squared_error(y_valid, pred))\n",
    "    return round(rmse, 7)"
   ]
  },
  {
   "cell_type": "code",
   "execution_count": 365,
   "id": "aa395f20",
   "metadata": {},
   "outputs": [
    {
     "name": "stderr",
     "output_type": "stream",
     "text": [
      "/Users/daniilslobodenuk/opt/anaconda3/lib/python3.8/site-packages/sklearn/linear_model/_ridge.py:147: LinAlgWarning: Ill-conditioned matrix (rcond=5.83835e-21): result may not be accurate.\n",
      "  return linalg.solve(A, Xy, sym_pos=True,\n"
     ]
    }
   ],
   "source": [
    "results = {}\n",
    "\n",
    "for i in [0, 0.01, 0.1, 1, 10]:\n",
    "    results[i] = train_predict(a=i)"
   ]
  },
  {
   "cell_type": "code",
   "execution_count": 366,
   "id": "d3ce767a",
   "metadata": {},
   "outputs": [
    {
     "data": {
      "text/plain": [
       "{0: 0.4863137, 0.01: 0.4863136, 0.1: 0.486313, 1: 0.4863199, 10: 0.4870211}"
      ]
     },
     "execution_count": 366,
     "metadata": {},
     "output_type": "execute_result"
    }
   ],
   "source": [
    "results"
   ]
  },
  {
   "cell_type": "raw",
   "id": "32976ace",
   "metadata": {},
   "source": [
    "\"0.1: 0.486313\" is the smallest option"
   ]
  },
  {
   "cell_type": "code",
   "execution_count": null,
   "id": "adc5b261",
   "metadata": {},
   "outputs": [],
   "source": []
  }
 ],
 "metadata": {
  "kernelspec": {
   "display_name": "Python 3",
   "language": "python",
   "name": "python3"
  },
  "language_info": {
   "codemirror_mode": {
    "name": "ipython",
    "version": 3
   },
   "file_extension": ".py",
   "mimetype": "text/x-python",
   "name": "python",
   "nbconvert_exporter": "python",
   "pygments_lexer": "ipython3",
   "version": "3.8.10"
  }
 },
 "nbformat": 4,
 "nbformat_minor": 5
}
