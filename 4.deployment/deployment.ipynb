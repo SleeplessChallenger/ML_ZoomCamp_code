{
 "cells": [
  {
   "cell_type": "markdown",
   "id": "d706e52b",
   "metadata": {},
   "source": [
    "# Code from previous lessons"
   ]
  },
  {
   "cell_type": "code",
   "execution_count": 1,
   "id": "b3c5e653",
   "metadata": {},
   "outputs": [],
   "source": [
    "import pandas as pd\n",
    "import numpy as np\n",
    "import seaborn as sns\n",
    "from matplotlib import pyplot as plt\n",
    "%matplotlib inline\n",
    "\n",
    "from sklearn.model_selection import train_test_split\n",
    "from sklearn.feature_extraction import DictVectorizer\n",
    "from sklearn.linear_model import LogisticRegression\n",
    "from sklearn.metrics import roc_auc_score\n",
    "from sklearn.model_selection import KFold"
   ]
  },
  {
   "cell_type": "code",
   "execution_count": 14,
   "id": "4a63dab8",
   "metadata": {},
   "outputs": [],
   "source": [
    "df = pd.read_csv('../../churn-prediction/customers_data.csv')"
   ]
  },
  {
   "cell_type": "code",
   "execution_count": 3,
   "id": "ef8a9783",
   "metadata": {},
   "outputs": [],
   "source": [
    "df.columns = df.columns.str.lower().str.replace(\" \", \"_\")\n",
    "\n",
    "str_cols = list(df.dtypes[df.dtypes == 'object'].index)\n",
    "\n",
    "for col in str_cols:\n",
    "    df[col] = df[col].str.lower().str.replace(\" \", \"_\")\n",
    "    \n",
    "df.totalcharges = pd.to_numeric(df.totalcharges, errors='coerce')\n",
    "\n",
    "df.totalcharges = df.totalcharges.fillna(0)\n",
    "\n",
    "df.churn = (df.churn == 'yes').astype(int)"
   ]
  },
  {
   "cell_type": "code",
   "execution_count": 4,
   "id": "a8a84d56",
   "metadata": {},
   "outputs": [],
   "source": [
    "full_train, df_test = train_test_split(df, test_size=0.2, random_state=1)\n",
    "df_train, df_valid = train_test_split(full_train, test_size=0.25, random_state=1)"
   ]
  },
  {
   "cell_type": "code",
   "execution_count": 5,
   "id": "e6f74d81",
   "metadata": {},
   "outputs": [],
   "source": [
    "y_test = df_test.churn.values\n",
    "y_valid = df_valid.churn.values\n",
    "y_train = df_train.churn.values\n",
    "\n",
    "df_train = df_train.reset_index(drop=True)\n",
    "df_valid = df_valid.reset_index(drop=True)\n",
    "df_train = df_train.reset_index(drop=True)\n",
    "\n",
    "del df_test['churn']\n",
    "del df_valid['churn']\n",
    "del df_train['churn']"
   ]
  },
  {
   "cell_type": "code",
   "execution_count": 6,
   "id": "912217f1",
   "metadata": {},
   "outputs": [],
   "source": [
    "numerical = ['tenure', 'monthlycharges', 'totalcharges']\n",
    "\n",
    "categorical = ['gender', 'seniorcitizen', 'partner', 'dependents',\n",
    "               'phoneservice', 'multiplelines', 'internetservice',\n",
    "               'onlinesecurity', 'onlinebackup', 'deviceprotection',\n",
    "               'techsupport', 'streamingtv', 'streamingmovies',\n",
    "               'contract', 'paperlessbilling', 'paymentmethod']"
   ]
  },
  {
   "cell_type": "code",
   "execution_count": 7,
   "id": "731dbb81",
   "metadata": {},
   "outputs": [],
   "source": [
    "def train(df, y_train, C):\n",
    "    dicts = df[numerical + categorical].to_dict(orient='records')\n",
    "    \n",
    "    dv = DictVectorizer(sparse=False)\n",
    "    X_train = dv.fit_transform(dicts)\n",
    "    \n",
    "    model = LogisticRegression(solver='liblinear', dual=False, max_iter=2000,\n",
    "                                C=C, random_state=42)\n",
    "    model.fit(X_train, y_train)\n",
    "    \n",
    "    return dv, model"
   ]
  },
  {
   "cell_type": "code",
   "execution_count": 8,
   "id": "3dc19706",
   "metadata": {},
   "outputs": [],
   "source": [
    "def predict(df, dv, model):\n",
    "    valid = df[numerical + categorical].to_dict(orient='records')\n",
    "    X = dv.transform(valid)\n",
    "    y_pred = model.predict_proba(X)[:, 1]\n",
    "    \n",
    "    return y_pred"
   ]
  },
  {
   "cell_type": "code",
   "execution_count": 16,
   "id": "91dfdf6d",
   "metadata": {},
   "outputs": [],
   "source": [
    "kfold = KFold(n_splits=5, shuffle=True, random_state=1)\n",
    "C = 1.0"
   ]
  },
  {
   "cell_type": "code",
   "execution_count": 18,
   "id": "76fa1a72",
   "metadata": {},
   "outputs": [],
   "source": [
    "scores = []\n",
    "\n",
    "for trainIdx, validIdx in kfold.split(full_train):\n",
    "    df_train = full_train.iloc[trainIdx]\n",
    "    df_valid = full_train.iloc[validIdx]\n",
    "    \n",
    "    y_train = df_train.churn.values\n",
    "    y_valid = df_valid.churn.values\n",
    "    \n",
    "    dv, model = train(df_train, y_train, C=C)\n",
    "    y_pred = predict(df_valid, dv, model)\n",
    "    \n",
    "    auc = roc_auc_score(y_valid, y_pred)\n",
    "    scores.append(auc)"
   ]
  },
  {
   "cell_type": "code",
   "execution_count": 20,
   "id": "b95795d6",
   "metadata": {},
   "outputs": [
    {
     "data": {
      "text/plain": [
       "(0.8411783377274789, 0.007388401938629943)"
      ]
     },
     "execution_count": 20,
     "metadata": {},
     "output_type": "execute_result"
    }
   ],
   "source": [
    "np.mean(scores), np.std(scores)"
   ]
  },
  {
   "cell_type": "code",
   "execution_count": 11,
   "id": "27076e39",
   "metadata": {},
   "outputs": [],
   "source": [
    "dv, model = train(full_train, full_train.churn.values, C=1.0)\n",
    "y_pred = predict(df_test, dv, model)\n",
    "\n",
    "auc = roc_auc_score(y_test, y_pred)"
   ]
  },
  {
   "cell_type": "code",
   "execution_count": 12,
   "id": "ca85717d",
   "metadata": {},
   "outputs": [
    {
     "data": {
      "text/plain": [
       "0.8579400803839363"
      ]
     },
     "execution_count": 12,
     "metadata": {},
     "output_type": "execute_result"
    }
   ],
   "source": [
    "auc"
   ]
  },
  {
   "cell_type": "markdown",
   "id": "3dfee116",
   "metadata": {},
   "source": [
    "# Saving the model"
   ]
  },
  {
   "cell_type": "code",
   "execution_count": 21,
   "id": "4c37879d",
   "metadata": {},
   "outputs": [],
   "source": [
    "import pickle"
   ]
  },
  {
   "cell_type": "code",
   "execution_count": 22,
   "id": "d3105117",
   "metadata": {},
   "outputs": [],
   "source": [
    "with open(f'model_C={C}.bin', 'wb') as churn_model:\n",
    "    pickle.dump((dv, model), churn_model)"
   ]
  },
  {
   "cell_type": "code",
   "execution_count": 23,
   "id": "52db006e",
   "metadata": {},
   "outputs": [],
   "source": [
    "with open('model_C=1.0.bin', 'rb') as churn_res:\n",
    "    dv, model = pickle.load(churn_res)"
   ]
  },
  {
   "cell_type": "code",
   "execution_count": 26,
   "id": "393d3091",
   "metadata": {},
   "outputs": [
    {
     "data": {
      "text/plain": [
       "(DictVectorizer(sparse=False),\n",
       " LogisticRegression(max_iter=2000, random_state=42, solver='liblinear'))"
      ]
     },
     "execution_count": 26,
     "metadata": {},
     "output_type": "execute_result"
    }
   ],
   "source": [
    "dv, model"
   ]
  },
  {
   "cell_type": "code",
   "execution_count": 6,
   "id": "0a1ebfa1",
   "metadata": {},
   "outputs": [],
   "source": [
    "customer = {\n",
    "    \"customerid\": \"8879-zkjof\",\n",
    "    \"gender\": \"female\",\n",
    "    \"seniorcitizen\": 1,\n",
    "    \"partner\": \"no\",\n",
    "    \"dependents\": \"no\",\n",
    "    \"tenure\": 41,\n",
    "    \"phoneservice\": \"yes\",\n",
    "    \"multiplelines\": \"no\",\n",
    "    \"internetservice\": \"dsl\",\n",
    "    \"onlinesecurity\": 'yes',\n",
    "    \"onlinebackup\": \"no\",\n",
    "    \"deviceprotection\": \"yes\",\n",
    "    \"techsupport\": \"yes\",\n",
    "    \"streamingtv\": \"yes\",\n",
    "    \"streamingmovies\": \"yes\",\n",
    "    \"contract\": \"one_year\",\n",
    "    \"paperlessbilling\": \"yes\",\n",
    "    \"paymentmethod\": \"bank_transfer_(automatic)\",\n",
    "    \"monthlycharges\": 79.85,\n",
    "    \"totalcharges\": 3320.75,\n",
    "}"
   ]
  },
  {
   "cell_type": "code",
   "execution_count": null,
   "id": "7b564a7c",
   "metadata": {},
   "outputs": [],
   "source": [
    "X = dv.transform([customer])"
   ]
  },
  {
   "cell_type": "code",
   "execution_count": 36,
   "id": "1d0e4391",
   "metadata": {},
   "outputs": [
    {
     "data": {
      "text/plain": [
       "0.09069205179393283"
      ]
     },
     "execution_count": 36,
     "metadata": {},
     "output_type": "execute_result"
    }
   ],
   "source": [
    "model.predict_proba(X)[0, 1]"
   ]
  },
  {
   "cell_type": "markdown",
   "id": "0b67a935",
   "metadata": {},
   "source": [
    "# Using the service"
   ]
  },
  {
   "cell_type": "raw",
   "id": "b8b52d79",
   "metadata": {},
   "source": [
    "Smaller blue is Docker and bigger blue square is the whole machine.\n",
    "Docker exposes port to be open and it gets connected by the port on\n",
    "Host Machine (outer blue box)"
   ]
  },
  {
   "cell_type": "markdown",
   "id": "ec605e77",
   "metadata": {},
   "source": [
    "![alt text](deploy.jpg)"
   ]
  },
  {
   "cell_type": "code",
   "execution_count": 173,
   "id": "ca63d2e0",
   "metadata": {},
   "outputs": [],
   "source": [
    "import requests"
   ]
  },
  {
   "cell_type": "code",
   "execution_count": null,
   "id": "9a782aa9",
   "metadata": {},
   "outputs": [],
   "source": [
    "url = 'http://0.0.0.0:7000/predict'\n",
    "response = requests.post(url, json=customer)\n",
    "result = response.json()"
   ]
  },
  {
   "cell_type": "code",
   "execution_count": 175,
   "id": "30956e17",
   "metadata": {},
   "outputs": [
    {
     "data": {
      "text/plain": [
       "{'churn': False, 'pred.': 0.09069205179393283}"
      ]
     },
     "execution_count": 175,
     "metadata": {},
     "output_type": "execute_result"
    }
   ],
   "source": [
    "result"
   ]
  },
  {
   "cell_type": "code",
   "execution_count": null,
   "id": "5e416379",
   "metadata": {},
   "outputs": [],
   "source": []
  }
 ],
 "metadata": {
  "kernelspec": {
   "display_name": "Python 3",
   "language": "python",
   "name": "python3"
  },
  "language_info": {
   "codemirror_mode": {
    "name": "ipython",
    "version": 3
   },
   "file_extension": ".py",
   "mimetype": "text/x-python",
   "name": "python",
   "nbconvert_exporter": "python",
   "pygments_lexer": "ipython3",
   "version": "3.8.10"
  }
 },
 "nbformat": 4,
 "nbformat_minor": 5
}
