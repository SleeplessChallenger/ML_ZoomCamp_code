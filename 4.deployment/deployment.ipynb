{
 "cells": [
  {
   "cell_type": "markdown",
   "id": "60fc764b",
   "metadata": {},
   "source": [
    "# Code from previous lessons"
   ]
  },
  {
   "cell_type": "code",
   "execution_count": 1,
   "id": "76e9f740",
   "metadata": {},
   "outputs": [],
   "source": [
    "import pandas as pd\n",
    "import numpy as np\n",
    "import seaborn as sns\n",
    "from matplotlib import pyplot as plt\n",
    "%matplotlib inline\n",
    "\n",
    "from sklearn.model_selection import train_test_split\n",
    "from sklearn.feature_extraction import DictVectorizer\n",
    "from sklearn.linear_model import LogisticRegression\n",
    "from sklearn.metrics import roc_auc_score\n",
    "from sklearn.model_selection import KFold"
   ]
  },
  {
   "cell_type": "code",
   "execution_count": 14,
   "id": "6021161e",
   "metadata": {},
   "outputs": [],
   "source": [
    "df = pd.read_csv('../../churn-prediction/customers_data.csv')"
   ]
  },
  {
   "cell_type": "code",
   "execution_count": 115,
   "id": "f8acd4d5",
   "metadata": {},
   "outputs": [],
   "source": [
    "d = pd.read_excel('testData.xlsx', index_col=None)\n",
    "# e = list(d.to_dict().values())"
   ]
  },
  {
   "cell_type": "code",
   "execution_count": 116,
   "id": "edfd89e7",
   "metadata": {},
   "outputs": [],
   "source": [
    "temp = d['Rep_dt']"
   ]
  },
  {
   "cell_type": "code",
   "execution_count": 117,
   "id": "cdad3997",
   "metadata": {},
   "outputs": [
    {
     "data": {
      "text/plain": [
       "[datetime.date(2020, 12, 31),\n",
       " datetime.date(2021, 1, 31),\n",
       " datetime.date(2020, 10, 31),\n",
       " datetime.date(2020, 6, 30),\n",
       " datetime.date(2020, 7, 31),\n",
       " datetime.date(2020, 8, 31),\n",
       " datetime.date(2020, 4, 30),\n",
       " datetime.date(2020, 5, 31),\n",
       " datetime.date(2020, 2, 29),\n",
       " datetime.date(2020, 1, 31),\n",
       " datetime.date(2020, 9, 30),\n",
       " datetime.date(2020, 3, 31),\n",
       " datetime.date(2020, 11, 30)]"
      ]
     },
     "execution_count": 117,
     "metadata": {},
     "output_type": "execute_result"
    }
   ],
   "source": [
    "list(dparser.parse(i,fuzzy=True).date() for i in temp.values)"
   ]
  },
  {
   "cell_type": "code",
   "execution_count": 113,
   "id": "91077f26",
   "metadata": {},
   "outputs": [],
   "source": [
    "d['Rep_dt'] = list(dparser.parse(i,fuzzy=True).date() for i in d['Rep_dt'].values)"
   ]
  },
  {
   "cell_type": "code",
   "execution_count": 114,
   "id": "9308a500",
   "metadata": {},
   "outputs": [
    {
     "data": {
      "text/html": [
       "<div>\n",
       "<style scoped>\n",
       "    .dataframe tbody tr th:only-of-type {\n",
       "        vertical-align: middle;\n",
       "    }\n",
       "\n",
       "    .dataframe tbody tr th {\n",
       "        vertical-align: top;\n",
       "    }\n",
       "\n",
       "    .dataframe thead th {\n",
       "        text-align: right;\n",
       "    }\n",
       "</style>\n",
       "<table border=\"1\" class=\"dataframe\">\n",
       "  <thead>\n",
       "    <tr style=\"text-align: right;\">\n",
       "      <th></th>\n",
       "      <th>Rep_dt</th>\n",
       "      <th>Delta</th>\n",
       "    </tr>\n",
       "  </thead>\n",
       "  <tbody>\n",
       "    <tr>\n",
       "      <th>0</th>\n",
       "      <td>2020-12-31</td>\n",
       "      <td>856818.33</td>\n",
       "    </tr>\n",
       "    <tr>\n",
       "      <th>1</th>\n",
       "      <td>2021-01-31</td>\n",
       "      <td>8456728.63</td>\n",
       "    </tr>\n",
       "    <tr>\n",
       "      <th>2</th>\n",
       "      <td>2020-10-31</td>\n",
       "      <td>854307.32</td>\n",
       "    </tr>\n",
       "    <tr>\n",
       "      <th>3</th>\n",
       "      <td>2020-06-30</td>\n",
       "      <td>1640127</td>\n",
       "    </tr>\n",
       "    <tr>\n",
       "      <th>4</th>\n",
       "      <td>2020-07-31</td>\n",
       "      <td>6336723.53</td>\n",
       "    </tr>\n",
       "    <tr>\n",
       "      <th>5</th>\n",
       "      <td>2020-08-31</td>\n",
       "      <td>645495.92</td>\n",
       "    </tr>\n",
       "    <tr>\n",
       "      <th>6</th>\n",
       "      <td>2020-04-30</td>\n",
       "      <td>69066016,2</td>\n",
       "    </tr>\n",
       "    <tr>\n",
       "      <th>7</th>\n",
       "      <td>2020-05-31</td>\n",
       "      <td>688557.32</td>\n",
       "    </tr>\n",
       "    <tr>\n",
       "      <th>8</th>\n",
       "      <td>2020-02-29</td>\n",
       "      <td>7784508.29</td>\n",
       "    </tr>\n",
       "    <tr>\n",
       "      <th>9</th>\n",
       "      <td>2020-01-31</td>\n",
       "      <td>7384271.4</td>\n",
       "    </tr>\n",
       "    <tr>\n",
       "      <th>10</th>\n",
       "      <td>2020-09-30</td>\n",
       "      <td>6731546,51</td>\n",
       "    </tr>\n",
       "    <tr>\n",
       "      <th>11</th>\n",
       "      <td>2020-03-31</td>\n",
       "      <td>3849508.31</td>\n",
       "    </tr>\n",
       "    <tr>\n",
       "      <th>12</th>\n",
       "      <td>2020-11-30</td>\n",
       "      <td>7194562.88</td>\n",
       "    </tr>\n",
       "  </tbody>\n",
       "</table>\n",
       "</div>"
      ],
      "text/plain": [
       "        Rep_dt       Delta\n",
       "0   2020-12-31   856818.33\n",
       "1   2021-01-31  8456728.63\n",
       "2   2020-10-31   854307.32\n",
       "3   2020-06-30     1640127\n",
       "4   2020-07-31  6336723.53\n",
       "5   2020-08-31   645495.92\n",
       "6   2020-04-30  69066016,2\n",
       "7   2020-05-31   688557.32\n",
       "8   2020-02-29  7784508.29\n",
       "9   2020-01-31   7384271.4\n",
       "10  2020-09-30  6731546,51\n",
       "11  2020-03-31  3849508.31\n",
       "12  2020-11-30  7194562.88"
      ]
     },
     "execution_count": 114,
     "metadata": {},
     "output_type": "execute_result"
    }
   ],
   "source": [
    "d"
   ]
  },
  {
   "cell_type": "code",
   "execution_count": 94,
   "id": "c81af055",
   "metadata": {},
   "outputs": [],
   "source": [
    "import dateutil.parser as dparser"
   ]
  },
  {
   "cell_type": "code",
   "execution_count": 105,
   "id": "81d03c42",
   "metadata": {},
   "outputs": [],
   "source": [
    "a = list(dparser.parse(i,fuzzy=True).date() for i in d['Rep_dt'].values)\n",
    "b = list(d['Delta'].values)\n",
    "c = list(d['Delta'].values)"
   ]
  },
  {
   "cell_type": "code",
   "execution_count": 108,
   "id": "b1428e1b",
   "metadata": {},
   "outputs": [],
   "source": [
    "lst = [a,b,c]"
   ]
  },
  {
   "cell_type": "code",
   "execution_count": 110,
   "id": "30d6ca7f",
   "metadata": {},
   "outputs": [
    {
     "data": {
      "text/plain": [
       "[(datetime.date(2020, 12, 31), 856818.33, 856818.33),\n",
       " (datetime.date(2021, 1, 31), 8456728.63, 8456728.63),\n",
       " (datetime.date(2020, 10, 31), 854307.32, 854307.32),\n",
       " (datetime.date(2020, 6, 30), 1640127, 1640127),\n",
       " (datetime.date(2020, 7, 31), 6336723.53, 6336723.53),\n",
       " (datetime.date(2020, 8, 31), 645495.92, 645495.92),\n",
       " (datetime.date(2020, 4, 30), '69066016,2', '69066016,2'),\n",
       " (datetime.date(2020, 5, 31), 688557.32, 688557.32),\n",
       " (datetime.date(2020, 2, 29), 7784508.29, 7784508.29),\n",
       " (datetime.date(2020, 1, 31), 7384271.4, 7384271.4),\n",
       " (datetime.date(2020, 9, 30), '6731546,51', '6731546,51'),\n",
       " (datetime.date(2020, 3, 31), 3849508.31, 3849508.31),\n",
       " (datetime.date(2020, 11, 30), 7194562.88, 7194562.88)]"
      ]
     },
     "execution_count": 110,
     "metadata": {},
     "output_type": "execute_result"
    }
   ],
   "source": [
    "list(zip(a,b,c))"
   ]
  },
  {
   "cell_type": "code",
   "execution_count": 109,
   "id": "e86ff050",
   "metadata": {
    "scrolled": true
   },
   "outputs": [
    {
     "data": {
      "text/plain": [
       "[([datetime.date(2020, 12, 31),\n",
       "   datetime.date(2021, 1, 31),\n",
       "   datetime.date(2020, 10, 31),\n",
       "   datetime.date(2020, 6, 30),\n",
       "   datetime.date(2020, 7, 31),\n",
       "   datetime.date(2020, 8, 31),\n",
       "   datetime.date(2020, 4, 30),\n",
       "   datetime.date(2020, 5, 31),\n",
       "   datetime.date(2020, 2, 29),\n",
       "   datetime.date(2020, 1, 31),\n",
       "   datetime.date(2020, 9, 30),\n",
       "   datetime.date(2020, 3, 31),\n",
       "   datetime.date(2020, 11, 30)],),\n",
       " ([856818.33,\n",
       "   8456728.63,\n",
       "   854307.32,\n",
       "   1640127,\n",
       "   6336723.53,\n",
       "   645495.92,\n",
       "   '69066016,2',\n",
       "   688557.32,\n",
       "   7784508.29,\n",
       "   7384271.4,\n",
       "   '6731546,51',\n",
       "   3849508.31,\n",
       "   7194562.88],),\n",
       " ([856818.33,\n",
       "   8456728.63,\n",
       "   854307.32,\n",
       "   1640127,\n",
       "   6336723.53,\n",
       "   645495.92,\n",
       "   '69066016,2',\n",
       "   688557.32,\n",
       "   7784508.29,\n",
       "   7384271.4,\n",
       "   '6731546,51',\n",
       "   3849508.31,\n",
       "   7194562.88],)]"
      ]
     },
     "execution_count": 109,
     "metadata": {},
     "output_type": "execute_result"
    }
   ],
   "source": [
    "list(zip(lst))"
   ]
  },
  {
   "cell_type": "code",
   "execution_count": 102,
   "id": "0e32b195",
   "metadata": {},
   "outputs": [
    {
     "data": {
      "text/plain": [
       "[('31.12.2020', 856818.33),\n",
       " ('31.01.2021', 8456728.63),\n",
       " ('2020-10-31', 854307.32),\n",
       " ('30.06.2020', 1640127),\n",
       " ('31.07.2020', 6336723.53),\n",
       " ('31.08.2020', 645495.92),\n",
       " ('30.04.2020', '69066016,2'),\n",
       " ('31.05.2020', 688557.32),\n",
       " ('29.02.2020', 7784508.29),\n",
       " ('31.01.2020', 7384271.4),\n",
       " ('30.09.2020', '6731546,51'),\n",
       " ('2020-03-31', 3849508.31),\n",
       " ('30.11.2020', 7194562.88)]"
      ]
     },
     "execution_count": 102,
     "metadata": {},
     "output_type": "execute_result"
    }
   ],
   "source": [
    "list(zip(a,b))"
   ]
  },
  {
   "cell_type": "code",
   "execution_count": 97,
   "id": "efc5913b",
   "metadata": {},
   "outputs": [
    {
     "data": {
      "text/plain": [
       "['31.12.2020',\n",
       " '31.01.2021',\n",
       " '2020-10-31',\n",
       " '30.06.2020',\n",
       " '31.07.2020',\n",
       " '31.08.2020',\n",
       " '30.04.2020',\n",
       " '31.05.2020',\n",
       " '29.02.2020',\n",
       " '31.01.2020',\n",
       " '30.09.2020',\n",
       " '2020-03-31',\n",
       " '30.11.2020']"
      ]
     },
     "execution_count": 97,
     "metadata": {},
     "output_type": "execute_result"
    }
   ],
   "source": [
    "list(d['Rep_dt'].values)"
   ]
  },
  {
   "cell_type": "code",
   "execution_count": null,
   "id": "2300946d",
   "metadata": {},
   "outputs": [],
   "source": [
    "d['Rep_dt'].astype()"
   ]
  },
  {
   "cell_type": "code",
   "execution_count": 3,
   "id": "9822ad45",
   "metadata": {},
   "outputs": [],
   "source": [
    "df.columns = df.columns.str.lower().str.replace(\" \", \"_\")\n",
    "\n",
    "str_cols = list(df.dtypes[df.dtypes == 'object'].index)\n",
    "\n",
    "for col in str_cols:\n",
    "    df[col] = df[col].str.lower().str.replace(\" \", \"_\")\n",
    "    \n",
    "df.totalcharges = pd.to_numeric(df.totalcharges, errors='coerce')\n",
    "\n",
    "df.totalcharges = df.totalcharges.fillna(0)\n",
    "\n",
    "df.churn = (df.churn == 'yes').astype(int)"
   ]
  },
  {
   "cell_type": "code",
   "execution_count": 4,
   "id": "bccb2b75",
   "metadata": {},
   "outputs": [],
   "source": [
    "full_train, df_test = train_test_split(df, test_size=0.2, random_state=1)\n",
    "df_train, df_valid = train_test_split(full_train, test_size=0.25, random_state=1)"
   ]
  },
  {
   "cell_type": "code",
   "execution_count": 5,
   "id": "1da5c178",
   "metadata": {},
   "outputs": [],
   "source": [
    "y_test = df_test.churn.values\n",
    "y_valid = df_valid.churn.values\n",
    "y_train = df_train.churn.values\n",
    "\n",
    "df_train = df_train.reset_index(drop=True)\n",
    "df_valid = df_valid.reset_index(drop=True)\n",
    "df_train = df_train.reset_index(drop=True)\n",
    "\n",
    "del df_test['churn']\n",
    "del df_valid['churn']\n",
    "del df_train['churn']"
   ]
  },
  {
   "cell_type": "code",
   "execution_count": 6,
   "id": "27a6fad3",
   "metadata": {},
   "outputs": [],
   "source": [
    "numerical = ['tenure', 'monthlycharges', 'totalcharges']\n",
    "\n",
    "categorical = ['gender', 'seniorcitizen', 'partner', 'dependents',\n",
    "               'phoneservice', 'multiplelines', 'internetservice',\n",
    "               'onlinesecurity', 'onlinebackup', 'deviceprotection',\n",
    "               'techsupport', 'streamingtv', 'streamingmovies',\n",
    "               'contract', 'paperlessbilling', 'paymentmethod']"
   ]
  },
  {
   "cell_type": "code",
   "execution_count": 7,
   "id": "a2cc328a",
   "metadata": {},
   "outputs": [],
   "source": [
    "def train(df, y_train, C):\n",
    "    dicts = df[numerical + categorical].to_dict(orient='records')\n",
    "    \n",
    "    dv = DictVectorizer(sparse=False)\n",
    "    X_train = dv.fit_transform(dicts)\n",
    "    \n",
    "    model = LogisticRegression(solver='liblinear', dual=False, max_iter=2000,\n",
    "                                C=C, random_state=42)\n",
    "    model.fit(X_train, y_train)\n",
    "    \n",
    "    return dv, model"
   ]
  },
  {
   "cell_type": "code",
   "execution_count": 8,
   "id": "61fc6178",
   "metadata": {},
   "outputs": [],
   "source": [
    "def predict(df, dv, model):\n",
    "    valid = df[numerical + categorical].to_dict(orient='records')\n",
    "    X = dv.transform(valid)\n",
    "    y_pred = model.predict_proba(X)[:, 1]\n",
    "    \n",
    "    return y_pred"
   ]
  },
  {
   "cell_type": "code",
   "execution_count": 16,
   "id": "62237f12",
   "metadata": {},
   "outputs": [],
   "source": [
    "kfold = KFold(n_splits=5, shuffle=True, random_state=1)\n",
    "C = 1.0"
   ]
  },
  {
   "cell_type": "code",
   "execution_count": 18,
   "id": "3e9ef278",
   "metadata": {},
   "outputs": [],
   "source": [
    "scores = []\n",
    "\n",
    "for trainIdx, validIdx in kfold.split(full_train):\n",
    "    df_train = full_train.iloc[trainIdx]\n",
    "    df_valid = full_train.iloc[validIdx]\n",
    "    \n",
    "    y_train = df_train.churn.values\n",
    "    y_valid = df_valid.churn.values\n",
    "    \n",
    "    dv, model = train(df_train, y_train, C=C)\n",
    "    y_pred = predict(df_valid, dv, model)\n",
    "    \n",
    "    auc = roc_auc_score(y_valid, y_pred)\n",
    "    scores.append(auc)"
   ]
  },
  {
   "cell_type": "code",
   "execution_count": 20,
   "id": "22a847e5",
   "metadata": {},
   "outputs": [
    {
     "data": {
      "text/plain": [
       "(0.8411783377274789, 0.007388401938629943)"
      ]
     },
     "execution_count": 20,
     "metadata": {},
     "output_type": "execute_result"
    }
   ],
   "source": [
    "np.mean(scores), np.std(scores)"
   ]
  },
  {
   "cell_type": "code",
   "execution_count": 11,
   "id": "dd104c66",
   "metadata": {},
   "outputs": [],
   "source": [
    "dv, model = train(full_train, full_train.churn.values, C=1.0)\n",
    "y_pred = predict(df_test, dv, model)\n",
    "\n",
    "auc = roc_auc_score(y_test, y_pred)"
   ]
  },
  {
   "cell_type": "code",
   "execution_count": 12,
   "id": "ef933e95",
   "metadata": {},
   "outputs": [
    {
     "data": {
      "text/plain": [
       "0.8579400803839363"
      ]
     },
     "execution_count": 12,
     "metadata": {},
     "output_type": "execute_result"
    }
   ],
   "source": [
    "auc"
   ]
  },
  {
   "cell_type": "markdown",
   "id": "6aee7365",
   "metadata": {},
   "source": [
    "# Saving the model"
   ]
  },
  {
   "cell_type": "code",
   "execution_count": 21,
   "id": "30331752",
   "metadata": {},
   "outputs": [],
   "source": [
    "import pickle"
   ]
  },
  {
   "cell_type": "code",
   "execution_count": 22,
   "id": "635c0041",
   "metadata": {},
   "outputs": [],
   "source": [
    "with open(f'model_C={C}.bin', 'wb') as churn_model:\n",
    "    pickle.dump((dv, model), churn_model)"
   ]
  },
  {
   "cell_type": "code",
   "execution_count": 23,
   "id": "c1be6c33",
   "metadata": {},
   "outputs": [],
   "source": [
    "with open('model_C=1.0.bin', 'rb') as churn_res:\n",
    "    dv, model = pickle.load(churn_res)"
   ]
  },
  {
   "cell_type": "code",
   "execution_count": 26,
   "id": "e515e3dc",
   "metadata": {},
   "outputs": [
    {
     "data": {
      "text/plain": [
       "(DictVectorizer(sparse=False),\n",
       " LogisticRegression(max_iter=2000, random_state=42, solver='liblinear'))"
      ]
     },
     "execution_count": 26,
     "metadata": {},
     "output_type": "execute_result"
    }
   ],
   "source": [
    "dv, model"
   ]
  },
  {
   "cell_type": "code",
   "execution_count": 6,
   "id": "83785905",
   "metadata": {},
   "outputs": [],
   "source": [
    "customer = {\n",
    "    \"customerid\": \"8879-zkjof\",\n",
    "    \"gender\": \"female\",\n",
    "    \"seniorcitizen\": 1,\n",
    "    \"partner\": \"no\",\n",
    "    \"dependents\": \"no\",\n",
    "    \"tenure\": 41,\n",
    "    \"phoneservice\": \"yes\",\n",
    "    \"multiplelines\": \"no\",\n",
    "    \"internetservice\": \"dsl\",\n",
    "    \"onlinesecurity\": 'yes',\n",
    "    \"onlinebackup\": \"no\",\n",
    "    \"deviceprotection\": \"yes\",\n",
    "    \"techsupport\": \"yes\",\n",
    "    \"streamingtv\": \"yes\",\n",
    "    \"streamingmovies\": \"yes\",\n",
    "    \"contract\": \"one_year\",\n",
    "    \"paperlessbilling\": \"yes\",\n",
    "    \"paymentmethod\": \"bank_transfer_(automatic)\",\n",
    "    \"monthlycharges\": 79.85,\n",
    "    \"totalcharges\": 3320.75,\n",
    "}"
   ]
  },
  {
   "cell_type": "code",
   "execution_count": null,
   "id": "bf623cad",
   "metadata": {},
   "outputs": [],
   "source": [
    "X = dv.transform([customer])"
   ]
  },
  {
   "cell_type": "code",
   "execution_count": 36,
   "id": "7605bd79",
   "metadata": {},
   "outputs": [
    {
     "data": {
      "text/plain": [
       "0.09069205179393283"
      ]
     },
     "execution_count": 36,
     "metadata": {},
     "output_type": "execute_result"
    }
   ],
   "source": [
    "model.predict_proba(X)[0, 1]"
   ]
  },
  {
   "cell_type": "markdown",
   "id": "43709668",
   "metadata": {},
   "source": [
    "# Using the service"
   ]
  },
  {
   "cell_type": "raw",
   "id": "7ed5e27b",
   "metadata": {},
   "source": [
    "Smaller blue is Docker and bigger blue square is the whole machine.\n",
    "Docker exposes port to be open and it gets connected by the port on\n",
    "Host Machine (outer blue box)"
   ]
  },
  {
   "cell_type": "markdown",
   "id": "fad2d680",
   "metadata": {},
   "source": [
    "![alt text](deploy.jpg)"
   ]
  },
  {
   "cell_type": "code",
   "execution_count": 133,
   "id": "05e0da76",
   "metadata": {},
   "outputs": [],
   "source": [
    "import requests"
   ]
  },
  {
   "cell_type": "code",
   "execution_count": 134,
   "id": "038f1c1d",
   "metadata": {},
   "outputs": [],
   "source": [
    "url = 'http://0.0.0.0:7000/predict'\n",
    "response = requests.post(url, json=customer)\n",
    "result = response.json()"
   ]
  },
  {
   "cell_type": "code",
   "execution_count": 135,
   "id": "991dd250",
   "metadata": {},
   "outputs": [
    {
     "data": {
      "text/plain": [
       "{'churn': False, 'pred.': 0.09069205179393283}"
      ]
     },
     "execution_count": 135,
     "metadata": {},
     "output_type": "execute_result"
    }
   ],
   "source": [
    "result"
   ]
  },
  {
   "cell_type": "code",
   "execution_count": null,
   "id": "451df91a",
   "metadata": {},
   "outputs": [],
   "source": []
  }
 ],
 "metadata": {
  "kernelspec": {
   "display_name": "Python 3",
   "language": "python",
   "name": "python3"
  },
  "language_info": {
   "codemirror_mode": {
    "name": "ipython",
    "version": 3
   },
   "file_extension": ".py",
   "mimetype": "text/x-python",
   "name": "python",
   "nbconvert_exporter": "python",
   "pygments_lexer": "ipython3",
   "version": "3.8.10"
  }
 },
 "nbformat": 4,
 "nbformat_minor": 5
}
