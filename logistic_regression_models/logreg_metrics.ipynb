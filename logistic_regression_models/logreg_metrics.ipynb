{
 "cells": [
  {
   "cell_type": "code",
   "execution_count": 2,
   "id": "e50d575f",
   "metadata": {},
   "outputs": [],
   "source": [
    "import pandas as pd\n",
    "import numpy as np\n",
    "import seaborn as sns\n",
    "from matplotlib import pyplot as plt\n",
    "%matplotlib inline\n",
    "\n",
    "from sklearn.model_selection import train_test_split\n",
    "from sklearn.feature_extraction import DictVectorizer\n",
    "from sklearn.linear_model import LogisticRegression"
   ]
  },
  {
   "cell_type": "code",
   "execution_count": 3,
   "id": "a3663011",
   "metadata": {},
   "outputs": [],
   "source": [
    "df = pd.read_csv('../../churn-prediction/customers_data.csv')"
   ]
  },
  {
   "cell_type": "code",
   "execution_count": 4,
   "id": "d046427b",
   "metadata": {},
   "outputs": [],
   "source": [
    "df.columns = df.columns.str.lower().str.replace(\" \", \"_\")\n",
    "\n",
    "str_cols = list(df.dtypes[df.dtypes == 'object'].index)\n",
    "\n",
    "for col in str_cols:\n",
    "    df[col] = df[col].str.lower().str.replace(\" \", \"_\")\n",
    "    \n",
    "df.totalcharges = pd.to_numeric(df.totalcharges, errors='coerce')\n",
    "\n",
    "df.totalcharges = df.totalcharges.fillna(0)\n",
    "\n",
    "df.churn = (df.churn == 'yes').astype(int)"
   ]
  },
  {
   "cell_type": "code",
   "execution_count": 5,
   "id": "2cb5cb3e",
   "metadata": {},
   "outputs": [],
   "source": [
    "full_train, df_test = train_test_split(df, test_size=0.2, random_state=1)\n",
    "df_train, df_valid = train_test_split(full_train, test_size=0.25, random_state=1)"
   ]
  },
  {
   "cell_type": "code",
   "execution_count": 6,
   "id": "5156c8c9",
   "metadata": {},
   "outputs": [],
   "source": [
    "y_test = df_test.churn.values\n",
    "y_valid = df_valid.churn.values\n",
    "y_train = df_train.churn.values\n",
    "\n",
    "df_train = df_train.reset_index(drop=True)\n",
    "df_valid = df_valid.reset_index(drop=True)\n",
    "df_train = df_train.reset_index(drop=True)\n",
    "\n",
    "del df_test['churn']\n",
    "del df_valid['churn']\n",
    "del df_train['churn']"
   ]
  },
  {
   "cell_type": "code",
   "execution_count": 7,
   "id": "f9e62ad3",
   "metadata": {},
   "outputs": [],
   "source": [
    "numerical = ['tenure', 'monthlycharges', 'totalcharges']\n",
    "\n",
    "categorical = ['gender', 'seniorcitizen', 'partner', 'dependents',\n",
    "               'phoneservice', 'multiplelines', 'internetservice',\n",
    "               'onlinesecurity', 'onlinebackup', 'deviceprotection',\n",
    "               'techsupport', 'streamingtv', 'streamingmovies',\n",
    "               'contract', 'paperlessbilling', 'paymentmethod']"
   ]
  },
  {
   "cell_type": "code",
   "execution_count": 8,
   "id": "80d77913",
   "metadata": {},
   "outputs": [
    {
     "data": {
      "text/plain": [
       "LogisticRegression()"
      ]
     },
     "execution_count": 8,
     "metadata": {},
     "output_type": "execute_result"
    }
   ],
   "source": [
    "dv = DictVectorizer(sparse=False)\n",
    "\n",
    "train_dict = df_train[numerical + categorical].to_dict(orient='records')\n",
    "X_train = dv.fit_transform(train_dict)\n",
    "\n",
    "model = LogisticRegression()\n",
    "model.fit(X_train, y_train)"
   ]
  },
  {
   "cell_type": "code",
   "execution_count": 9,
   "id": "783b6b6c",
   "metadata": {},
   "outputs": [],
   "source": [
    "valid_dict = df_valid[numerical + categorical].to_dict(orient='records')\n",
    "X_valid = dv.transform(valid_dict)\n",
    "\n",
    "prediction = model.predict_proba(X_valid)\n",
    "\n",
    "soft_prediction = model.predict_proba(X_valid)[:, 1]"
   ]
  },
  {
   "cell_type": "code",
   "execution_count": 10,
   "id": "1752c4d3",
   "metadata": {},
   "outputs": [
    {
     "data": {
      "text/plain": [
       "0.8034066713981547"
      ]
     },
     "execution_count": 10,
     "metadata": {},
     "output_type": "execute_result"
    }
   ],
   "source": [
    "churn_decision = (soft_prediction >= 0.5)\n",
    "\n",
    "(churn_decision == y_valid).mean()"
   ]
  },
  {
   "cell_type": "markdown",
   "id": "f2621aa6",
   "metadata": {},
   "source": [
    "# Accuracy and dummy model"
   ]
  },
  {
   "cell_type": "raw",
   "id": "260656ea",
   "metadata": {},
   "source": [
    "Accuracy is number of correct predictions / all data"
   ]
  },
  {
   "cell_type": "code",
   "execution_count": 11,
   "id": "84579f24",
   "metadata": {},
   "outputs": [
    {
     "data": {
      "text/plain": [
       "1409"
      ]
     },
     "execution_count": 11,
     "metadata": {},
     "output_type": "execute_result"
    }
   ],
   "source": [
    "len(y_valid)"
   ]
  },
  {
   "cell_type": "code",
   "execution_count": 12,
   "id": "190d9d9c",
   "metadata": {},
   "outputs": [
    {
     "data": {
      "text/plain": [
       "1132"
      ]
     },
     "execution_count": 12,
     "metadata": {},
     "output_type": "execute_result"
    }
   ],
   "source": [
    "(y_valid == churn_decision).sum()\n",
    "# absolute value"
   ]
  },
  {
   "cell_type": "code",
   "execution_count": 13,
   "id": "a9de69ed",
   "metadata": {},
   "outputs": [
    {
     "data": {
      "text/plain": [
       "array([0.  , 0.05, 0.1 , 0.15, 0.2 , 0.25, 0.3 , 0.35, 0.4 , 0.45, 0.5 ,\n",
       "       0.55, 0.6 , 0.65, 0.7 , 0.75, 0.8 , 0.85, 0.9 , 0.95, 1.  ])"
      ]
     },
     "execution_count": 13,
     "metadata": {},
     "output_type": "execute_result"
    }
   ],
   "source": [
    "thresholds = np.linspace(0, 1, 21)\n",
    "\n",
    "thresholds"
   ]
  },
  {
   "cell_type": "code",
   "execution_count": 14,
   "id": "6465377b",
   "metadata": {},
   "outputs": [],
   "source": [
    "scores = []\n",
    "\n",
    "for t in thresholds:\n",
    "    churn_decision = (soft_prediction >= t)\n",
    "    score = (y_valid == churn_decision).mean()\n",
    "    scores.append(score)"
   ]
  },
  {
   "cell_type": "code",
   "execution_count": 15,
   "id": "39e90b7c",
   "metadata": {
    "scrolled": true
   },
   "outputs": [
    {
     "data": {
      "image/png": "[encoded data removed]",
      "text/plain": [
       "<Figure size 432x288 with 1 Axes>"
      ]
     },
     "metadata": {
      "needs_background": "light"
     },
     "output_type": "display_data"
    }
   ],
   "source": [
    "plt.plot(thresholds, scores)\n",
    "plt.title('Threshold accuracy')\n",
    "plt.xlabel('threshold')\n",
    "plt.ylabel('score')\n",
    "\n",
    "plt.xticks(np.linspace(0, 1, 11))\n",
    "plt.show()"
   ]
  },
  {
   "cell_type": "raw",
   "id": "e30d57a6",
   "metadata": {},
   "source": [
    "In our case 0.5 is the best threshold, but it doesn't alwways the case"
   ]
  },
  {
   "cell_type": "code",
   "execution_count": 16,
   "id": "1f307887",
   "metadata": {},
   "outputs": [
    {
     "data": {
      "text/plain": [
       "0.8034066713981547"
      ]
     },
     "execution_count": 16,
     "metadata": {},
     "output_type": "execute_result"
    }
   ],
   "source": [
    "# doing via sklearn\n",
    "from sklearn.metrics import accuracy_score\n",
    "\n",
    "accuracy_score(y_valid, soft_prediction >= 0.5)"
   ]
  },
  {
   "cell_type": "raw",
   "id": "609a4962",
   "metadata": {},
   "source": [
    "1.0 is when our model says: Everyone is non-churning\n",
    "\n",
    "Why does our dummy model have so good accuracy? =>\n",
    "We have class imbalance (more non-churning than churning),\n",
    "that's why when predicting churning it shows good results\n",
    "(again, churning customers have smaller amount and\n",
    "bad prediction doesn't hurt so much)"
   ]
  },
  {
   "cell_type": "code",
   "execution_count": 17,
   "id": "3ef4854e",
   "metadata": {},
   "outputs": [
    {
     "data": {
      "text/plain": [
       "0.2739531582682754"
      ]
     },
     "execution_count": 17,
     "metadata": {},
     "output_type": "execute_result"
    }
   ],
   "source": [
    "y_valid.mean()\n",
    "# 27% are churning"
   ]
  },
  {
   "cell_type": "code",
   "execution_count": 18,
   "id": "0bf0d260",
   "metadata": {},
   "outputs": [
    {
     "data": {
      "text/plain": [
       "0.7260468417317246"
      ]
     },
     "execution_count": 18,
     "metadata": {},
     "output_type": "execute_result"
    }
   ],
   "source": [
    "1 - y_valid.mean()\n",
    "# 72% are non-churning"
   ]
  },
  {
   "cell_type": "code",
   "execution_count": 19,
   "id": "4b6f86d6",
   "metadata": {},
   "outputs": [],
   "source": [
    "length = len(y_valid)\n",
    "baseline = np.repeat(False, length)"
   ]
  },
  {
   "cell_type": "code",
   "execution_count": 20,
   "id": "977dfac1",
   "metadata": {},
   "outputs": [
    {
     "data": {
      "text/plain": [
       "0.726"
      ]
     },
     "execution_count": 20,
     "metadata": {},
     "output_type": "execute_result"
    }
   ],
   "source": [
    "round(accuracy_score(baseline, y_valid, ), 3)"
   ]
  },
  {
   "cell_type": "markdown",
   "id": "9550d9b8",
   "metadata": {},
   "source": [
    "# Confusion table"
   ]
  },
  {
   "cell_type": "raw",
   "id": "ac869527",
   "metadata": {},
   "source": [
    "g(xi) has 2 results: positive and negative (churn and non-churn).\n",
    "Each of the results has True & False (correct and wrong)\n",
    "\n",
    "For True (churn): True positive and False positive\n",
    "For False (non-churn): True negative and False negative"
   ]
  },
  {
   "cell_type": "code",
   "execution_count": 21,
   "id": "88a1a213",
   "metadata": {},
   "outputs": [],
   "source": [
    "actual_positive = (y_valid == 1)\n",
    "actual_negative = (y_valid == 0)"
   ]
  },
  {
   "cell_type": "code",
   "execution_count": 22,
   "id": "5e380ddb",
   "metadata": {},
   "outputs": [],
   "source": [
    "t = 0.5\n",
    "\n",
    "prediction_positive = (soft_prediction >= t)\n",
    "prediction_negative = (soft_prediction < t)"
   ]
  },
  {
   "cell_type": "code",
   "execution_count": 23,
   "id": "5e9e6f0e",
   "metadata": {},
   "outputs": [],
   "source": [
    "true_positive = (actual_positive & prediction_positive).sum()\n",
    "true_negative = (actual_negative & prediction_negative).sum()\n",
    "\n",
    "false_positive = (actual_negative & prediction_positive).sum()\n",
    "false_negative = (actual_positive & prediction_negative).sum()"
   ]
  },
  {
   "cell_type": "code",
   "execution_count": 24,
   "id": "e298a71a",
   "metadata": {},
   "outputs": [],
   "source": [
    "               # predictions\n",
    "          # neg              pos\n",
    "c_t = np.array([\n",
    "        [true_negative, false_positive],    # neg   # actual values\n",
    "        [false_negative, true_positive]     # pos\n",
    "])                \n",
    "                 "
   ]
  },
  {
   "cell_type": "code",
   "execution_count": 25,
   "id": "46026598",
   "metadata": {},
   "outputs": [
    {
     "data": {
      "text/plain": [
       "array([[922, 101],\n",
       "       [176, 210]])"
      ]
     },
     "execution_count": 25,
     "metadata": {},
     "output_type": "execute_result"
    }
   ],
   "source": [
    "c_t\n",
    "# false_positive is when customer doesn't churn, but we predict as churn\n",
    "# false_negative is when customer does churn, but we predict as no-churn"
   ]
  },
  {
   "cell_type": "raw",
   "id": "d206e93b",
   "metadata": {},
   "source": [
    "As we see we have much more false_negative than false_positive.\n",
    "Hence for our model finding out churning customers is quite difficult."
   ]
  },
  {
   "cell_type": "code",
   "execution_count": 26,
   "id": "f66695e5",
   "metadata": {},
   "outputs": [
    {
     "data": {
      "text/plain": [
       "array([[65.43647977,  7.1682044 ],\n",
       "       [12.49112846, 14.90418737]])"
      ]
     },
     "execution_count": 26,
     "metadata": {},
     "output_type": "execute_result"
    }
   ],
   "source": [
    "c_t * 100 / c_t.sum()\n",
    "# normalize it -> get relative numbers"
   ]
  },
  {
   "cell_type": "code",
   "execution_count": 27,
   "id": "f4ebf437",
   "metadata": {},
   "outputs": [
    {
     "data": {
      "text/plain": [
       "0.8034066714000001"
      ]
     },
     "execution_count": 27,
     "metadata": {},
     "output_type": "execute_result"
    }
   ],
   "source": [
    "# we can get our accuracy from confusion table\n",
    "(65.43647977 + 14.90418737) / (65.43647977 + 14.90418737 + 12.49112846 + 7.1682044)"
   ]
  },
  {
   "cell_type": "markdown",
   "id": "8fc8db30",
   "metadata": {},
   "source": [
    "# Precision and Recall"
   ]
  },
  {
   "cell_type": "raw",
   "id": "a20387b5",
   "metadata": {},
   "source": [
    "Precision - fraction of positive predictions that are correct.\n",
    "So, we look only at those who are churning (all positive PREDICTIONS)\n",
    "Because FP is in reality False (no-churn) which we incorrectly predict\n",
    "\n",
    "P = TP / (TP + FP)"
   ]
  },
  {
   "cell_type": "code",
   "execution_count": 28,
   "id": "b9f1c233",
   "metadata": {},
   "outputs": [],
   "source": [
    "p = 210 / (101 + 210)"
   ]
  },
  {
   "cell_type": "code",
   "execution_count": 29,
   "id": "83915492",
   "metadata": {},
   "outputs": [
    {
     "data": {
      "text/plain": [
       "0.6752411575562701"
      ]
     },
     "execution_count": 29,
     "metadata": {},
     "output_type": "execute_result"
    }
   ],
   "source": [
    "p\n",
    "# 33% are mistaken customers who are not supposed to get email"
   ]
  },
  {
   "cell_type": "raw",
   "id": "06b1ab0d",
   "metadata": {},
   "source": [
    "Recall - fraction of correctly identified positive examples.\n",
    "Here we also look at those who are churning (all positive REAL DATA)\n",
    "Because FN is in reality True (churn) which we incorrectly predict\n",
    "\n",
    "R = TP / (TP + FN)"
   ]
  },
  {
   "cell_type": "raw",
   "id": "b1f989a3",
   "metadata": {},
   "source": [
    "Precision looks at predictions and Recall - actual"
   ]
  },
  {
   "cell_type": "code",
   "execution_count": 30,
   "id": "4d431bbd",
   "metadata": {},
   "outputs": [],
   "source": [
    "r = 210 / (210 + 176)"
   ]
  },
  {
   "cell_type": "code",
   "execution_count": 31,
   "id": "d58c55b1",
   "metadata": {},
   "outputs": [
    {
     "data": {
      "text/plain": [
       "0.5440414507772021"
      ]
     },
     "execution_count": 31,
     "metadata": {},
     "output_type": "execute_result"
    }
   ],
   "source": [
    "r\n",
    "# so, 46% of churning customers are not identified"
   ]
  },
  {
   "cell_type": "raw",
   "id": "2f1e3ee5",
   "metadata": {},
   "source": [
    "We don't incorporate True_Negatives. Why? => We're to find churning\n",
    "customers (True value). Also, p & r are good for imbalanced datasets\n",
    "Typically, True_Negatives outnumber everything else in imbalanced\n",
    "datasets, hence we don't look at them."
   ]
  },
  {
   "cell_type": "markdown",
   "id": "28f7f2cf",
   "metadata": {},
   "source": [
    "# ROC Curve"
   ]
  },
  {
   "cell_type": "raw",
   "id": "2d5f66b9",
   "metadata": {},
   "source": [
    "ROC curve allows to see results on multiple thresholds\n",
    "whilst Precision and Recall only at particular threshold\n",
    "\n",
    "FPR & TPR:\n",
    "1) false positive rate (false_pos/all negative)\n",
    "    FPR = FP / (FP + TN) - out of \"actual neg\"\n",
    "2) true positive rate (true_pos/all positive)\n",
    "    TPR = TP / (TP + FN) - out of \"actual pos\"\n",
    "    \n",
    "In first we want FP to be as small as possible. In second\n",
    "we want TP to be as big as possible -> minimize FN"
   ]
  },
  {
   "cell_type": "code",
   "execution_count": 33,
   "id": "cabb5cdf",
   "metadata": {},
   "outputs": [],
   "source": [
    "tpr = true_positive / (true_positive + false_negative)\n",
    "fpr = false_positive / (false_positive + true_negative)"
   ]
  },
  {
   "cell_type": "code",
   "execution_count": 34,
   "id": "b11075c9",
   "metadata": {},
   "outputs": [
    {
     "data": {
      "text/plain": [
       "0.5440414507772021"
      ]
     },
     "execution_count": 34,
     "metadata": {},
     "output_type": "execute_result"
    }
   ],
   "source": [
    "tpr"
   ]
  },
  {
   "cell_type": "code",
   "execution_count": 35,
   "id": "f03b8f1f",
   "metadata": {},
   "outputs": [
    {
     "data": {
      "text/plain": [
       "0.09872922776148582"
      ]
     },
     "execution_count": 35,
     "metadata": {},
     "output_type": "execute_result"
    }
   ],
   "source": [
    "fpr"
   ]
  },
  {
   "cell_type": "code",
   "execution_count": 36,
   "id": "a6d3f52c",
   "metadata": {},
   "outputs": [],
   "source": [
    "scores = []\n",
    "\n",
    "thresholds = np.linspace(0, 1, 101)\n",
    "\n",
    "for t in thresholds:\n",
    "    actual_positive = (y_valid == 1)\n",
    "    actual_negative = (y_valid == 0)\n",
    "    \n",
    "    prediction_positive = (soft_prediction >= t)\n",
    "    prediction_negative = (soft_prediction < t)\n",
    "    \n",
    "    true_positive = (actual_positive & prediction_positive).sum()\n",
    "    true_negative = (actual_negative & prediction_negative).sum()\n",
    "\n",
    "    false_positive = (actual_negative & prediction_positive).sum()\n",
    "    false_negative = (actual_positive & prediction_negative).sum()\n",
    "    \n",
    "    scores.append((t, true_positive, true_negative,\n",
    "                   false_positive, false_negative))"
   ]
  },
  {
   "cell_type": "code",
   "execution_count": 40,
   "id": "e8cda340",
   "metadata": {},
   "outputs": [],
   "source": [
    "columns = ['t', 'tp', 'tn', 'fp', 'fn']\n",
    "\n",
    "df_small = pd.DataFrame(scores)\n",
    "df_small.columns = columns"
   ]
  },
  {
   "cell_type": "code",
   "execution_count": 42,
   "id": "2d806dd5",
   "metadata": {},
   "outputs": [
    {
     "data": {
      "text/html": [
       "<div>\n",
       "<style scoped>\n",
       "    .dataframe tbody tr th:only-of-type {\n",
       "        vertical-align: middle;\n",
       "    }\n",
       "\n",
       "    .dataframe tbody tr th {\n",
       "        vertical-align: top;\n",
       "    }\n",
       "\n",
       "    .dataframe thead th {\n",
       "        text-align: right;\n",
       "    }\n",
       "</style>\n",
       "<table border=\"1\" class=\"dataframe\">\n",
       "  <thead>\n",
       "    <tr style=\"text-align: right;\">\n",
       "      <th></th>\n",
       "      <th>t</th>\n",
       "      <th>tp</th>\n",
       "      <th>tn</th>\n",
       "      <th>fp</th>\n",
       "      <th>fn</th>\n",
       "    </tr>\n",
       "  </thead>\n",
       "  <tbody>\n",
       "    <tr>\n",
       "      <th>0</th>\n",
       "      <td>0.0</td>\n",
       "      <td>386</td>\n",
       "      <td>0</td>\n",
       "      <td>1023</td>\n",
       "      <td>0</td>\n",
       "    </tr>\n",
       "    <tr>\n",
       "      <th>10</th>\n",
       "      <td>0.1</td>\n",
       "      <td>366</td>\n",
       "      <td>467</td>\n",
       "      <td>556</td>\n",
       "      <td>20</td>\n",
       "    </tr>\n",
       "    <tr>\n",
       "      <th>20</th>\n",
       "      <td>0.2</td>\n",
       "      <td>333</td>\n",
       "      <td>667</td>\n",
       "      <td>356</td>\n",
       "      <td>53</td>\n",
       "    </tr>\n",
       "    <tr>\n",
       "      <th>30</th>\n",
       "      <td>0.3</td>\n",
       "      <td>284</td>\n",
       "      <td>787</td>\n",
       "      <td>236</td>\n",
       "      <td>102</td>\n",
       "    </tr>\n",
       "    <tr>\n",
       "      <th>40</th>\n",
       "      <td>0.4</td>\n",
       "      <td>249</td>\n",
       "      <td>857</td>\n",
       "      <td>166</td>\n",
       "      <td>137</td>\n",
       "    </tr>\n",
       "    <tr>\n",
       "      <th>50</th>\n",
       "      <td>0.5</td>\n",
       "      <td>210</td>\n",
       "      <td>922</td>\n",
       "      <td>101</td>\n",
       "      <td>176</td>\n",
       "    </tr>\n",
       "    <tr>\n",
       "      <th>60</th>\n",
       "      <td>0.6</td>\n",
       "      <td>150</td>\n",
       "      <td>970</td>\n",
       "      <td>53</td>\n",
       "      <td>236</td>\n",
       "    </tr>\n",
       "    <tr>\n",
       "      <th>70</th>\n",
       "      <td>0.7</td>\n",
       "      <td>76</td>\n",
       "      <td>1003</td>\n",
       "      <td>20</td>\n",
       "      <td>310</td>\n",
       "    </tr>\n",
       "    <tr>\n",
       "      <th>80</th>\n",
       "      <td>0.8</td>\n",
       "      <td>13</td>\n",
       "      <td>1022</td>\n",
       "      <td>1</td>\n",
       "      <td>373</td>\n",
       "    </tr>\n",
       "    <tr>\n",
       "      <th>90</th>\n",
       "      <td>0.9</td>\n",
       "      <td>0</td>\n",
       "      <td>1023</td>\n",
       "      <td>0</td>\n",
       "      <td>386</td>\n",
       "    </tr>\n",
       "    <tr>\n",
       "      <th>100</th>\n",
       "      <td>1.0</td>\n",
       "      <td>0</td>\n",
       "      <td>1023</td>\n",
       "      <td>0</td>\n",
       "      <td>386</td>\n",
       "    </tr>\n",
       "  </tbody>\n",
       "</table>\n",
       "</div>"
      ],
      "text/plain": [
       "       t   tp    tn    fp   fn\n",
       "0    0.0  386     0  1023    0\n",
       "10   0.1  366   467   556   20\n",
       "20   0.2  333   667   356   53\n",
       "30   0.3  284   787   236  102\n",
       "40   0.4  249   857   166  137\n",
       "50   0.5  210   922   101  176\n",
       "60   0.6  150   970    53  236\n",
       "70   0.7   76  1003    20  310\n",
       "80   0.8   13  1022     1  373\n",
       "90   0.9    0  1023     0  386\n",
       "100  1.0    0  1023     0  386"
      ]
     },
     "execution_count": 42,
     "metadata": {},
     "output_type": "execute_result"
    }
   ],
   "source": [
    "df_small[::10]"
   ]
  },
  {
   "cell_type": "code",
   "execution_count": 49,
   "id": "ce23372a",
   "metadata": {},
   "outputs": [],
   "source": [
    "df_small['tpr'] = df_small.tp / (df_small.tp + df_small.fn)\n",
    "df_small['fpr'] = df_small.fp / (df_small.fp + df_small.tn)"
   ]
  },
  {
   "cell_type": "code",
   "execution_count": 50,
   "id": "63a9f762",
   "metadata": {},
   "outputs": [
    {
     "data": {
      "text/html": [
       "<div>\n",
       "<style scoped>\n",
       "    .dataframe tbody tr th:only-of-type {\n",
       "        vertical-align: middle;\n",
       "    }\n",
       "\n",
       "    .dataframe tbody tr th {\n",
       "        vertical-align: top;\n",
       "    }\n",
       "\n",
       "    .dataframe thead th {\n",
       "        text-align: right;\n",
       "    }\n",
       "</style>\n",
       "<table border=\"1\" class=\"dataframe\">\n",
       "  <thead>\n",
       "    <tr style=\"text-align: right;\">\n",
       "      <th></th>\n",
       "      <th>t</th>\n",
       "      <th>tp</th>\n",
       "      <th>tn</th>\n",
       "      <th>fp</th>\n",
       "      <th>fn</th>\n",
       "      <th>tpr</th>\n",
       "      <th>fpr</th>\n",
       "    </tr>\n",
       "  </thead>\n",
       "  <tbody>\n",
       "    <tr>\n",
       "      <th>0</th>\n",
       "      <td>0.0</td>\n",
       "      <td>386</td>\n",
       "      <td>0</td>\n",
       "      <td>1023</td>\n",
       "      <td>0</td>\n",
       "      <td>1.000000</td>\n",
       "      <td>1.000000</td>\n",
       "    </tr>\n",
       "    <tr>\n",
       "      <th>10</th>\n",
       "      <td>0.1</td>\n",
       "      <td>366</td>\n",
       "      <td>467</td>\n",
       "      <td>556</td>\n",
       "      <td>20</td>\n",
       "      <td>0.948187</td>\n",
       "      <td>0.543500</td>\n",
       "    </tr>\n",
       "    <tr>\n",
       "      <th>20</th>\n",
       "      <td>0.2</td>\n",
       "      <td>333</td>\n",
       "      <td>667</td>\n",
       "      <td>356</td>\n",
       "      <td>53</td>\n",
       "      <td>0.862694</td>\n",
       "      <td>0.347996</td>\n",
       "    </tr>\n",
       "    <tr>\n",
       "      <th>30</th>\n",
       "      <td>0.3</td>\n",
       "      <td>284</td>\n",
       "      <td>787</td>\n",
       "      <td>236</td>\n",
       "      <td>102</td>\n",
       "      <td>0.735751</td>\n",
       "      <td>0.230694</td>\n",
       "    </tr>\n",
       "    <tr>\n",
       "      <th>40</th>\n",
       "      <td>0.4</td>\n",
       "      <td>249</td>\n",
       "      <td>857</td>\n",
       "      <td>166</td>\n",
       "      <td>137</td>\n",
       "      <td>0.645078</td>\n",
       "      <td>0.162268</td>\n",
       "    </tr>\n",
       "    <tr>\n",
       "      <th>50</th>\n",
       "      <td>0.5</td>\n",
       "      <td>210</td>\n",
       "      <td>922</td>\n",
       "      <td>101</td>\n",
       "      <td>176</td>\n",
       "      <td>0.544041</td>\n",
       "      <td>0.098729</td>\n",
       "    </tr>\n",
       "    <tr>\n",
       "      <th>60</th>\n",
       "      <td>0.6</td>\n",
       "      <td>150</td>\n",
       "      <td>970</td>\n",
       "      <td>53</td>\n",
       "      <td>236</td>\n",
       "      <td>0.388601</td>\n",
       "      <td>0.051808</td>\n",
       "    </tr>\n",
       "    <tr>\n",
       "      <th>70</th>\n",
       "      <td>0.7</td>\n",
       "      <td>76</td>\n",
       "      <td>1003</td>\n",
       "      <td>20</td>\n",
       "      <td>310</td>\n",
       "      <td>0.196891</td>\n",
       "      <td>0.019550</td>\n",
       "    </tr>\n",
       "    <tr>\n",
       "      <th>80</th>\n",
       "      <td>0.8</td>\n",
       "      <td>13</td>\n",
       "      <td>1022</td>\n",
       "      <td>1</td>\n",
       "      <td>373</td>\n",
       "      <td>0.033679</td>\n",
       "      <td>0.000978</td>\n",
       "    </tr>\n",
       "    <tr>\n",
       "      <th>90</th>\n",
       "      <td>0.9</td>\n",
       "      <td>0</td>\n",
       "      <td>1023</td>\n",
       "      <td>0</td>\n",
       "      <td>386</td>\n",
       "      <td>0.000000</td>\n",
       "      <td>0.000000</td>\n",
       "    </tr>\n",
       "    <tr>\n",
       "      <th>100</th>\n",
       "      <td>1.0</td>\n",
       "      <td>0</td>\n",
       "      <td>1023</td>\n",
       "      <td>0</td>\n",
       "      <td>386</td>\n",
       "      <td>0.000000</td>\n",
       "      <td>0.000000</td>\n",
       "    </tr>\n",
       "  </tbody>\n",
       "</table>\n",
       "</div>"
      ],
      "text/plain": [
       "       t   tp    tn    fp   fn       tpr       fpr\n",
       "0    0.0  386     0  1023    0  1.000000  1.000000\n",
       "10   0.1  366   467   556   20  0.948187  0.543500\n",
       "20   0.2  333   667   356   53  0.862694  0.347996\n",
       "30   0.3  284   787   236  102  0.735751  0.230694\n",
       "40   0.4  249   857   166  137  0.645078  0.162268\n",
       "50   0.5  210   922   101  176  0.544041  0.098729\n",
       "60   0.6  150   970    53  236  0.388601  0.051808\n",
       "70   0.7   76  1003    20  310  0.196891  0.019550\n",
       "80   0.8   13  1022     1  373  0.033679  0.000978\n",
       "90   0.9    0  1023     0  386  0.000000  0.000000\n",
       "100  1.0    0  1023     0  386  0.000000  0.000000"
      ]
     },
     "execution_count": 50,
     "metadata": {},
     "output_type": "execute_result"
    }
   ],
   "source": [
    "df_small[::10]"
   ]
  },
  {
   "cell_type": "code",
   "execution_count": 55,
   "id": "ba131cf5",
   "metadata": {},
   "outputs": [
    {
     "data": {
      "image/png": "[encoded data removed]",
      "text/plain": [
       "<Figure size 432x288 with 1 Axes>"
      ]
     },
     "metadata": {
      "needs_background": "light"
     },
     "output_type": "display_data"
    }
   ],
   "source": [
    "plt.plot(df_small.t, df_small['tpr'], label='TPR')\n",
    "plt.plot(df_small.t, df_small['fpr'], label='FPR')\n",
    "\n",
    "plt.xlabel('thresholds')\n",
    "\n",
    "plt.xticks(np.linspace(0, 1, 11))\n",
    "plt.yticks(np.linspace(0, 1, 11))\n",
    "\n",
    "plt.legend()\n",
    "plt.show()"
   ]
  },
  {
   "cell_type": "raw",
   "id": "2b1320cc",
   "metadata": {},
   "source": [
    "At threshold 0: all customers are predicted as churning. Here\n",
    "TPR is 100 as all churning customers are predicted as churning,\n",
    "but FPR is also 100 as non-churning aren't identified at all.\n",
    "\n",
    "We want FPR to go down as fast as possible and TPR to stay\n",
    "roughly the same."
   ]
  },
  {
   "cell_type": "markdown",
   "id": "2def6afa",
   "metadata": {},
   "source": [
    "# Random model"
   ]
  },
  {
   "cell_type": "code",
   "execution_count": 66,
   "id": "e4ea68b0",
   "metadata": {},
   "outputs": [],
   "source": [
    "# make model that randomly predicts churn/non-churn\n",
    "np.random.seed(1)\n",
    "\n",
    "y_rand = np.random.uniform(0, 1, size=len(y_valid))"
   ]
  },
  {
   "cell_type": "code",
   "execution_count": 67,
   "id": "3b860c67",
   "metadata": {},
   "outputs": [
    {
     "data": {
      "text/plain": [
       "array([0.417, 0.72 , 0.   , ..., 0.774, 0.334, 0.089])"
      ]
     },
     "execution_count": 67,
     "metadata": {},
     "output_type": "execute_result"
    }
   ],
   "source": [
    "y_rand.round(3)"
   ]
  },
  {
   "cell_type": "code",
   "execution_count": 68,
   "id": "4ccc921d",
   "metadata": {},
   "outputs": [
    {
     "data": {
      "text/plain": [
       "0.5017743080198722"
      ]
     },
     "execution_count": 68,
     "metadata": {},
     "output_type": "execute_result"
    }
   ],
   "source": [
    "((y_rand >= 0.5) == y_valid).mean()"
   ]
  },
  {
   "cell_type": "code",
   "execution_count": 69,
   "id": "bd155e7d",
   "metadata": {},
   "outputs": [],
   "source": [
    "def tpr_fpr_score(y_valid, soft_prediction):\n",
    "    scores = []\n",
    "\n",
    "    thresholds = np.linspace(0, 1, 101)\n",
    "\n",
    "    for t in thresholds:\n",
    "        actual_positive = (y_valid == 1)\n",
    "        actual_negative = (y_valid == 0)\n",
    "\n",
    "        prediction_positive = (soft_prediction >= t)\n",
    "        prediction_negative = (soft_prediction < t)\n",
    "\n",
    "        true_positive = (actual_positive & prediction_positive).sum()\n",
    "        true_negative = (actual_negative & prediction_negative).sum()\n",
    "\n",
    "        false_positive = (actual_negative & prediction_positive).sum()\n",
    "        false_negative = (actual_positive & prediction_negative).sum()\n",
    "\n",
    "        scores.append((t, true_positive, true_negative,\n",
    "                       false_positive, false_negative))\n",
    "        \n",
    "    \n",
    "    columns = ['t', 'tp', 'tn', 'fp', 'fn']\n",
    "\n",
    "    df_small = pd.DataFrame(scores, columns=columns)\n",
    "    df_small['tpr'] = df_small.tp / (df_small.tp + df_small.fn)\n",
    "    df_small['fpr'] = df_small.fp / (df_small.fp + df_small.tn)\n",
    "\n",
    "    return df_small"
   ]
  },
  {
   "cell_type": "code",
   "execution_count": 70,
   "id": "5689745b",
   "metadata": {},
   "outputs": [],
   "source": [
    "df_rand = tpr_fpr_score(y_valid, y_rand)"
   ]
  },
  {
   "cell_type": "code",
   "execution_count": 72,
   "id": "b1953d1f",
   "metadata": {
    "scrolled": true
   },
   "outputs": [
    {
     "data": {
      "text/html": [
       "<div>\n",
       "<style scoped>\n",
       "    .dataframe tbody tr th:only-of-type {\n",
       "        vertical-align: middle;\n",
       "    }\n",
       "\n",
       "    .dataframe tbody tr th {\n",
       "        vertical-align: top;\n",
       "    }\n",
       "\n",
       "    .dataframe thead th {\n",
       "        text-align: right;\n",
       "    }\n",
       "</style>\n",
       "<table border=\"1\" class=\"dataframe\">\n",
       "  <thead>\n",
       "    <tr style=\"text-align: right;\">\n",
       "      <th></th>\n",
       "      <th>t</th>\n",
       "      <th>tp</th>\n",
       "      <th>tn</th>\n",
       "      <th>fp</th>\n",
       "      <th>fn</th>\n",
       "      <th>tpr</th>\n",
       "      <th>fpr</th>\n",
       "    </tr>\n",
       "  </thead>\n",
       "  <tbody>\n",
       "    <tr>\n",
       "      <th>0</th>\n",
       "      <td>0.0</td>\n",
       "      <td>386</td>\n",
       "      <td>0</td>\n",
       "      <td>1023</td>\n",
       "      <td>0</td>\n",
       "      <td>1.000000</td>\n",
       "      <td>1.000000</td>\n",
       "    </tr>\n",
       "    <tr>\n",
       "      <th>10</th>\n",
       "      <td>0.1</td>\n",
       "      <td>347</td>\n",
       "      <td>100</td>\n",
       "      <td>923</td>\n",
       "      <td>39</td>\n",
       "      <td>0.898964</td>\n",
       "      <td>0.902248</td>\n",
       "    </tr>\n",
       "    <tr>\n",
       "      <th>20</th>\n",
       "      <td>0.2</td>\n",
       "      <td>307</td>\n",
       "      <td>201</td>\n",
       "      <td>822</td>\n",
       "      <td>79</td>\n",
       "      <td>0.795337</td>\n",
       "      <td>0.803519</td>\n",
       "    </tr>\n",
       "    <tr>\n",
       "      <th>30</th>\n",
       "      <td>0.3</td>\n",
       "      <td>276</td>\n",
       "      <td>299</td>\n",
       "      <td>724</td>\n",
       "      <td>110</td>\n",
       "      <td>0.715026</td>\n",
       "      <td>0.707722</td>\n",
       "    </tr>\n",
       "    <tr>\n",
       "      <th>40</th>\n",
       "      <td>0.4</td>\n",
       "      <td>237</td>\n",
       "      <td>399</td>\n",
       "      <td>624</td>\n",
       "      <td>149</td>\n",
       "      <td>0.613990</td>\n",
       "      <td>0.609971</td>\n",
       "    </tr>\n",
       "    <tr>\n",
       "      <th>50</th>\n",
       "      <td>0.5</td>\n",
       "      <td>202</td>\n",
       "      <td>505</td>\n",
       "      <td>518</td>\n",
       "      <td>184</td>\n",
       "      <td>0.523316</td>\n",
       "      <td>0.506354</td>\n",
       "    </tr>\n",
       "    <tr>\n",
       "      <th>60</th>\n",
       "      <td>0.6</td>\n",
       "      <td>161</td>\n",
       "      <td>614</td>\n",
       "      <td>409</td>\n",
       "      <td>225</td>\n",
       "      <td>0.417098</td>\n",
       "      <td>0.399804</td>\n",
       "    </tr>\n",
       "    <tr>\n",
       "      <th>70</th>\n",
       "      <td>0.7</td>\n",
       "      <td>121</td>\n",
       "      <td>721</td>\n",
       "      <td>302</td>\n",
       "      <td>265</td>\n",
       "      <td>0.313472</td>\n",
       "      <td>0.295210</td>\n",
       "    </tr>\n",
       "    <tr>\n",
       "      <th>80</th>\n",
       "      <td>0.8</td>\n",
       "      <td>78</td>\n",
       "      <td>817</td>\n",
       "      <td>206</td>\n",
       "      <td>308</td>\n",
       "      <td>0.202073</td>\n",
       "      <td>0.201369</td>\n",
       "    </tr>\n",
       "    <tr>\n",
       "      <th>90</th>\n",
       "      <td>0.9</td>\n",
       "      <td>40</td>\n",
       "      <td>922</td>\n",
       "      <td>101</td>\n",
       "      <td>346</td>\n",
       "      <td>0.103627</td>\n",
       "      <td>0.098729</td>\n",
       "    </tr>\n",
       "    <tr>\n",
       "      <th>100</th>\n",
       "      <td>1.0</td>\n",
       "      <td>0</td>\n",
       "      <td>1023</td>\n",
       "      <td>0</td>\n",
       "      <td>386</td>\n",
       "      <td>0.000000</td>\n",
       "      <td>0.000000</td>\n",
       "    </tr>\n",
       "  </tbody>\n",
       "</table>\n",
       "</div>"
      ],
      "text/plain": [
       "       t   tp    tn    fp   fn       tpr       fpr\n",
       "0    0.0  386     0  1023    0  1.000000  1.000000\n",
       "10   0.1  347   100   923   39  0.898964  0.902248\n",
       "20   0.2  307   201   822   79  0.795337  0.803519\n",
       "30   0.3  276   299   724  110  0.715026  0.707722\n",
       "40   0.4  237   399   624  149  0.613990  0.609971\n",
       "50   0.5  202   505   518  184  0.523316  0.506354\n",
       "60   0.6  161   614   409  225  0.417098  0.399804\n",
       "70   0.7  121   721   302  265  0.313472  0.295210\n",
       "80   0.8   78   817   206  308  0.202073  0.201369\n",
       "90   0.9   40   922   101  346  0.103627  0.098729\n",
       "100  1.0    0  1023     0  386  0.000000  0.000000"
      ]
     },
     "execution_count": 72,
     "metadata": {},
     "output_type": "execute_result"
    }
   ],
   "source": [
    "df_rand[::10]"
   ]
  },
  {
   "cell_type": "code",
   "execution_count": 73,
   "id": "14fcccbe",
   "metadata": {},
   "outputs": [
    {
     "data": {
      "image/png": "[encoded data removed]",
      "text/plain": [
       "<Figure size 432x288 with 1 Axes>"
      ]
     },
     "metadata": {
      "needs_background": "light"
     },
     "output_type": "display_data"
    }
   ],
   "source": [
    "plt.plot(df_rand.t, df_rand['tpr'], label='TPR')\n",
    "plt.plot(df_rand.t, df_rand['fpr'], label='FPR')\n",
    "\n",
    "plt.xlabel('thresholds')\n",
    "\n",
    "plt.xticks(np.linspace(0, 1, 11))\n",
    "plt.yticks(np.linspace(0, 1, 11))\n",
    "\n",
    "plt.legend()\n",
    "plt.show()"
   ]
  },
  {
   "cell_type": "raw",
   "id": "9833bf98",
   "metadata": {},
   "source": [
    "Take 0.6: in 60% model predicts customer is non-churning,\n",
    "in 40% model predicts it churns.\n",
    "=> 40% mistakes for non-churning ones"
   ]
  },
  {
   "cell_type": "markdown",
   "id": "a09becc8",
   "metadata": {},
   "source": [
    "# Ideal model"
   ]
  },
  {
   "cell_type": "code",
   "execution_count": 79,
   "id": "1cdab40e",
   "metadata": {},
   "outputs": [
    {
     "data": {
      "text/plain": [
       "(1023, 386)"
      ]
     },
     "execution_count": 79,
     "metadata": {},
     "output_type": "execute_result"
    }
   ],
   "source": [
    "num_neg = (y_valid == 0).sum()\n",
    "num_pos = (y_valid == 1).sum()\n",
    "num_neg, num_pos"
   ]
  },
  {
   "cell_type": "code",
   "execution_count": 81,
   "id": "c959b90f",
   "metadata": {},
   "outputs": [],
   "source": [
    "y_ideal = np.repeat([0, 1], [num_neg, num_pos])\n",
    "y_pred = np.linspace(0, 1, num_neg + num_pos)\n",
    "df_ideal = tpr_fpr_score(y_ideal, y_pred)"
   ]
  },
  {
   "cell_type": "markdown",
   "id": "3a0ca2c7",
   "metadata": {},
   "source": [
    "![title](roc.jpg)"
   ]
  },
  {
   "cell_type": "raw",
   "id": "67df6b89",
   "metadata": {},
   "source": [
    "At first we order non-churning and then churning."
   ]
  },
  {
   "cell_type": "code",
   "execution_count": 82,
   "id": "18e106d9",
   "metadata": {},
   "outputs": [
    {
     "data": {
      "image/png": "[encoded data removed]",
      "text/plain": [
       "<Figure size 432x288 with 1 Axes>"
      ]
     },
     "metadata": {
      "needs_background": "light"
     },
     "output_type": "display_data"
    }
   ],
   "source": [
    "plt.plot(df_ideal.t, df_ideal['tpr'], label='TPR')\n",
    "plt.plot(df_ideal.t, df_ideal['fpr'], label='FPR')\n",
    "\n",
    "plt.xlabel('thresholds')\n",
    "\n",
    "plt.xticks(np.linspace(0, 1, 11))\n",
    "plt.yticks(np.linspace(0, 1, 11))\n",
    "\n",
    "plt.legend()\n",
    "plt.show()"
   ]
  },
  {
   "cell_type": "raw",
   "id": "42f9ec22",
   "metadata": {},
   "source": [
    "At 0.4 threshold we put line above and FPR is 45%. We see that to 0.72 there are roughly 0.3 people who are predicted as churning even though they're not (FPR). "
   ]
  },
  {
   "cell_type": "code",
   "execution_count": 88,
   "id": "dee70218",
   "metadata": {},
   "outputs": [
    {
     "data": {
      "text/plain": [
       "1.0"
      ]
     },
     "execution_count": 88,
     "metadata": {},
     "output_type": "execute_result"
    }
   ],
   "source": [
    "((y_pred >= 0.726) == y_ideal).mean()\n",
    "# 0.72 as we see from the graph is the point where\n",
    "# all non-churning and all churning are classified\n",
    "# correctly"
   ]
  },
  {
   "cell_type": "code",
   "execution_count": 91,
   "id": "ceadf997",
   "metadata": {},
   "outputs": [
    {
     "data": {
      "image/png": "[encoded data removed]",
      "text/plain": [
       "<Figure size 432x288 with 1 Axes>"
      ]
     },
     "metadata": {
      "needs_background": "light"
     },
     "output_type": "display_data"
    }
   ],
   "source": [
    "plt.plot(df_ideal.t, df_ideal['tpr'], label='TPR', color='black')\n",
    "plt.plot(df_ideal.t, df_ideal['fpr'], label='FPR', color='black')\n",
    "\n",
    "# plt.plot(df_rand['fpr'], df_rand['tpr'], label='Rand')\n",
    "plt.plot(df_small.t, df_small['tpr'], label='TPR')\n",
    "plt.plot(df_small.t, df_small['fpr'], label='FPR')\n",
    "\n",
    "plt.xlabel('thresholds')\n",
    "\n",
    "plt.xticks(np.linspace(0, 1, 11))\n",
    "plt.yticks(np.linspace(0, 1, 11))\n",
    "\n",
    "plt.legend()\n",
    "plt.show()\n",
    "# We want TPR to be as close to ideal TPR"
   ]
  },
  {
   "cell_type": "code",
   "execution_count": 93,
   "id": "e7feb25d",
   "metadata": {},
   "outputs": [
    {
     "data": {
      "image/png": "[encoded data removed]",
      "text/plain": [
       "<Figure size 432x432 with 1 Axes>"
      ]
     },
     "metadata": {
      "needs_background": "light"
     },
     "output_type": "display_data"
    }
   ],
   "source": [
    "plt.figure(figsize=(6,6))\n",
    "\n",
    "plt.plot(df_ideal['fpr'], df_ideal['tpr'], label='Ideal')\n",
    "plt.plot(df_rand['fpr'], df_rand['tpr'], label='Rand')\n",
    "plt.plot(df_small['fpr'], df_small['tpr'], label='Model')\n",
    "\n",
    "plt.xlabel('False Positive Rate')\n",
    "plt.ylabel('True Positive Rate')\n",
    "\n",
    "plt.xticks(np.linspace(0, 1, 11))\n",
    "plt.yticks(np.linspace(0, 1, 11))\n",
    "\n",
    "plt.legend()\n",
    "plt.show()"
   ]
  },
  {
   "cell_type": "raw",
   "id": "d955eee5",
   "metadata": {},
   "source": [
    "TPR is 100 and FPR is 0 in the left corner of the ideal model. It's that 0.726 point. So, we want our model to be as close to left corner as possible.\n",
    "\n",
    "At bottom left - 0 fpr (only true negatives) & 0 tpr.\n",
    "In the bottom right: all are churning (we're able to identify\n",
    "all churning ones), but we can't find non-churning, so\n",
    "tpr is 100% and fpr is 100%.\n",
    "\n",
    "Look at y-axis and see how we start to find more tpr, but at the\n",
    "same time we start to make mistakes at x-axis.\n",
    "\n",
    "At the model (green line): on the line itself we have 0.7 somewhere on line with y-axis 0.2, 0.6 - 0.4 y-axis"
   ]
  },
  {
   "cell_type": "code",
   "execution_count": null,
   "id": "cdf47094",
   "metadata": {},
   "outputs": [],
   "source": []
  },
  {
   "cell_type": "code",
   "execution_count": null,
   "id": "4e48d868",
   "metadata": {},
   "outputs": [],
   "source": []
  }
 ],
 "metadata": {
  "kernelspec": {
   "display_name": "Python 3",
   "language": "python",
   "name": "python3"
  },
  "language_info": {
   "codemirror_mode": {
    "name": "ipython",
    "version": 3
   },
   "file_extension": ".py",
   "mimetype": "text/x-python",
   "name": "python",
   "nbconvert_exporter": "python",
   "pygments_lexer": "ipython3",
   "version": "3.8.10"
  }
 },
 "nbformat": 4,
 "nbformat_minor": 5
}
