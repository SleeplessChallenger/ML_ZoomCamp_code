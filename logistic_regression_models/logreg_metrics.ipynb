{
 "cells": [
  {
   "cell_type": "code",
   "execution_count": 1,
   "id": "d7eb3e9e",
   "metadata": {},
   "outputs": [],
   "source": [
    "import pandas as pd\n",
    "import numpy as np\n",
    "import seaborn as sns\n",
    "from matplotlib import pyplot as plt\n",
    "%matplotlib inline\n",
    "\n",
    "from sklearn.model_selection import train_test_split\n",
    "from sklearn.feature_extraction import DictVectorizer\n",
    "from sklearn.linear_model import LogisticRegression"
   ]
  },
  {
   "cell_type": "code",
   "execution_count": 2,
   "id": "52139f43",
   "metadata": {},
   "outputs": [],
   "source": [
    "df = pd.read_csv('../../churn-prediction/customers_data.csv')"
   ]
  },
  {
   "cell_type": "code",
   "execution_count": 3,
   "id": "f6d52e05",
   "metadata": {},
   "outputs": [],
   "source": [
    "df.columns = df.columns.str.lower().str.replace(\" \", \"_\")\n",
    "\n",
    "str_cols = list(df.dtypes[df.dtypes == 'object'].index)\n",
    "\n",
    "for col in str_cols:\n",
    "    df[col] = df[col].str.lower().str.replace(\" \", \"_\")\n",
    "    \n",
    "df.totalcharges = pd.to_numeric(df.totalcharges, errors='coerce')\n",
    "\n",
    "df.totalcharges = df.totalcharges.fillna(0)\n",
    "\n",
    "df.churn = (df.churn == 'yes').astype(int)"
   ]
  },
  {
   "cell_type": "code",
   "execution_count": 4,
   "id": "a62c6da1",
   "metadata": {},
   "outputs": [],
   "source": [
    "full_train, df_test = train_test_split(df, test_size=0.2, random_state=1)\n",
    "df_train, df_valid = train_test_split(full_train, test_size=0.25, random_state=1)"
   ]
  },
  {
   "cell_type": "code",
   "execution_count": 5,
   "id": "9e1f0018",
   "metadata": {},
   "outputs": [],
   "source": [
    "y_test = df_test.churn.values\n",
    "y_valid = df_valid.churn.values\n",
    "y_train = df_train.churn.values\n",
    "\n",
    "df_train = df_train.reset_index(drop=True)\n",
    "df_valid = df_valid.reset_index(drop=True)\n",
    "df_train = df_train.reset_index(drop=True)\n",
    "\n",
    "del df_test['churn']\n",
    "del df_valid['churn']\n",
    "del df_train['churn']"
   ]
  },
  {
   "cell_type": "code",
   "execution_count": 6,
   "id": "7f3fa34b",
   "metadata": {},
   "outputs": [],
   "source": [
    "numerical = ['tenure', 'monthlycharges', 'totalcharges']\n",
    "\n",
    "categorical = ['gender', 'seniorcitizen', 'partner', 'dependents',\n",
    "               'phoneservice', 'multiplelines', 'internetservice',\n",
    "               'onlinesecurity', 'onlinebackup', 'deviceprotection',\n",
    "               'techsupport', 'streamingtv', 'streamingmovies',\n",
    "               'contract', 'paperlessbilling', 'paymentmethod']"
   ]
  },
  {
   "cell_type": "code",
   "execution_count": 7,
   "id": "18ae7e28",
   "metadata": {},
   "outputs": [
    {
     "data": {
      "text/plain": [
       "LogisticRegression()"
      ]
     },
     "execution_count": 7,
     "metadata": {},
     "output_type": "execute_result"
    }
   ],
   "source": [
    "dv = DictVectorizer(sparse=False)\n",
    "\n",
    "train_dict = df_train[numerical + categorical].to_dict(orient='records')\n",
    "X_train = dv.fit_transform(train_dict)\n",
    "\n",
    "model = LogisticRegression()\n",
    "model.fit(X_train, y_train)"
   ]
  },
  {
   "cell_type": "code",
   "execution_count": 8,
   "id": "9b2ab248",
   "metadata": {},
   "outputs": [],
   "source": [
    "valid_dict = df_valid[numerical + categorical].to_dict(orient='records')\n",
    "X_valid = dv.transform(valid_dict)\n",
    "\n",
    "prediction = model.predict_proba(X_valid)\n",
    "\n",
    "soft_prediction = model.predict_proba(X_valid)[:, 1]"
   ]
  },
  {
   "cell_type": "code",
   "execution_count": 22,
   "id": "d8377cef",
   "metadata": {},
   "outputs": [
    {
     "data": {
      "text/plain": [
       "0.8034066713981547"
      ]
     },
     "execution_count": 22,
     "metadata": {},
     "output_type": "execute_result"
    }
   ],
   "source": [
    "churn_decision = (soft_prediction >= 0.5)\n",
    "\n",
    "(churn_decision == y_valid).mean()"
   ]
  },
  {
   "cell_type": "markdown",
   "id": "3bc5e76c",
   "metadata": {},
   "source": [
    "# Accuracy and dummy model"
   ]
  },
  {
   "cell_type": "raw",
   "id": "453c2bc9",
   "metadata": {},
   "source": [
    "Accuracy is number of correct predictions / all data"
   ]
  },
  {
   "cell_type": "code",
   "execution_count": 12,
   "id": "5099abd6",
   "metadata": {},
   "outputs": [
    {
     "data": {
      "text/plain": [
       "1409"
      ]
     },
     "execution_count": 12,
     "metadata": {},
     "output_type": "execute_result"
    }
   ],
   "source": [
    "len(y_valid)"
   ]
  },
  {
   "cell_type": "code",
   "execution_count": 13,
   "id": "8b6c9a98",
   "metadata": {},
   "outputs": [
    {
     "data": {
      "text/plain": [
       "1132"
      ]
     },
     "execution_count": 13,
     "metadata": {},
     "output_type": "execute_result"
    }
   ],
   "source": [
    "(y_valid == churn_decision).sum()\n",
    "# absolute value"
   ]
  },
  {
   "cell_type": "code",
   "execution_count": 14,
   "id": "6fafa646",
   "metadata": {},
   "outputs": [
    {
     "data": {
      "text/plain": [
       "array([0.  , 0.05, 0.1 , 0.15, 0.2 , 0.25, 0.3 , 0.35, 0.4 , 0.45, 0.5 ,\n",
       "       0.55, 0.6 , 0.65, 0.7 , 0.75, 0.8 , 0.85, 0.9 , 0.95, 1.  ])"
      ]
     },
     "execution_count": 14,
     "metadata": {},
     "output_type": "execute_result"
    }
   ],
   "source": [
    "thresholds = np.linspace(0, 1, 21)\n",
    "\n",
    "thresholds"
   ]
  },
  {
   "cell_type": "code",
   "execution_count": 15,
   "id": "5acc0a35",
   "metadata": {},
   "outputs": [],
   "source": [
    "scores = []\n",
    "\n",
    "for t in thresholds:\n",
    "    churn_decision = (soft_prediction >= t)\n",
    "    score = (y_valid == churn_decision).mean()\n",
    "    scores.append(score)"
   ]
  },
  {
   "cell_type": "code",
   "execution_count": 21,
   "id": "87fdf7a0",
   "metadata": {
    "scrolled": true
   },
   "outputs": [
    {
     "data": {
      "image/png": "[encoded data removed]",
      "text/plain": [
       "<Figure size 432x288 with 1 Axes>"
      ]
     },
     "metadata": {
      "needs_background": "light"
     },
     "output_type": "display_data"
    }
   ],
   "source": [
    "plt.plot(thresholds, scores)\n",
    "plt.title('Threshold accuracy')\n",
    "plt.xlabel('threshold')\n",
    "plt.ylabel('score')\n",
    "\n",
    "plt.xticks(np.linspace(0, 1, 11))\n",
    "plt.show()"
   ]
  },
  {
   "cell_type": "raw",
   "id": "ff2fe8d2",
   "metadata": {},
   "source": [
    "In our case 0.5 is the best threshold, but it doesn't alwways the case"
   ]
  },
  {
   "cell_type": "code",
   "execution_count": 24,
   "id": "6d6c5475",
   "metadata": {},
   "outputs": [
    {
     "data": {
      "text/plain": [
       "0.8034066713981547"
      ]
     },
     "execution_count": 24,
     "metadata": {},
     "output_type": "execute_result"
    }
   ],
   "source": [
    "# doing via sklearn\n",
    "from sklearn.metrics import accuracy_score\n",
    "\n",
    "accuracy_score(y_valid, soft_prediction >= 0.5)"
   ]
  },
  {
   "cell_type": "raw",
   "id": "91cf0ed9",
   "metadata": {},
   "source": [
    "1.0 is when our model says: Everyone is non-churning\n",
    "\n",
    "Why does our dummy model have so good accuracy? =>\n",
    "We have class imbalance (more non-churning than churning),\n",
    "that's why when predicting churning it shows good results\n",
    "(again, churning customers have smaller amount and\n",
    "bad prediction doesn't hurt so much)"
   ]
  },
  {
   "cell_type": "code",
   "execution_count": 25,
   "id": "2925b5d7",
   "metadata": {},
   "outputs": [
    {
     "data": {
      "text/plain": [
       "0.2739531582682754"
      ]
     },
     "execution_count": 25,
     "metadata": {},
     "output_type": "execute_result"
    }
   ],
   "source": [
    "y_valid.mean()\n",
    "# 27% are churning"
   ]
  },
  {
   "cell_type": "code",
   "execution_count": 26,
   "id": "b7e943b8",
   "metadata": {},
   "outputs": [
    {
     "data": {
      "text/plain": [
       "0.7260468417317246"
      ]
     },
     "execution_count": 26,
     "metadata": {},
     "output_type": "execute_result"
    }
   ],
   "source": [
    "1 - y_valid.mean()\n",
    "# 72% are non-churning"
   ]
  },
  {
   "cell_type": "code",
   "execution_count": 29,
   "id": "2a217228",
   "metadata": {},
   "outputs": [],
   "source": [
    "length = len(y_valid)\n",
    "baseline = np.repeat(False, length)"
   ]
  },
  {
   "cell_type": "code",
   "execution_count": 31,
   "id": "b4ec1f7d",
   "metadata": {},
   "outputs": [
    {
     "data": {
      "text/plain": [
       "0.726"
      ]
     },
     "execution_count": 31,
     "metadata": {},
     "output_type": "execute_result"
    }
   ],
   "source": [
    "round(accuracy_score(baseline, y_valid, ), 3)"
   ]
  },
  {
   "cell_type": "markdown",
   "id": "c642e109",
   "metadata": {},
   "source": [
    "# Confusion table"
   ]
  },
  {
   "cell_type": "raw",
   "id": "223e1790",
   "metadata": {},
   "source": [
    "g(xi) has 2 results: positive and negative (churn and non-churn).\n",
    "Each of the results has True & False (correct and wrong)\n",
    "\n",
    "For True (churn): True positive and False positive\n",
    "For False (non-churn): True negative and False negative"
   ]
  },
  {
   "cell_type": "code",
   "execution_count": 32,
   "id": "05d55c03",
   "metadata": {},
   "outputs": [],
   "source": [
    "actual_positive = (y_valid == 1)\n",
    "actual_negative = (y_valid == 0)"
   ]
  },
  {
   "cell_type": "code",
   "execution_count": 33,
   "id": "e369080a",
   "metadata": {},
   "outputs": [],
   "source": [
    "t = 0.5\n",
    "\n",
    "prediction_positive = (soft_prediction >= t)\n",
    "prediction_negative = (soft_prediction < t)"
   ]
  },
  {
   "cell_type": "code",
   "execution_count": 34,
   "id": "43756a89",
   "metadata": {},
   "outputs": [],
   "source": [
    "true_positive = (actual_positive & prediction_positive).sum()\n",
    "true_negative = (actual_negative & prediction_negative).sum()\n",
    "\n",
    "false_positive = (actual_negative & prediction_positive).sum()\n",
    "false_negative = (actual_positive & prediction_negative).sum()"
   ]
  },
  {
   "cell_type": "code",
   "execution_count": 35,
   "id": "a64f82e8",
   "metadata": {},
   "outputs": [],
   "source": [
    "               # predictions\n",
    "          # neg              pos\n",
    "c_t = np.array([\n",
    "        [true_negative, false_positive],    # neg   # actual values\n",
    "        [false_negative, true_positive]     # pos\n",
    "])                \n",
    "                 "
   ]
  },
  {
   "cell_type": "code",
   "execution_count": 36,
   "id": "b7631867",
   "metadata": {},
   "outputs": [
    {
     "data": {
      "text/plain": [
       "array([[922, 101],\n",
       "       [176, 210]])"
      ]
     },
     "execution_count": 36,
     "metadata": {},
     "output_type": "execute_result"
    }
   ],
   "source": [
    "c_t\n",
    "# false_positive is when customer doesn't churn, but we predict as churn\n",
    "# false_negative is when customer does churn, but we predict as no-churn"
   ]
  },
  {
   "cell_type": "raw",
   "id": "7efed964",
   "metadata": {},
   "source": [
    "As we see we have much more false_negative than false_positive.\n",
    "Hence for our model finding out churning customers is quite difficult."
   ]
  },
  {
   "cell_type": "code",
   "execution_count": 39,
   "id": "3b9a61b0",
   "metadata": {},
   "outputs": [
    {
     "data": {
      "text/plain": [
       "array([[65.43647977,  7.1682044 ],\n",
       "       [12.49112846, 14.90418737]])"
      ]
     },
     "execution_count": 39,
     "metadata": {},
     "output_type": "execute_result"
    }
   ],
   "source": [
    "c_t * 100 / c_t.sum()\n",
    "# normalize it -> get relative numbers"
   ]
  },
  {
   "cell_type": "code",
   "execution_count": 40,
   "id": "6f3d964f",
   "metadata": {},
   "outputs": [
    {
     "data": {
      "text/plain": [
       "0.8034066714000001"
      ]
     },
     "execution_count": 40,
     "metadata": {},
     "output_type": "execute_result"
    }
   ],
   "source": [
    "# we can get our accuracy from confusion table\n",
    "(65.43647977 + 14.90418737) / (65.43647977 + 14.90418737 + 12.49112846 + 7.1682044)"
   ]
  },
  {
   "cell_type": "markdown",
   "id": "35c4f235",
   "metadata": {},
   "source": [
    "# Precision and Recall"
   ]
  },
  {
   "cell_type": "raw",
   "id": "aab6755d",
   "metadata": {},
   "source": [
    "Precision - fraction of positive predictions that are correct.\n",
    "So, we look only at those who are churning (all positive PREDICTIONS)\n",
    "Because FP is in reality False (no-churn) which we incorrectly predict\n",
    "\n",
    "P = TP / (TP + FP)"
   ]
  },
  {
   "cell_type": "code",
   "execution_count": 42,
   "id": "86aac2d1",
   "metadata": {},
   "outputs": [],
   "source": [
    "p = 210 / (101 + 210)"
   ]
  },
  {
   "cell_type": "code",
   "execution_count": 43,
   "id": "f7fca6b9",
   "metadata": {},
   "outputs": [
    {
     "data": {
      "text/plain": [
       "0.6752411575562701"
      ]
     },
     "execution_count": 43,
     "metadata": {},
     "output_type": "execute_result"
    }
   ],
   "source": [
    "p\n",
    "# 33% are mistaken customers who are not supposed to get email"
   ]
  },
  {
   "cell_type": "raw",
   "id": "3ab221a4",
   "metadata": {},
   "source": [
    "Recall - fraction of correctly identified positive examples.\n",
    "Here we also look at those who are churning (all positive REAL DATA)\n",
    "Because FN is in reality True (churn) which we incorrectly predict\n",
    "\n",
    "R = TP / (TP + FN)"
   ]
  },
  {
   "cell_type": "raw",
   "id": "d3f20150",
   "metadata": {},
   "source": [
    "Precision looks at predictions and Recall - actual"
   ]
  },
  {
   "cell_type": "code",
   "execution_count": 44,
   "id": "6a3d1a24",
   "metadata": {},
   "outputs": [],
   "source": [
    "r = 210 / (210 + 176)"
   ]
  },
  {
   "cell_type": "code",
   "execution_count": 45,
   "id": "666f399f",
   "metadata": {},
   "outputs": [
    {
     "data": {
      "text/plain": [
       "0.5440414507772021"
      ]
     },
     "execution_count": 45,
     "metadata": {},
     "output_type": "execute_result"
    }
   ],
   "source": [
    "r\n",
    "# so, 46% of churning customers are not identified"
   ]
  },
  {
   "cell_type": "raw",
   "id": "5059fcff",
   "metadata": {},
   "source": [
    "We don't incorporate True_Negatives. Why? => We're to find churning\n",
    "customers (True value). Also, p & r are good for imbalanced datasets\n",
    "Typically, True_Negatives outnumber everything else in imbalanced\n",
    "datasets, hence we don't look at them."
   ]
  },
  {
   "cell_type": "markdown",
   "id": "270c11ef",
   "metadata": {},
   "source": [
    "# ROC Curve"
   ]
  },
  {
   "cell_type": "code",
   "execution_count": null,
   "id": "29d9d651",
   "metadata": {},
   "outputs": [],
   "source": []
  },
  {
   "cell_type": "code",
   "execution_count": null,
   "id": "36f4f8d5",
   "metadata": {},
   "outputs": [],
   "source": []
  }
 ],
 "metadata": {
  "kernelspec": {
   "display_name": "Python 3",
   "language": "python",
   "name": "python3"
  },
  "language_info": {
   "codemirror_mode": {
    "name": "ipython",
    "version": 3
   },
   "file_extension": ".py",
   "mimetype": "text/x-python",
   "name": "python",
   "nbconvert_exporter": "python",
   "pygments_lexer": "ipython3",
   "version": "3.8.10"
  }
 },
 "nbformat": 4,
 "nbformat_minor": 5
}
