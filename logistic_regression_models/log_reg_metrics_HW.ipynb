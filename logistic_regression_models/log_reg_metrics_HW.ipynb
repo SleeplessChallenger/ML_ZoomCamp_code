{
 "cells": [
  {
   "cell_type": "code",
   "execution_count": 1,
   "id": "401abfc9",
   "metadata": {},
   "outputs": [],
   "source": [
    "import pandas as pd\n",
    "import numpy as np\n",
    "\n",
    "import matplotlib.pyplot as plt\n",
    "import seaborn as sns\n",
    "%matplotlib inline"
   ]
  },
  {
   "cell_type": "code",
   "execution_count": 256,
   "id": "5c0dd93f",
   "metadata": {},
   "outputs": [],
   "source": [
    "df = pd.read_csv('../../decision_trees/CreditScoring.csv')\n",
    "\n",
    "df.columns = df.columns.str.lower()"
   ]
  },
  {
   "cell_type": "code",
   "execution_count": 257,
   "id": "ea881f4d",
   "metadata": {},
   "outputs": [
    {
     "data": {
      "text/html": [
       "<div>\n",
       "<style scoped>\n",
       "    .dataframe tbody tr th:only-of-type {\n",
       "        vertical-align: middle;\n",
       "    }\n",
       "\n",
       "    .dataframe tbody tr th {\n",
       "        vertical-align: top;\n",
       "    }\n",
       "\n",
       "    .dataframe thead th {\n",
       "        text-align: right;\n",
       "    }\n",
       "</style>\n",
       "<table border=\"1\" class=\"dataframe\">\n",
       "  <thead>\n",
       "    <tr style=\"text-align: right;\">\n",
       "      <th></th>\n",
       "      <th>status</th>\n",
       "      <th>seniority</th>\n",
       "      <th>home</th>\n",
       "      <th>time</th>\n",
       "      <th>age</th>\n",
       "      <th>marital</th>\n",
       "      <th>records</th>\n",
       "      <th>job</th>\n",
       "      <th>expenses</th>\n",
       "      <th>income</th>\n",
       "      <th>assets</th>\n",
       "      <th>debt</th>\n",
       "      <th>amount</th>\n",
       "      <th>price</th>\n",
       "    </tr>\n",
       "  </thead>\n",
       "  <tbody>\n",
       "    <tr>\n",
       "      <th>0</th>\n",
       "      <td>1</td>\n",
       "      <td>9</td>\n",
       "      <td>1</td>\n",
       "      <td>60</td>\n",
       "      <td>30</td>\n",
       "      <td>2</td>\n",
       "      <td>1</td>\n",
       "      <td>3</td>\n",
       "      <td>73</td>\n",
       "      <td>129</td>\n",
       "      <td>0</td>\n",
       "      <td>0</td>\n",
       "      <td>800</td>\n",
       "      <td>846</td>\n",
       "    </tr>\n",
       "    <tr>\n",
       "      <th>1</th>\n",
       "      <td>1</td>\n",
       "      <td>17</td>\n",
       "      <td>1</td>\n",
       "      <td>60</td>\n",
       "      <td>58</td>\n",
       "      <td>3</td>\n",
       "      <td>1</td>\n",
       "      <td>1</td>\n",
       "      <td>48</td>\n",
       "      <td>131</td>\n",
       "      <td>0</td>\n",
       "      <td>0</td>\n",
       "      <td>1000</td>\n",
       "      <td>1658</td>\n",
       "    </tr>\n",
       "    <tr>\n",
       "      <th>2</th>\n",
       "      <td>2</td>\n",
       "      <td>10</td>\n",
       "      <td>2</td>\n",
       "      <td>36</td>\n",
       "      <td>46</td>\n",
       "      <td>2</td>\n",
       "      <td>2</td>\n",
       "      <td>3</td>\n",
       "      <td>90</td>\n",
       "      <td>200</td>\n",
       "      <td>3000</td>\n",
       "      <td>0</td>\n",
       "      <td>2000</td>\n",
       "      <td>2985</td>\n",
       "    </tr>\n",
       "    <tr>\n",
       "      <th>3</th>\n",
       "      <td>1</td>\n",
       "      <td>0</td>\n",
       "      <td>1</td>\n",
       "      <td>60</td>\n",
       "      <td>24</td>\n",
       "      <td>1</td>\n",
       "      <td>1</td>\n",
       "      <td>1</td>\n",
       "      <td>63</td>\n",
       "      <td>182</td>\n",
       "      <td>2500</td>\n",
       "      <td>0</td>\n",
       "      <td>900</td>\n",
       "      <td>1325</td>\n",
       "    </tr>\n",
       "    <tr>\n",
       "      <th>4</th>\n",
       "      <td>1</td>\n",
       "      <td>0</td>\n",
       "      <td>1</td>\n",
       "      <td>36</td>\n",
       "      <td>26</td>\n",
       "      <td>1</td>\n",
       "      <td>1</td>\n",
       "      <td>1</td>\n",
       "      <td>46</td>\n",
       "      <td>107</td>\n",
       "      <td>0</td>\n",
       "      <td>0</td>\n",
       "      <td>310</td>\n",
       "      <td>910</td>\n",
       "    </tr>\n",
       "  </tbody>\n",
       "</table>\n",
       "</div>"
      ],
      "text/plain": [
       "   status  seniority  home  time  age  marital  records  job  expenses  \\\n",
       "0       1          9     1    60   30        2        1    3        73   \n",
       "1       1         17     1    60   58        3        1    1        48   \n",
       "2       2         10     2    36   46        2        2    3        90   \n",
       "3       1          0     1    60   24        1        1    1        63   \n",
       "4       1          0     1    36   26        1        1    1        46   \n",
       "\n",
       "   income  assets  debt  amount  price  \n",
       "0     129       0     0     800    846  \n",
       "1     131       0     0    1000   1658  \n",
       "2     200    3000     0    2000   2985  \n",
       "3     182    2500     0     900   1325  \n",
       "4     107       0     0     310    910  "
      ]
     },
     "execution_count": 257,
     "metadata": {},
     "output_type": "execute_result"
    }
   ],
   "source": [
    "df.head(5)"
   ]
  },
  {
   "cell_type": "code",
   "execution_count": 258,
   "id": "e6e2314f",
   "metadata": {},
   "outputs": [
    {
     "data": {
      "text/plain": [
       "status          3\n",
       "seniority      47\n",
       "home            7\n",
       "time           11\n",
       "age            50\n",
       "marital         6\n",
       "records         2\n",
       "job             5\n",
       "expenses       94\n",
       "income        353\n",
       "assets        160\n",
       "debt          183\n",
       "amount        285\n",
       "price        1419\n",
       "dtype: int64"
      ]
     },
     "execution_count": 258,
     "metadata": {},
     "output_type": "execute_result"
    }
   ],
   "source": [
    "df.nunique()"
   ]
  },
  {
   "cell_type": "code",
   "execution_count": 259,
   "id": "2b140f5d",
   "metadata": {},
   "outputs": [],
   "source": [
    "# let's convert categorical with numerical value\n",
    "# to string (object in pandas)\n",
    "status_values = {\n",
    "    1: 'ok',\n",
    "    2: 'default',\n",
    "    0: 'unk'\n",
    "}\n",
    "\n",
    "home_values = {\n",
    "    1: 'rent',\n",
    "    2: 'owner',\n",
    "    3: 'private',\n",
    "    4: 'ignore',\n",
    "    5: 'parents',\n",
    "    6: 'other',\n",
    "    0: 'unk'\n",
    "}\n",
    "\n",
    "marital_values = {\n",
    "    1: 'single',\n",
    "    2: 'married',\n",
    "    3: 'widow',\n",
    "    4: 'separated',\n",
    "    5: 'divorced',\n",
    "    0: 'unk'\n",
    "}\n",
    "\n",
    "records_values = {\n",
    "    1: 'no',\n",
    "    2: 'yes',\n",
    "    0: 'unk'\n",
    "}\n",
    "\n",
    "job_values = {\n",
    "    1: 'fixed',\n",
    "    2: 'partime',\n",
    "    3: 'freelance',\n",
    "    4: 'others',\n",
    "    0: 'unk'\n",
    "}"
   ]
  },
  {
   "cell_type": "code",
   "execution_count": 260,
   "id": "c04db307",
   "metadata": {},
   "outputs": [],
   "source": [
    "df.status = df.status.map(status_values)\n",
    "df.home = df.home.map(home_values)\n",
    "df.marital = df.marital.map(marital_values)\n",
    "df.records = df.records.map(records_values)\n",
    "df.job = df.job.map(job_values)"
   ]
  },
  {
   "cell_type": "code",
   "execution_count": 261,
   "id": "059ebb6d",
   "metadata": {},
   "outputs": [
    {
     "data": {
      "text/html": [
       "<div>\n",
       "<style scoped>\n",
       "    .dataframe tbody tr th:only-of-type {\n",
       "        vertical-align: middle;\n",
       "    }\n",
       "\n",
       "    .dataframe tbody tr th {\n",
       "        vertical-align: top;\n",
       "    }\n",
       "\n",
       "    .dataframe thead th {\n",
       "        text-align: right;\n",
       "    }\n",
       "</style>\n",
       "<table border=\"1\" class=\"dataframe\">\n",
       "  <thead>\n",
       "    <tr style=\"text-align: right;\">\n",
       "      <th></th>\n",
       "      <th>seniority</th>\n",
       "      <th>time</th>\n",
       "      <th>age</th>\n",
       "      <th>expenses</th>\n",
       "      <th>income</th>\n",
       "      <th>assets</th>\n",
       "      <th>debt</th>\n",
       "      <th>amount</th>\n",
       "      <th>price</th>\n",
       "    </tr>\n",
       "  </thead>\n",
       "  <tbody>\n",
       "    <tr>\n",
       "      <th>count</th>\n",
       "      <td>4455.0</td>\n",
       "      <td>4455.0</td>\n",
       "      <td>4455.0</td>\n",
       "      <td>4455.0</td>\n",
       "      <td>4455.0</td>\n",
       "      <td>4455.0</td>\n",
       "      <td>4455.0</td>\n",
       "      <td>4455.0</td>\n",
       "      <td>4455.0</td>\n",
       "    </tr>\n",
       "    <tr>\n",
       "      <th>mean</th>\n",
       "      <td>8.0</td>\n",
       "      <td>46.0</td>\n",
       "      <td>37.0</td>\n",
       "      <td>56.0</td>\n",
       "      <td>763317.0</td>\n",
       "      <td>1060341.0</td>\n",
       "      <td>404382.0</td>\n",
       "      <td>1039.0</td>\n",
       "      <td>1463.0</td>\n",
       "    </tr>\n",
       "    <tr>\n",
       "      <th>std</th>\n",
       "      <td>8.0</td>\n",
       "      <td>15.0</td>\n",
       "      <td>11.0</td>\n",
       "      <td>20.0</td>\n",
       "      <td>8703625.0</td>\n",
       "      <td>10217569.0</td>\n",
       "      <td>6344253.0</td>\n",
       "      <td>475.0</td>\n",
       "      <td>628.0</td>\n",
       "    </tr>\n",
       "    <tr>\n",
       "      <th>min</th>\n",
       "      <td>0.0</td>\n",
       "      <td>6.0</td>\n",
       "      <td>18.0</td>\n",
       "      <td>35.0</td>\n",
       "      <td>0.0</td>\n",
       "      <td>0.0</td>\n",
       "      <td>0.0</td>\n",
       "      <td>100.0</td>\n",
       "      <td>105.0</td>\n",
       "    </tr>\n",
       "    <tr>\n",
       "      <th>25%</th>\n",
       "      <td>2.0</td>\n",
       "      <td>36.0</td>\n",
       "      <td>28.0</td>\n",
       "      <td>35.0</td>\n",
       "      <td>80.0</td>\n",
       "      <td>0.0</td>\n",
       "      <td>0.0</td>\n",
       "      <td>700.0</td>\n",
       "      <td>1118.0</td>\n",
       "    </tr>\n",
       "    <tr>\n",
       "      <th>50%</th>\n",
       "      <td>5.0</td>\n",
       "      <td>48.0</td>\n",
       "      <td>36.0</td>\n",
       "      <td>51.0</td>\n",
       "      <td>120.0</td>\n",
       "      <td>3500.0</td>\n",
       "      <td>0.0</td>\n",
       "      <td>1000.0</td>\n",
       "      <td>1400.0</td>\n",
       "    </tr>\n",
       "    <tr>\n",
       "      <th>75%</th>\n",
       "      <td>12.0</td>\n",
       "      <td>60.0</td>\n",
       "      <td>45.0</td>\n",
       "      <td>72.0</td>\n",
       "      <td>166.0</td>\n",
       "      <td>6000.0</td>\n",
       "      <td>0.0</td>\n",
       "      <td>1300.0</td>\n",
       "      <td>1692.0</td>\n",
       "    </tr>\n",
       "    <tr>\n",
       "      <th>max</th>\n",
       "      <td>48.0</td>\n",
       "      <td>72.0</td>\n",
       "      <td>68.0</td>\n",
       "      <td>180.0</td>\n",
       "      <td>99999999.0</td>\n",
       "      <td>99999999.0</td>\n",
       "      <td>99999999.0</td>\n",
       "      <td>5000.0</td>\n",
       "      <td>11140.0</td>\n",
       "    </tr>\n",
       "  </tbody>\n",
       "</table>\n",
       "</div>"
      ],
      "text/plain": [
       "       seniority    time     age  expenses      income      assets  \\\n",
       "count     4455.0  4455.0  4455.0    4455.0      4455.0      4455.0   \n",
       "mean         8.0    46.0    37.0      56.0    763317.0   1060341.0   \n",
       "std          8.0    15.0    11.0      20.0   8703625.0  10217569.0   \n",
       "min          0.0     6.0    18.0      35.0         0.0         0.0   \n",
       "25%          2.0    36.0    28.0      35.0        80.0         0.0   \n",
       "50%          5.0    48.0    36.0      51.0       120.0      3500.0   \n",
       "75%         12.0    60.0    45.0      72.0       166.0      6000.0   \n",
       "max         48.0    72.0    68.0     180.0  99999999.0  99999999.0   \n",
       "\n",
       "             debt  amount    price  \n",
       "count      4455.0  4455.0   4455.0  \n",
       "mean     404382.0  1039.0   1463.0  \n",
       "std     6344253.0   475.0    628.0  \n",
       "min           0.0   100.0    105.0  \n",
       "25%           0.0   700.0   1118.0  \n",
       "50%           0.0  1000.0   1400.0  \n",
       "75%           0.0  1300.0   1692.0  \n",
       "max    99999999.0  5000.0  11140.0  "
      ]
     },
     "execution_count": 261,
     "metadata": {},
     "output_type": "execute_result"
    }
   ],
   "source": [
    "df.describe().round()\n",
    "# strange big values in 'income'/'assets'/'debt'"
   ]
  },
  {
   "cell_type": "code",
   "execution_count": 262,
   "id": "db3ca9d6",
   "metadata": {},
   "outputs": [],
   "source": [
    "for col in ['income', 'assets', 'debt']:\n",
    "    df[col] = df[col].replace(to_replace=99999999, value=0)"
   ]
  },
  {
   "cell_type": "code",
   "execution_count": 263,
   "id": "dff0c4a7",
   "metadata": {},
   "outputs": [
    {
     "data": {
      "text/html": [
       "<div>\n",
       "<style scoped>\n",
       "    .dataframe tbody tr th:only-of-type {\n",
       "        vertical-align: middle;\n",
       "    }\n",
       "\n",
       "    .dataframe tbody tr th {\n",
       "        vertical-align: top;\n",
       "    }\n",
       "\n",
       "    .dataframe thead th {\n",
       "        text-align: right;\n",
       "    }\n",
       "</style>\n",
       "<table border=\"1\" class=\"dataframe\">\n",
       "  <thead>\n",
       "    <tr style=\"text-align: right;\">\n",
       "      <th></th>\n",
       "      <th>seniority</th>\n",
       "      <th>time</th>\n",
       "      <th>age</th>\n",
       "      <th>expenses</th>\n",
       "      <th>income</th>\n",
       "      <th>assets</th>\n",
       "      <th>debt</th>\n",
       "      <th>amount</th>\n",
       "      <th>price</th>\n",
       "    </tr>\n",
       "  </thead>\n",
       "  <tbody>\n",
       "    <tr>\n",
       "      <th>count</th>\n",
       "      <td>4455.0</td>\n",
       "      <td>4455.0</td>\n",
       "      <td>4455.0</td>\n",
       "      <td>4455.0</td>\n",
       "      <td>4455.0</td>\n",
       "      <td>4455.0</td>\n",
       "      <td>4455.0</td>\n",
       "      <td>4455.0</td>\n",
       "      <td>4455.0</td>\n",
       "    </tr>\n",
       "    <tr>\n",
       "      <th>mean</th>\n",
       "      <td>8.0</td>\n",
       "      <td>46.0</td>\n",
       "      <td>37.0</td>\n",
       "      <td>56.0</td>\n",
       "      <td>130.0</td>\n",
       "      <td>5346.0</td>\n",
       "      <td>342.0</td>\n",
       "      <td>1039.0</td>\n",
       "      <td>1463.0</td>\n",
       "    </tr>\n",
       "    <tr>\n",
       "      <th>std</th>\n",
       "      <td>8.0</td>\n",
       "      <td>15.0</td>\n",
       "      <td>11.0</td>\n",
       "      <td>20.0</td>\n",
       "      <td>87.0</td>\n",
       "      <td>11525.0</td>\n",
       "      <td>1244.0</td>\n",
       "      <td>475.0</td>\n",
       "      <td>628.0</td>\n",
       "    </tr>\n",
       "    <tr>\n",
       "      <th>min</th>\n",
       "      <td>0.0</td>\n",
       "      <td>6.0</td>\n",
       "      <td>18.0</td>\n",
       "      <td>35.0</td>\n",
       "      <td>0.0</td>\n",
       "      <td>0.0</td>\n",
       "      <td>0.0</td>\n",
       "      <td>100.0</td>\n",
       "      <td>105.0</td>\n",
       "    </tr>\n",
       "    <tr>\n",
       "      <th>25%</th>\n",
       "      <td>2.0</td>\n",
       "      <td>36.0</td>\n",
       "      <td>28.0</td>\n",
       "      <td>35.0</td>\n",
       "      <td>80.0</td>\n",
       "      <td>0.0</td>\n",
       "      <td>0.0</td>\n",
       "      <td>700.0</td>\n",
       "      <td>1118.0</td>\n",
       "    </tr>\n",
       "    <tr>\n",
       "      <th>50%</th>\n",
       "      <td>5.0</td>\n",
       "      <td>48.0</td>\n",
       "      <td>36.0</td>\n",
       "      <td>51.0</td>\n",
       "      <td>119.0</td>\n",
       "      <td>3000.0</td>\n",
       "      <td>0.0</td>\n",
       "      <td>1000.0</td>\n",
       "      <td>1400.0</td>\n",
       "    </tr>\n",
       "    <tr>\n",
       "      <th>75%</th>\n",
       "      <td>12.0</td>\n",
       "      <td>60.0</td>\n",
       "      <td>45.0</td>\n",
       "      <td>72.0</td>\n",
       "      <td>164.0</td>\n",
       "      <td>6000.0</td>\n",
       "      <td>0.0</td>\n",
       "      <td>1300.0</td>\n",
       "      <td>1692.0</td>\n",
       "    </tr>\n",
       "    <tr>\n",
       "      <th>max</th>\n",
       "      <td>48.0</td>\n",
       "      <td>72.0</td>\n",
       "      <td>68.0</td>\n",
       "      <td>180.0</td>\n",
       "      <td>959.0</td>\n",
       "      <td>300000.0</td>\n",
       "      <td>30000.0</td>\n",
       "      <td>5000.0</td>\n",
       "      <td>11140.0</td>\n",
       "    </tr>\n",
       "  </tbody>\n",
       "</table>\n",
       "</div>"
      ],
      "text/plain": [
       "       seniority    time     age  expenses  income    assets     debt  amount  \\\n",
       "count     4455.0  4455.0  4455.0    4455.0  4455.0    4455.0   4455.0  4455.0   \n",
       "mean         8.0    46.0    37.0      56.0   130.0    5346.0    342.0  1039.0   \n",
       "std          8.0    15.0    11.0      20.0    87.0   11525.0   1244.0   475.0   \n",
       "min          0.0     6.0    18.0      35.0     0.0       0.0      0.0   100.0   \n",
       "25%          2.0    36.0    28.0      35.0    80.0       0.0      0.0   700.0   \n",
       "50%          5.0    48.0    36.0      51.0   119.0    3000.0      0.0  1000.0   \n",
       "75%         12.0    60.0    45.0      72.0   164.0    6000.0      0.0  1300.0   \n",
       "max         48.0    72.0    68.0     180.0   959.0  300000.0  30000.0  5000.0   \n",
       "\n",
       "         price  \n",
       "count   4455.0  \n",
       "mean    1463.0  \n",
       "std      628.0  \n",
       "min      105.0  \n",
       "25%     1118.0  \n",
       "50%     1400.0  \n",
       "75%     1692.0  \n",
       "max    11140.0  "
      ]
     },
     "execution_count": 263,
     "metadata": {},
     "output_type": "execute_result"
    }
   ],
   "source": [
    "df.describe().round()"
   ]
  },
  {
   "cell_type": "code",
   "execution_count": 264,
   "id": "d8445c93",
   "metadata": {},
   "outputs": [],
   "source": [
    "df = df[df.status != 'unk'].reset_index(drop=True)\n",
    "# as we don't want unkown status in our dataframe"
   ]
  },
  {
   "cell_type": "code",
   "execution_count": 265,
   "id": "00edea52",
   "metadata": {},
   "outputs": [
    {
     "data": {
      "text/plain": [
       "ok         3200\n",
       "default    1254\n",
       "Name: status, dtype: int64"
      ]
     },
     "execution_count": 265,
     "metadata": {},
     "output_type": "execute_result"
    }
   ],
   "source": [
    "# And check whether we remove them\n",
    "df.status.value_counts()"
   ]
  },
  {
   "cell_type": "code",
   "execution_count": 266,
   "id": "e5e3212d",
   "metadata": {},
   "outputs": [],
   "source": [
    "# default variable creation\n",
    "df['default'] = (df.status == 'default').astype(int)"
   ]
  },
  {
   "cell_type": "code",
   "execution_count": 267,
   "id": "f4d8da20",
   "metadata": {},
   "outputs": [],
   "source": [
    "# remove target variable from dataset\n",
    "del df['status']"
   ]
  },
  {
   "cell_type": "markdown",
   "id": "c77282b7",
   "metadata": {},
   "source": [
    "# Preparation"
   ]
  },
  {
   "cell_type": "code",
   "execution_count": 268,
   "id": "ecd829fd",
   "metadata": {},
   "outputs": [
    {
     "data": {
      "text/plain": [
       "seniority      47\n",
       "home            7\n",
       "time           11\n",
       "age            50\n",
       "marital         6\n",
       "records         2\n",
       "job             5\n",
       "expenses       94\n",
       "income        352\n",
       "assets        159\n",
       "debt          182\n",
       "amount        285\n",
       "price        1419\n",
       "default         2\n",
       "dtype: int64"
      ]
     },
     "execution_count": 268,
     "metadata": {},
     "output_type": "execute_result"
    }
   ],
   "source": [
    "df.nunique()"
   ]
  },
  {
   "cell_type": "code",
   "execution_count": 269,
   "id": "615e02a8",
   "metadata": {},
   "outputs": [
    {
     "data": {
      "text/plain": [
       "seniority     int64\n",
       "home         object\n",
       "time          int64\n",
       "age           int64\n",
       "marital      object\n",
       "records      object\n",
       "job          object\n",
       "expenses      int64\n",
       "income        int64\n",
       "assets        int64\n",
       "debt          int64\n",
       "amount        int64\n",
       "price         int64\n",
       "default       int64\n",
       "dtype: object"
      ]
     },
     "execution_count": 269,
     "metadata": {},
     "output_type": "execute_result"
    }
   ],
   "source": [
    "df.dtypes"
   ]
  },
  {
   "cell_type": "code",
   "execution_count": 270,
   "id": "078312cc",
   "metadata": {},
   "outputs": [
    {
     "data": {
      "text/plain": [
       "['seniority',\n",
       " 'time',\n",
       " 'age',\n",
       " 'expenses',\n",
       " 'income',\n",
       " 'assets',\n",
       " 'debt',\n",
       " 'amount',\n",
       " 'price',\n",
       " 'default']"
      ]
     },
     "execution_count": 270,
     "metadata": {},
     "output_type": "execute_result"
    }
   ],
   "source": [
    "# numerical\n",
    "numerical = list(df.dtypes[df.dtypes != 'object'].index)\n",
    "numerical"
   ]
  },
  {
   "cell_type": "code",
   "execution_count": 271,
   "id": "2127cae2",
   "metadata": {},
   "outputs": [
    {
     "data": {
      "text/plain": [
       "['home', 'marital', 'records', 'job']"
      ]
     },
     "execution_count": 271,
     "metadata": {},
     "output_type": "execute_result"
    }
   ],
   "source": [
    "# categorical\n",
    "categorical = list(df.dtypes[df.dtypes == 'object'].index)\n",
    "categorical"
   ]
  },
  {
   "cell_type": "code",
   "execution_count": 272,
   "id": "75c8a749",
   "metadata": {},
   "outputs": [],
   "source": [
    "from sklearn.model_selection import train_test_split"
   ]
  },
  {
   "cell_type": "code",
   "execution_count": 273,
   "id": "af3bc183",
   "metadata": {},
   "outputs": [],
   "source": [
    "full_train, df_test = train_test_split(df, test_size=0.2, random_state=1)\n",
    "df_train, df_valid = train_test_split(full_train, test_size=0.25, random_state=1)"
   ]
  },
  {
   "cell_type": "code",
   "execution_count": 274,
   "id": "7d4c089d",
   "metadata": {},
   "outputs": [],
   "source": [
    "y_full_train = full_train.default.values\n",
    "y_test = df_test.default.values\n",
    "y_train = df_train.default.values\n",
    "y_valid = df_valid.default.values"
   ]
  },
  {
   "cell_type": "markdown",
   "id": "a4c621b3",
   "metadata": {},
   "source": [
    "# Q1"
   ]
  },
  {
   "cell_type": "code",
   "execution_count": 275,
   "id": "99ef1cac",
   "metadata": {},
   "outputs": [],
   "source": [
    "from sklearn.metrics import roc_auc_score"
   ]
  },
  {
   "cell_type": "code",
   "execution_count": 278,
   "id": "3489aea1",
   "metadata": {},
   "outputs": [],
   "source": [
    "def calc_feature_importance(curr_df, features):\n",
    "    result = {}\n",
    "    \n",
    "    for f in features:\n",
    "        if f == 'default':\n",
    "            continue\n",
    "        \n",
    "        metric = roc_auc_score(curr_df['default'], curr_df[f])\n",
    "        if metric < 0.5:\n",
    "            metric = roc_auc_score(curr_df['default'], -curr_df[f])\n",
    "        \n",
    "        result[f] = metric\n",
    "    \n",
    "    return result"
   ]
  },
  {
   "cell_type": "code",
   "execution_count": 279,
   "id": "44926efa",
   "metadata": {},
   "outputs": [
    {
     "data": {
      "text/plain": [
       "{'seniority': 0.7093778624491943,\n",
       " 'time': 0.5608662489595051,\n",
       " 'age': 0.5732933272499939,\n",
       " 'expenses': 0.5009184217217011,\n",
       " 'income': 0.682006666132633,\n",
       " 'assets': 0.6486042567122802,\n",
       " 'debt': 0.5047829675783548,\n",
       " 'amount': 0.5910773431595518,\n",
       " 'price': 0.5043329862114843}"
      ]
     },
     "execution_count": 279,
     "metadata": {},
     "output_type": "execute_result"
    }
   ],
   "source": [
    "calc_feature_importance(df_train, numerical)"
   ]
  },
  {
   "cell_type": "raw",
   "id": "c84e7760",
   "metadata": {},
   "source": [
    "seniority has the highest AUC"
   ]
  },
  {
   "cell_type": "raw",
   "id": "2d8e8d70",
   "metadata": {},
   "source": [
    "AUC can go below 0.5 if the variable is negatively correlated with the target varialble. You can change the direction of the correlation by negating this variable - then negative correlation becomes positive."
   ]
  },
  {
   "cell_type": "code",
   "execution_count": 280,
   "id": "f8975352",
   "metadata": {},
   "outputs": [
    {
     "data": {
      "text/html": [
       "<div>\n",
       "<style scoped>\n",
       "    .dataframe tbody tr th:only-of-type {\n",
       "        vertical-align: middle;\n",
       "    }\n",
       "\n",
       "    .dataframe tbody tr th {\n",
       "        vertical-align: top;\n",
       "    }\n",
       "\n",
       "    .dataframe thead th {\n",
       "        text-align: right;\n",
       "    }\n",
       "</style>\n",
       "<table border=\"1\" class=\"dataframe\">\n",
       "  <thead>\n",
       "    <tr style=\"text-align: right;\">\n",
       "      <th></th>\n",
       "      <th>seniority</th>\n",
       "      <th>default</th>\n",
       "    </tr>\n",
       "  </thead>\n",
       "  <tbody>\n",
       "    <tr>\n",
       "      <th>seniority</th>\n",
       "      <td>1.000000</td>\n",
       "      <td>-0.260393</td>\n",
       "    </tr>\n",
       "    <tr>\n",
       "      <th>default</th>\n",
       "      <td>-0.260393</td>\n",
       "      <td>1.000000</td>\n",
       "    </tr>\n",
       "  </tbody>\n",
       "</table>\n",
       "</div>"
      ],
      "text/plain": [
       "           seniority   default\n",
       "seniority   1.000000 -0.260393\n",
       "default    -0.260393  1.000000"
      ]
     },
     "execution_count": 280,
     "metadata": {},
     "output_type": "execute_result"
    }
   ],
   "source": [
    "df[['seniority', 'default']].corr()"
   ]
  },
  {
   "cell_type": "code",
   "execution_count": 281,
   "id": "f8b8172f",
   "metadata": {},
   "outputs": [],
   "source": [
    "# del full_train['default']\n",
    "# don't remove it here as we'll need it in Kfold\n",
    "del df_test['default']\n",
    "del df_valid['default']\n",
    "del df_train['default']"
   ]
  },
  {
   "cell_type": "code",
   "execution_count": 282,
   "id": "6b0bbb36",
   "metadata": {},
   "outputs": [],
   "source": [
    "features = ['seniority', 'income', 'assets', 'records', 'job', 'home']"
   ]
  },
  {
   "cell_type": "code",
   "execution_count": 283,
   "id": "998bb930",
   "metadata": {},
   "outputs": [],
   "source": [
    "from sklearn.linear_model import LogisticRegression\n",
    "from sklearn.feature_extraction import DictVectorizer"
   ]
  },
  {
   "cell_type": "code",
   "execution_count": 284,
   "id": "288514b9",
   "metadata": {},
   "outputs": [],
   "source": [
    "dv = DictVectorizer(sparse=False)"
   ]
  },
  {
   "cell_type": "code",
   "execution_count": 285,
   "id": "c4e5bedc",
   "metadata": {},
   "outputs": [],
   "source": [
    "dict_train = df_train[features].to_dict(orient='records')\n",
    "X_train = dv.fit_transform(dict_train)"
   ]
  },
  {
   "cell_type": "code",
   "execution_count": 286,
   "id": "7a613f9a",
   "metadata": {},
   "outputs": [],
   "source": [
    "model = LogisticRegression(solver='liblinear', C=1.0, max_iter=1000)"
   ]
  },
  {
   "cell_type": "code",
   "execution_count": 287,
   "id": "9c059905",
   "metadata": {},
   "outputs": [
    {
     "data": {
      "text/plain": [
       "LogisticRegression(max_iter=1000, solver='liblinear')"
      ]
     },
     "execution_count": 287,
     "metadata": {},
     "output_type": "execute_result"
    }
   ],
   "source": [
    "model.fit(X_train, y_train)"
   ]
  },
  {
   "cell_type": "markdown",
   "id": "c40bb7f1",
   "metadata": {},
   "source": [
    "# Q2"
   ]
  },
  {
   "cell_type": "code",
   "execution_count": 288,
   "id": "6c32ec94",
   "metadata": {},
   "outputs": [],
   "source": [
    "dict_valid = df_valid[features].to_dict(orient='records')\n",
    "X_valid = dv.transform(dict_valid)"
   ]
  },
  {
   "cell_type": "code",
   "execution_count": 289,
   "id": "c1337822",
   "metadata": {},
   "outputs": [],
   "source": [
    "soft_predictions = model.predict_proba(X_valid)[:, 1]"
   ]
  },
  {
   "cell_type": "code",
   "execution_count": 290,
   "id": "2dc97db3",
   "metadata": {},
   "outputs": [],
   "source": [
    "thresholds = np.linspace(0, 1, 21)"
   ]
  },
  {
   "cell_type": "code",
   "execution_count": 291,
   "id": "65c2ea37",
   "metadata": {},
   "outputs": [],
   "source": [
    "results = []\n",
    "\n",
    "for t in thresholds:\n",
    "    default_result = (soft_predictions >= t)\n",
    "    result = (default_result == y_valid).mean()\n",
    "    results.append(result)"
   ]
  },
  {
   "cell_type": "code",
   "execution_count": 292,
   "id": "a30bdbc6",
   "metadata": {},
   "outputs": [
    {
     "data": {
      "image/png": "[encoded data removed]",
      "text/plain": [
       "<Figure size 432x288 with 1 Axes>"
      ]
     },
     "metadata": {
      "needs_background": "light"
     },
     "output_type": "display_data"
    }
   ],
   "source": [
    "plt.plot(thresholds, results)\n",
    "plt.title('Threshold accuracy')\n",
    "plt.xlabel('thresholds')\n",
    "plt.ylabel('scores')\n",
    "plt.xticks(np.linspace(0, 1, 11))\n",
    "\n",
    "plt.show()"
   ]
  },
  {
   "cell_type": "code",
   "execution_count": 293,
   "id": "186cd2b9",
   "metadata": {},
   "outputs": [],
   "source": [
    "from sklearn.metrics import accuracy_score"
   ]
  },
  {
   "cell_type": "code",
   "execution_count": 294,
   "id": "042c382f",
   "metadata": {},
   "outputs": [
    {
     "data": {
      "text/plain": [
       "0.7800224466891134"
      ]
     },
     "execution_count": 294,
     "metadata": {},
     "output_type": "execute_result"
    }
   ],
   "source": [
    "accuracy_score(y_valid, soft_predictions >= 0.5)"
   ]
  },
  {
   "cell_type": "code",
   "execution_count": 295,
   "id": "5dddae5a",
   "metadata": {},
   "outputs": [],
   "source": [
    "from sklearn.metrics import roc_auc_score"
   ]
  },
  {
   "cell_type": "code",
   "execution_count": 296,
   "id": "453cb383",
   "metadata": {},
   "outputs": [
    {
     "data": {
      "text/plain": [
       "0.8120879813449298"
      ]
     },
     "execution_count": 296,
     "metadata": {},
     "output_type": "execute_result"
    }
   ],
   "source": [
    "roc_auc_score(y_valid, soft_predictions)"
   ]
  },
  {
   "cell_type": "markdown",
   "id": "cb91dc68",
   "metadata": {},
   "source": [
    "# Q3"
   ]
  },
  {
   "cell_type": "markdown",
   "id": "c9ca078b",
   "metadata": {},
   "source": [
    "<h3>Confusion table</h3>"
   ]
  },
  {
   "cell_type": "code",
   "execution_count": 297,
   "id": "2121e5de",
   "metadata": {},
   "outputs": [],
   "source": [
    "real_positive = y_valid == 1\n",
    "real_negative = y_valid == 0"
   ]
  },
  {
   "cell_type": "code",
   "execution_count": 298,
   "id": "a5d81024",
   "metadata": {},
   "outputs": [],
   "source": [
    "# use 0.5 as it's the best threshold\n",
    "predicted_positive = soft_predictions >= 0.5\n",
    "predicted_negative = soft_predictions < 0.5"
   ]
  },
  {
   "cell_type": "code",
   "execution_count": 299,
   "id": "71bc6b56",
   "metadata": {},
   "outputs": [],
   "source": [
    "tp = (real_positive & predicted_positive).sum()\n",
    "tn = (real_negative & predicted_negative).sum()\n",
    "fp = (real_negative & predicted_positive).sum()\n",
    "fn = (real_positive & predicted_negative).sum()"
   ]
  },
  {
   "cell_type": "code",
   "execution_count": 300,
   "id": "c83f4252",
   "metadata": {},
   "outputs": [],
   "source": [
    "c_t = np.array([\n",
    "    [tn, fp],\n",
    "    [fn, tp]\n",
    "])"
   ]
  },
  {
   "cell_type": "code",
   "execution_count": 301,
   "id": "bb071f96",
   "metadata": {},
   "outputs": [
    {
     "data": {
      "text/plain": [
       "array([[581,  64],\n",
       "       [132, 114]])"
      ]
     },
     "execution_count": 301,
     "metadata": {},
     "output_type": "execute_result"
    }
   ],
   "source": [
    "c_t"
   ]
  },
  {
   "cell_type": "raw",
   "id": "95acc779",
   "metadata": {},
   "source": [
    "False negative - real positive, but model predicts as negative.\n",
    "=> For model it's difficult to identify default clients"
   ]
  },
  {
   "cell_type": "code",
   "execution_count": 302,
   "id": "2614aba3",
   "metadata": {},
   "outputs": [],
   "source": [
    "def model_evaluation(y_valid, soft_predictions):\n",
    "    thresholds = np.arange(0, 0.9, 0.01)\n",
    "    scores = []\n",
    "    \n",
    "    for t in thresholds:\n",
    "        predicted_positive = soft_predictions >= t\n",
    "        predicted_negative = soft_predictions < t\n",
    "        \n",
    "        real_positive = (y_valid == 1)\n",
    "        real_negative = (y_valid == 0)\n",
    "        \n",
    "        tp = (real_positive & predicted_positive).sum()\n",
    "        tn = (real_negative & predicted_negative).sum()\n",
    "        fp = (real_negative & predicted_positive).sum()\n",
    "        fn = (real_positive & predicted_negative).sum()\n",
    "        \n",
    "        precision = tp / (tp + fp)\n",
    "        recall = tp / (tp + fn)\n",
    "        \n",
    "        # scores.append((t, tp, tn, fp, fn))\n",
    "        scores.append((t, precision, recall))\n",
    "    \n",
    "    return scores"
   ]
  },
  {
   "cell_type": "code",
   "execution_count": 303,
   "id": "c4c0ecff",
   "metadata": {},
   "outputs": [],
   "source": [
    "results = model_evaluation(y_valid, soft_predictions)"
   ]
  },
  {
   "cell_type": "code",
   "execution_count": 304,
   "id": "256a1355",
   "metadata": {},
   "outputs": [],
   "source": [
    "cols = ['threshold', 'precision', 'recall']\n",
    "df_small = pd.DataFrame(results, columns=cols)"
   ]
  },
  {
   "cell_type": "code",
   "execution_count": 305,
   "id": "c6c97bb6",
   "metadata": {},
   "outputs": [
    {
     "data": {
      "text/html": [
       "<div>\n",
       "<style scoped>\n",
       "    .dataframe tbody tr th:only-of-type {\n",
       "        vertical-align: middle;\n",
       "    }\n",
       "\n",
       "    .dataframe tbody tr th {\n",
       "        vertical-align: top;\n",
       "    }\n",
       "\n",
       "    .dataframe thead th {\n",
       "        text-align: right;\n",
       "    }\n",
       "</style>\n",
       "<table border=\"1\" class=\"dataframe\">\n",
       "  <thead>\n",
       "    <tr style=\"text-align: right;\">\n",
       "      <th></th>\n",
       "      <th>threshold</th>\n",
       "      <th>precision</th>\n",
       "      <th>recall</th>\n",
       "    </tr>\n",
       "  </thead>\n",
       "  <tbody>\n",
       "    <tr>\n",
       "      <th>0</th>\n",
       "      <td>0.0</td>\n",
       "      <td>0.276094</td>\n",
       "      <td>1.000000</td>\n",
       "    </tr>\n",
       "    <tr>\n",
       "      <th>10</th>\n",
       "      <td>0.1</td>\n",
       "      <td>0.345588</td>\n",
       "      <td>0.955285</td>\n",
       "    </tr>\n",
       "    <tr>\n",
       "      <th>20</th>\n",
       "      <td>0.2</td>\n",
       "      <td>0.446058</td>\n",
       "      <td>0.873984</td>\n",
       "    </tr>\n",
       "    <tr>\n",
       "      <th>30</th>\n",
       "      <td>0.3</td>\n",
       "      <td>0.535817</td>\n",
       "      <td>0.760163</td>\n",
       "    </tr>\n",
       "    <tr>\n",
       "      <th>40</th>\n",
       "      <td>0.4</td>\n",
       "      <td>0.583333</td>\n",
       "      <td>0.569106</td>\n",
       "    </tr>\n",
       "    <tr>\n",
       "      <th>50</th>\n",
       "      <td>0.5</td>\n",
       "      <td>0.640449</td>\n",
       "      <td>0.463415</td>\n",
       "    </tr>\n",
       "    <tr>\n",
       "      <th>60</th>\n",
       "      <td>0.6</td>\n",
       "      <td>0.672414</td>\n",
       "      <td>0.317073</td>\n",
       "    </tr>\n",
       "    <tr>\n",
       "      <th>70</th>\n",
       "      <td>0.7</td>\n",
       "      <td>0.698113</td>\n",
       "      <td>0.150407</td>\n",
       "    </tr>\n",
       "    <tr>\n",
       "      <th>80</th>\n",
       "      <td>0.8</td>\n",
       "      <td>0.807692</td>\n",
       "      <td>0.085366</td>\n",
       "    </tr>\n",
       "  </tbody>\n",
       "</table>\n",
       "</div>"
      ],
      "text/plain": [
       "    threshold  precision    recall\n",
       "0         0.0   0.276094  1.000000\n",
       "10        0.1   0.345588  0.955285\n",
       "20        0.2   0.446058  0.873984\n",
       "30        0.3   0.535817  0.760163\n",
       "40        0.4   0.583333  0.569106\n",
       "50        0.5   0.640449  0.463415\n",
       "60        0.6   0.672414  0.317073\n",
       "70        0.7   0.698113  0.150407\n",
       "80        0.8   0.807692  0.085366"
      ]
     },
     "execution_count": 305,
     "metadata": {},
     "output_type": "execute_result"
    }
   ],
   "source": [
    "df_small[::10]"
   ]
  },
  {
   "cell_type": "code",
   "execution_count": 306,
   "id": "c65c485b",
   "metadata": {},
   "outputs": [
    {
     "data": {
      "image/png": "[encoded data removed]",
      "text/plain": [
       "<Figure size 432x288 with 1 Axes>"
      ]
     },
     "metadata": {
      "needs_background": "light"
     },
     "output_type": "display_data"
    }
   ],
   "source": [
    "plt.plot(df_small.threshold, df_small.precision, label='recision')\n",
    "plt.plot(df_small.threshold, df_small.recall, label='recall')\n",
    "\n",
    "plt.title('Precision vs Recall')\n",
    "plt.xlabel('Precision')\n",
    "plt.ylabel('Recall')\n",
    "\n",
    "plt.xticks(np.linspace(0, 1, 11))\n",
    "plt.yticks(np.linspace(0, 1, 11))\n",
    "\n",
    "plt.legend()\n",
    "plt.show()"
   ]
  },
  {
   "cell_type": "raw",
   "id": "2827a967",
   "metadata": {},
   "source": [
    "Precision and Recall intersect at 0.4"
   ]
  },
  {
   "cell_type": "markdown",
   "id": "6f85ce7e",
   "metadata": {},
   "source": [
    "# Q4"
   ]
  },
  {
   "cell_type": "raw",
   "id": "be3ac612",
   "metadata": {},
   "source": [
    "F1 = 2 * P * R / (P + R)"
   ]
  },
  {
   "cell_type": "code",
   "execution_count": 344,
   "id": "56f7b11a",
   "metadata": {},
   "outputs": [],
   "source": [
    "from sklearn.metrics import f1_score\n",
    "\n",
    "thresholds = np.arange(0, 0.9, 0.01)\n",
    "result = {'threshold': float('-inf'), 'f1': float('-inf')}\n",
    "\n",
    "for t in thresholds:\n",
    "    score = f1_score(y_valid, soft_predictions >= t)\n",
    "    if score > result['f1']:\n",
    "        result['threshold'] = t\n",
    "        result['f1'] = score"
   ]
  },
  {
   "cell_type": "code",
   "execution_count": 345,
   "id": "7d5231dc",
   "metadata": {},
   "outputs": [
    {
     "data": {
      "text/plain": [
       "{'threshold': 0.3, 'f1': 0.6285714285714286}"
      ]
     },
     "execution_count": 345,
     "metadata": {},
     "output_type": "execute_result"
    }
   ],
   "source": [
    "result"
   ]
  },
  {
   "cell_type": "code",
   "execution_count": 346,
   "id": "4ca19f58",
   "metadata": {},
   "outputs": [],
   "source": [
    "def f1_score_calc(y_valid, soft_predictions):\n",
    "    thresholds = np.arange(0, 0.9, 0.01)\n",
    "    scores = {}\n",
    "    \n",
    "    for t in thresholds:\n",
    "        predicted_positive = soft_predictions >= t\n",
    "        predicted_negative = soft_predictions < t\n",
    "        \n",
    "        real_positive = (y_valid == 1)\n",
    "        real_negative = (y_valid == 0)\n",
    "        \n",
    "        tp = (real_positive & predicted_positive).sum()\n",
    "        tn = (real_negative & predicted_negative).sum()\n",
    "        fp = (real_negative & predicted_positive).sum()\n",
    "        fn = (real_positive & predicted_negative).sum()\n",
    "        \n",
    "        precision = tp / (tp + fp)\n",
    "        recall = tp / (tp + fn)\n",
    "        f1 = (2 * precision * recall / (precision + recall))\n",
    "        \n",
    "        scores[t] = f1\n",
    "    \n",
    "    return scores"
   ]
  },
  {
   "cell_type": "code",
   "execution_count": 347,
   "id": "0d5edb00",
   "metadata": {},
   "outputs": [],
   "source": [
    "f1_results = f1_score_calc(y_valid, soft_predictions)"
   ]
  },
  {
   "cell_type": "code",
   "execution_count": 348,
   "id": "5fbdf3a2",
   "metadata": {},
   "outputs": [
    {
     "data": {
      "image/png": "[encoded data removed]",
      "text/plain": [
       "<Figure size 432x288 with 1 Axes>"
      ]
     },
     "metadata": {
      "needs_background": "light"
     },
     "output_type": "display_data"
    }
   ],
   "source": [
    "plt.plot(list(f1_results.keys()), list(f1_results.values()), label='f1')\n",
    "plt.title('F1 score')\n",
    "plt.xlabel('Thresholds')\n",
    "plt.ylabel('f1')\n",
    "\n",
    "plt.xticks(np.linspace(0, 1, 11))\n",
    "plt.yticks(np.linspace(0, 1, 11))\n",
    "\n",
    "plt.legend()\n",
    "plt.show()"
   ]
  },
  {
   "cell_type": "code",
   "execution_count": 349,
   "id": "725da79f",
   "metadata": {},
   "outputs": [
    {
     "data": {
      "text/plain": [
       "0.3"
      ]
     },
     "execution_count": 349,
     "metadata": {},
     "output_type": "execute_result"
    }
   ],
   "source": [
    "max(f1_results, key=f1_results.get)"
   ]
  },
  {
   "cell_type": "markdown",
   "id": "7c6e67da",
   "metadata": {},
   "source": [
    "# Q5"
   ]
  },
  {
   "cell_type": "code",
   "execution_count": 350,
   "id": "aae72d14",
   "metadata": {},
   "outputs": [],
   "source": [
    "from sklearn.model_selection import KFold"
   ]
  },
  {
   "cell_type": "code",
   "execution_count": 351,
   "id": "a965b304",
   "metadata": {},
   "outputs": [],
   "source": [
    "def train(df, y, features):\n",
    "    dv = DictVectorizer(sparse=False)\n",
    "    model = LogisticRegression(solver='liblinear', C=1.0, max_iter=1000)\n",
    "    \n",
    "    frame_dict = df[features].to_dict(orient='records')\n",
    "    X = dv.fit_transform(frame_dict)\n",
    "    \n",
    "    model.fit(X, y)\n",
    "    \n",
    "    return model, dv"
   ]
  },
  {
   "cell_type": "code",
   "execution_count": 352,
   "id": "be4f8492",
   "metadata": {},
   "outputs": [],
   "source": [
    "def predict_result(df, y, features, dv, model):\n",
    "    df_dict = df[features].to_dict(orient='records')\n",
    "    X = dv.transform(df_dict)\n",
    "    \n",
    "    y_pred = model.predict_proba(X)[:, 1]\n",
    "    return y_pred"
   ]
  },
  {
   "cell_type": "code",
   "execution_count": 353,
   "id": "074f9fe7",
   "metadata": {},
   "outputs": [],
   "source": [
    "model, dv = train(df_train, y_train, features)"
   ]
  },
  {
   "cell_type": "code",
   "execution_count": 354,
   "id": "53ac7e0b",
   "metadata": {},
   "outputs": [],
   "source": [
    "prediction = predict_result(df_valid, y_valid, features, dv, model)"
   ]
  },
  {
   "cell_type": "code",
   "execution_count": 355,
   "id": "6bff3be0",
   "metadata": {},
   "outputs": [],
   "source": [
    "kfold = KFold(n_splits=5, shuffle=True, random_state=1)"
   ]
  },
  {
   "cell_type": "code",
   "execution_count": 356,
   "id": "496fb06c",
   "metadata": {},
   "outputs": [],
   "source": [
    "# use `features` to discern desired\n",
    "# columns and also keep away `default`\n",
    "\n",
    "def kFold_calc(kfold, full_train, features):\n",
    "    scores = []\n",
    "\n",
    "    for trainIdx, validIdx in kfold.split(full_train):\n",
    "        df_valid = full_train.iloc[validIdx]\n",
    "        df_train = full_train.iloc[trainIdx]\n",
    "        \n",
    "        y_valid = df_valid.default.values\n",
    "        y_train = df_train.default.values\n",
    "        \n",
    "        model, dv = train(df_train, y_train, features)\n",
    "        \n",
    "        soft_prediction = predict_result(df_valid, y_valid, features, dv, model)\n",
    "        \n",
    "        auc = roc_auc_score(y_valid, soft_prediction)\n",
    "        scores.append(auc)\n",
    "    \n",
    "    return scores"
   ]
  },
  {
   "cell_type": "code",
   "execution_count": 357,
   "id": "95d97239",
   "metadata": {},
   "outputs": [],
   "source": [
    "fold_results = kFold_calc(kfold, full_train, features)"
   ]
  },
  {
   "cell_type": "code",
   "execution_count": 358,
   "id": "3fd22dcc",
   "metadata": {},
   "outputs": [
    {
     "data": {
      "text/plain": [
       "0.01460989648482707"
      ]
     },
     "execution_count": 358,
     "metadata": {},
     "output_type": "execute_result"
    }
   ],
   "source": [
    "np.std(fold_results)"
   ]
  },
  {
   "cell_type": "markdown",
   "id": "3bb241f4",
   "metadata": {},
   "source": [
    "# Q6"
   ]
  },
  {
   "cell_type": "code",
   "execution_count": 359,
   "id": "c329d1a1",
   "metadata": {},
   "outputs": [],
   "source": [
    "def train_reg(df, y, features, C=False):\n",
    "    dv = DictVectorizer(sparse=False)\n",
    "    model = LogisticRegression(solver='liblinear', C=C, max_iter=1000)\n",
    "    \n",
    "    frame_dict = df[features].to_dict(orient='records')\n",
    "    X = dv.fit_transform(frame_dict)\n",
    "    \n",
    "    model.fit(X, y)\n",
    "    \n",
    "    return model, dv"
   ]
  },
  {
   "cell_type": "code",
   "execution_count": 360,
   "id": "653e5482",
   "metadata": {},
   "outputs": [],
   "source": [
    "def kFold_reg(kfold, full_train, features):\n",
    "    reg_levels = [0.01, 0.1, 1, 10]\n",
    "    \n",
    "    scores = {r: [] for r in reg_levels}\n",
    "    \n",
    "    for r in reg_levels:\n",
    "        \n",
    "        for trainIdx, validIdx in kfold.split(full_train):\n",
    "            df_valid = full_train.iloc[validIdx]\n",
    "            df_train = full_train.iloc[trainIdx]\n",
    "\n",
    "            y_valid = df_valid.default.values\n",
    "            y_train = df_train.default.values\n",
    "\n",
    "            model, dv = train_reg(df_train, y_train, features, C=r)\n",
    "\n",
    "            soft_prediction = predict_result(df_valid, y_valid, features, dv, model)\n",
    "\n",
    "            auc = roc_auc_score(y_valid, soft_prediction)\n",
    "            scores[r].append(auc)\n",
    "    \n",
    "    return scores"
   ]
  },
  {
   "cell_type": "code",
   "execution_count": 361,
   "id": "43cfa3d1",
   "metadata": {},
   "outputs": [],
   "source": [
    "kfold = KFold(n_splits=5, shuffle=True, random_state=1)"
   ]
  },
  {
   "cell_type": "code",
   "execution_count": 362,
   "id": "7d880d50",
   "metadata": {},
   "outputs": [],
   "source": [
    "data = kFold_reg(kfold, full_train, features)"
   ]
  },
  {
   "cell_type": "code",
   "execution_count": 364,
   "id": "1da4dc73",
   "metadata": {},
   "outputs": [
    {
     "name": "stdout",
     "output_type": "stream",
     "text": [
      "reg: 0.01, mean: 0.808, std: 0.012\n",
      "reg: 0.1, mean: 0.813, std: 0.014\n",
      "reg: 1, mean: 0.814, std: 0.015\n",
      "reg: 10, mean: 0.814, std: 0.015\n"
     ]
    }
   ],
   "source": [
    "for key, value in data.items():\n",
    "    mean_data = round(np.mean(value), 3)\n",
    "    std_data = round(np.std(value), 3)\n",
    "    print(f\"reg: {key}, mean: {mean_data}, std: {std_data}\")"
   ]
  },
  {
   "cell_type": "code",
   "execution_count": null,
   "id": "805c77f1",
   "metadata": {},
   "outputs": [],
   "source": []
  }
 ],
 "metadata": {
  "kernelspec": {
   "display_name": "Python 3",
   "language": "python",
   "name": "python3"
  },
  "language_info": {
   "codemirror_mode": {
    "name": "ipython",
    "version": 3
   },
   "file_extension": ".py",
   "mimetype": "text/x-python",
   "name": "python",
   "nbconvert_exporter": "python",
   "pygments_lexer": "ipython3",
   "version": "3.8.10"
  }
 },
 "nbformat": 4,
 "nbformat_minor": 5
}
