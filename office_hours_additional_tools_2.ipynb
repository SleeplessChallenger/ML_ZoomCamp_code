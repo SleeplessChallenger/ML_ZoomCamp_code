{
 "cells": [
  {
   "cell_type": "code",
   "execution_count": 1,
   "id": "371ab11d",
   "metadata": {},
   "outputs": [],
   "source": [
    "import pandas as pd\n",
    "import numpy as np\n",
    "\n",
    "import matplotlib.pyplot as plt\n",
    "import seaborn as sns\n",
    "\n",
    "%matplotlib inline"
   ]
  },
  {
   "cell_type": "code",
   "execution_count": 2,
   "id": "ef6d813d",
   "metadata": {},
   "outputs": [],
   "source": [
    "df = pd.read_csv('2.linear_regression_models/AB_NYC_2019.csv',\n",
    "            nrows=10000)"
   ]
  },
  {
   "cell_type": "code",
   "execution_count": 3,
   "id": "9dc2dd62",
   "metadata": {},
   "outputs": [
    {
     "data": {
      "text/html": [
       "<div>\n",
       "<style scoped>\n",
       "    .dataframe tbody tr th:only-of-type {\n",
       "        vertical-align: middle;\n",
       "    }\n",
       "\n",
       "    .dataframe tbody tr th {\n",
       "        vertical-align: top;\n",
       "    }\n",
       "\n",
       "    .dataframe thead th {\n",
       "        text-align: right;\n",
       "    }\n",
       "</style>\n",
       "<table border=\"1\" class=\"dataframe\">\n",
       "  <thead>\n",
       "    <tr style=\"text-align: right;\">\n",
       "      <th></th>\n",
       "      <th>id</th>\n",
       "      <th>name</th>\n",
       "      <th>host_id</th>\n",
       "      <th>host_name</th>\n",
       "      <th>neighbourhood_group</th>\n",
       "      <th>neighbourhood</th>\n",
       "      <th>latitude</th>\n",
       "      <th>longitude</th>\n",
       "      <th>room_type</th>\n",
       "      <th>price</th>\n",
       "      <th>minimum_nights</th>\n",
       "      <th>number_of_reviews</th>\n",
       "      <th>last_review</th>\n",
       "      <th>reviews_per_month</th>\n",
       "      <th>calculated_host_listings_count</th>\n",
       "      <th>availability_365</th>\n",
       "    </tr>\n",
       "  </thead>\n",
       "  <tbody>\n",
       "    <tr>\n",
       "      <th>0</th>\n",
       "      <td>2539</td>\n",
       "      <td>Clean &amp; quiet apt home by the park</td>\n",
       "      <td>2787</td>\n",
       "      <td>John</td>\n",
       "      <td>Brooklyn</td>\n",
       "      <td>Kensington</td>\n",
       "      <td>40.64749</td>\n",
       "      <td>-73.97237</td>\n",
       "      <td>Private room</td>\n",
       "      <td>149</td>\n",
       "      <td>1</td>\n",
       "      <td>9</td>\n",
       "      <td>2018-10-19</td>\n",
       "      <td>0.21</td>\n",
       "      <td>6</td>\n",
       "      <td>365</td>\n",
       "    </tr>\n",
       "    <tr>\n",
       "      <th>1</th>\n",
       "      <td>2595</td>\n",
       "      <td>Skylit Midtown Castle</td>\n",
       "      <td>2845</td>\n",
       "      <td>Jennifer</td>\n",
       "      <td>Manhattan</td>\n",
       "      <td>Midtown</td>\n",
       "      <td>40.75362</td>\n",
       "      <td>-73.98377</td>\n",
       "      <td>Entire home/apt</td>\n",
       "      <td>225</td>\n",
       "      <td>1</td>\n",
       "      <td>45</td>\n",
       "      <td>2019-05-21</td>\n",
       "      <td>0.38</td>\n",
       "      <td>2</td>\n",
       "      <td>355</td>\n",
       "    </tr>\n",
       "    <tr>\n",
       "      <th>2</th>\n",
       "      <td>3647</td>\n",
       "      <td>THE VILLAGE OF HARLEM....NEW YORK !</td>\n",
       "      <td>4632</td>\n",
       "      <td>Elisabeth</td>\n",
       "      <td>Manhattan</td>\n",
       "      <td>Harlem</td>\n",
       "      <td>40.80902</td>\n",
       "      <td>-73.94190</td>\n",
       "      <td>Private room</td>\n",
       "      <td>150</td>\n",
       "      <td>3</td>\n",
       "      <td>0</td>\n",
       "      <td>NaN</td>\n",
       "      <td>NaN</td>\n",
       "      <td>1</td>\n",
       "      <td>365</td>\n",
       "    </tr>\n",
       "  </tbody>\n",
       "</table>\n",
       "</div>"
      ],
      "text/plain": [
       "     id                                 name  host_id  host_name  \\\n",
       "0  2539   Clean & quiet apt home by the park     2787       John   \n",
       "1  2595                Skylit Midtown Castle     2845   Jennifer   \n",
       "2  3647  THE VILLAGE OF HARLEM....NEW YORK !     4632  Elisabeth   \n",
       "\n",
       "  neighbourhood_group neighbourhood  latitude  longitude        room_type  \\\n",
       "0            Brooklyn    Kensington  40.64749  -73.97237     Private room   \n",
       "1           Manhattan       Midtown  40.75362  -73.98377  Entire home/apt   \n",
       "2           Manhattan        Harlem  40.80902  -73.94190     Private room   \n",
       "\n",
       "   price  minimum_nights  number_of_reviews last_review  reviews_per_month  \\\n",
       "0    149               1                  9  2018-10-19               0.21   \n",
       "1    225               1                 45  2019-05-21               0.38   \n",
       "2    150               3                  0         NaN                NaN   \n",
       "\n",
       "   calculated_host_listings_count  availability_365  \n",
       "0                               6               365  \n",
       "1                               2               355  \n",
       "2                               1               365  "
      ]
     },
     "execution_count": 3,
     "metadata": {},
     "output_type": "execute_result"
    }
   ],
   "source": [
    "df.head(3)"
   ]
  },
  {
   "cell_type": "markdown",
   "id": "9579dba3",
   "metadata": {},
   "source": [
    "<h3>Deal with data that has many categories<h3>"
   ]
  },
  {
   "cell_type": "code",
   "execution_count": 7,
   "id": "7c1516a1",
   "metadata": {},
   "outputs": [
    {
     "data": {
      "text/plain": [
       "Williamsburg          944\n",
       "Bedford-Stuyvesant    742\n",
       "Harlem                614\n",
       "Upper West Side       520\n",
       "East Village          489\n",
       "Upper East Side       405\n",
       "Bushwick              387\n",
       "Name: neighbourhood, dtype: int64"
      ]
     },
     "execution_count": 7,
     "metadata": {},
     "output_type": "execute_result"
    }
   ],
   "source": [
    "df.neighbourhood.value_counts()[:7]"
   ]
  },
  {
   "cell_type": "raw",
   "id": "50bb4bf0",
   "metadata": {},
   "source": [
    "It does have a long tail"
   ]
  },
  {
   "cell_type": "code",
   "execution_count": 12,
   "id": "efc9beba",
   "metadata": {},
   "outputs": [
    {
     "data": {
      "image/png": "[encoded data removed]",
      "text/plain": [
       "<Figure size 432x288 with 1 Axes>"
      ]
     },
     "metadata": {
      "needs_background": "light"
     },
     "output_type": "display_data"
    }
   ],
   "source": [
    "count = df.neighbourhood.value_counts().values\n",
    "\n",
    "plt.bar(np.arange(len(count)), count)\n",
    "plt.show()\n",
    "\n",
    "# we have some popular at the left"
   ]
  },
  {
   "cell_type": "raw",
   "id": "65366c7f",
   "metadata": {},
   "source": [
    "We may not need that long tail as it'll clutter the model, but DV will use all."
   ]
  },
  {
   "cell_type": "raw",
   "id": "6d3921bb",
   "metadata": {},
   "source": [
    "Let's make preprocessing and further things"
   ]
  },
  {
   "cell_type": "code",
   "execution_count": 15,
   "id": "d307759f",
   "metadata": {},
   "outputs": [],
   "source": [
    "for c in ['neighbourhood', 'neighbourhood_group', 'room_type']:\n",
    "    df[c] = df[c].fillna('NA').str.lower().str.replace(' ', '_')"
   ]
  },
  {
   "cell_type": "code",
   "execution_count": 16,
   "id": "d612937e",
   "metadata": {},
   "outputs": [
    {
     "data": {
      "text/html": [
       "<div>\n",
       "<style scoped>\n",
       "    .dataframe tbody tr th:only-of-type {\n",
       "        vertical-align: middle;\n",
       "    }\n",
       "\n",
       "    .dataframe tbody tr th {\n",
       "        vertical-align: top;\n",
       "    }\n",
       "\n",
       "    .dataframe thead th {\n",
       "        text-align: right;\n",
       "    }\n",
       "</style>\n",
       "<table border=\"1\" class=\"dataframe\">\n",
       "  <thead>\n",
       "    <tr style=\"text-align: right;\">\n",
       "      <th></th>\n",
       "      <th>id</th>\n",
       "      <th>name</th>\n",
       "      <th>host_id</th>\n",
       "      <th>host_name</th>\n",
       "      <th>neighbourhood_group</th>\n",
       "      <th>neighbourhood</th>\n",
       "      <th>latitude</th>\n",
       "      <th>longitude</th>\n",
       "      <th>room_type</th>\n",
       "      <th>price</th>\n",
       "      <th>minimum_nights</th>\n",
       "      <th>number_of_reviews</th>\n",
       "      <th>last_review</th>\n",
       "      <th>reviews_per_month</th>\n",
       "      <th>calculated_host_listings_count</th>\n",
       "      <th>availability_365</th>\n",
       "    </tr>\n",
       "  </thead>\n",
       "  <tbody>\n",
       "    <tr>\n",
       "      <th>0</th>\n",
       "      <td>2539</td>\n",
       "      <td>Clean &amp; quiet apt home by the park</td>\n",
       "      <td>2787</td>\n",
       "      <td>John</td>\n",
       "      <td>brooklyn</td>\n",
       "      <td>kensington</td>\n",
       "      <td>40.64749</td>\n",
       "      <td>-73.97237</td>\n",
       "      <td>private_room</td>\n",
       "      <td>149</td>\n",
       "      <td>1</td>\n",
       "      <td>9</td>\n",
       "      <td>2018-10-19</td>\n",
       "      <td>0.21</td>\n",
       "      <td>6</td>\n",
       "      <td>365</td>\n",
       "    </tr>\n",
       "    <tr>\n",
       "      <th>1</th>\n",
       "      <td>2595</td>\n",
       "      <td>Skylit Midtown Castle</td>\n",
       "      <td>2845</td>\n",
       "      <td>Jennifer</td>\n",
       "      <td>manhattan</td>\n",
       "      <td>midtown</td>\n",
       "      <td>40.75362</td>\n",
       "      <td>-73.98377</td>\n",
       "      <td>entire_home/apt</td>\n",
       "      <td>225</td>\n",
       "      <td>1</td>\n",
       "      <td>45</td>\n",
       "      <td>2019-05-21</td>\n",
       "      <td>0.38</td>\n",
       "      <td>2</td>\n",
       "      <td>355</td>\n",
       "    </tr>\n",
       "    <tr>\n",
       "      <th>2</th>\n",
       "      <td>3647</td>\n",
       "      <td>THE VILLAGE OF HARLEM....NEW YORK !</td>\n",
       "      <td>4632</td>\n",
       "      <td>Elisabeth</td>\n",
       "      <td>manhattan</td>\n",
       "      <td>harlem</td>\n",
       "      <td>40.80902</td>\n",
       "      <td>-73.94190</td>\n",
       "      <td>private_room</td>\n",
       "      <td>150</td>\n",
       "      <td>3</td>\n",
       "      <td>0</td>\n",
       "      <td>NaN</td>\n",
       "      <td>NaN</td>\n",
       "      <td>1</td>\n",
       "      <td>365</td>\n",
       "    </tr>\n",
       "  </tbody>\n",
       "</table>\n",
       "</div>"
      ],
      "text/plain": [
       "     id                                 name  host_id  host_name  \\\n",
       "0  2539   Clean & quiet apt home by the park     2787       John   \n",
       "1  2595                Skylit Midtown Castle     2845   Jennifer   \n",
       "2  3647  THE VILLAGE OF HARLEM....NEW YORK !     4632  Elisabeth   \n",
       "\n",
       "  neighbourhood_group neighbourhood  latitude  longitude        room_type  \\\n",
       "0            brooklyn    kensington  40.64749  -73.97237     private_room   \n",
       "1           manhattan       midtown  40.75362  -73.98377  entire_home/apt   \n",
       "2           manhattan        harlem  40.80902  -73.94190     private_room   \n",
       "\n",
       "   price  minimum_nights  number_of_reviews last_review  reviews_per_month  \\\n",
       "0    149               1                  9  2018-10-19               0.21   \n",
       "1    225               1                 45  2019-05-21               0.38   \n",
       "2    150               3                  0         NaN                NaN   \n",
       "\n",
       "   calculated_host_listings_count  availability_365  \n",
       "0                               6               365  \n",
       "1                               2               355  \n",
       "2                               1               365  "
      ]
     },
     "execution_count": 16,
     "metadata": {},
     "output_type": "execute_result"
    }
   ],
   "source": [
    "df.head(3)"
   ]
  },
  {
   "cell_type": "raw",
   "id": "33b42364",
   "metadata": {},
   "source": [
    "We want to create smth like:\n",
    "    'neighbourhood_group=brooklyn neighbourhood=kensington room_type=private_room'\n",
    "    \n",
    "I.e. one big string"
   ]
  },
  {
   "cell_type": "code",
   "execution_count": 17,
   "id": "f2d5c7e3",
   "metadata": {},
   "outputs": [],
   "source": [
    "categories = 'neighbourhood_group=' + df.neighbourhood_group +\\\n",
    "    ' ' + 'neighbourhood=' + df.neighbourhood + ' ' + \\\n",
    "    'room_type=' + df.room_type"
   ]
  },
  {
   "cell_type": "code",
   "execution_count": 18,
   "id": "4cb4af76",
   "metadata": {},
   "outputs": [
    {
     "data": {
      "text/plain": [
       "0       neighbourhood_group=brooklyn neighbourhood=ken...\n",
       "1       neighbourhood_group=manhattan neighbourhood=mi...\n",
       "2       neighbourhood_group=manhattan neighbourhood=ha...\n",
       "3       neighbourhood_group=brooklyn neighbourhood=cli...\n",
       "4       neighbourhood_group=manhattan neighbourhood=ea...\n",
       "                              ...                        \n",
       "9995    neighbourhood_group=brooklyn neighbourhood=bus...\n",
       "9996    neighbourhood_group=brooklyn neighbourhood=cob...\n",
       "9997    neighbourhood_group=manhattan neighbourhood=ea...\n",
       "9998    neighbourhood_group=brooklyn neighbourhood=car...\n",
       "9999    neighbourhood_group=queens neighbourhood=jamai...\n",
       "Length: 10000, dtype: object"
      ]
     },
     "execution_count": 18,
     "metadata": {},
     "output_type": "execute_result"
    }
   ],
   "source": [
    "categories"
   ]
  },
  {
   "cell_type": "code",
   "execution_count": 19,
   "id": "66e52140",
   "metadata": {},
   "outputs": [],
   "source": [
    "from sklearn.feature_extraction.text import CountVectorizer"
   ]
  },
  {
   "cell_type": "code",
   "execution_count": 74,
   "id": "5d8753f9",
   "metadata": {},
   "outputs": [],
   "source": [
    "cv_categories = CountVectorizer(token_pattern='\\S+',\n",
    "                            min_df=200, dtype='int32')\n",
    "\n",
    "# S - everything that is not whitespace\n",
    "# s - tabs, spaces, blanks etc\n",
    "\n",
    "# That's why we united words in cols with _"
   ]
  },
  {
   "cell_type": "markdown",
   "id": "f4e88ab9",
   "metadata": {},
   "source": [
    "# change from int64 to int32 as it saves memory"
   ]
  },
  {
   "cell_type": "markdown",
   "id": "1c145a67",
   "metadata": {},
   "source": [
    "<h3> We need to tweak params, otherwise\n",
    "        CountVectorizer() will split not in right way </h3>"
   ]
  },
  {
   "cell_type": "raw",
   "id": "f6557370",
   "metadata": {},
   "source": [
    "`min_df` will remove values (neighbourhood, room_type is a text or document) from text if they don't reach specified limit"
   ]
  },
  {
   "cell_type": "code",
   "execution_count": 75,
   "id": "49ab7228",
   "metadata": {},
   "outputs": [
    {
     "data": {
      "text/plain": [
       "CountVectorizer(dtype='int32', min_df=200, token_pattern='\\\\S+')"
      ]
     },
     "execution_count": 75,
     "metadata": {},
     "output_type": "execute_result"
    }
   ],
   "source": [
    "cv_categories.fit(categories)"
   ]
  },
  {
   "cell_type": "code",
   "execution_count": 76,
   "id": "ad22c321",
   "metadata": {},
   "outputs": [
    {
     "data": {
      "text/plain": [
       "['neighbourhood=bedford-stuyvesant',\n",
       " 'neighbourhood=bushwick',\n",
       " 'neighbourhood=chelsea',\n",
       " 'neighbourhood=crown_heights',\n",
       " 'neighbourhood=east_harlem',\n",
       " 'neighbourhood=east_village',\n",
       " 'neighbourhood=greenpoint',\n",
       " 'neighbourhood=harlem',\n",
       " \"neighbourhood=hell's_kitchen\",\n",
       " 'neighbourhood=lower_east_side']"
      ]
     },
     "execution_count": 76,
     "metadata": {},
     "output_type": "execute_result"
    }
   ],
   "source": [
    "cv_categories.get_feature_names()[:10]"
   ]
  },
  {
   "cell_type": "code",
   "execution_count": 77,
   "id": "91383a5f",
   "metadata": {},
   "outputs": [
    {
     "data": {
      "text/plain": [
       "20"
      ]
     },
     "execution_count": 77,
     "metadata": {},
     "output_type": "execute_result"
    }
   ],
   "source": [
    "len(cv_categories.get_feature_names())"
   ]
  },
  {
   "cell_type": "code",
   "execution_count": 78,
   "id": "f0bf7d1b",
   "metadata": {},
   "outputs": [],
   "source": [
    "string_example = 'neighbourhood_group=brooklyn neighbourhood=fordham room_type=private_room'"
   ]
  },
  {
   "cell_type": "code",
   "execution_count": 79,
   "id": "2700f66c",
   "metadata": {},
   "outputs": [],
   "source": [
    "X = cv_categories.transform([string_example])"
   ]
  },
  {
   "cell_type": "code",
   "execution_count": 80,
   "id": "dccaeca8",
   "metadata": {},
   "outputs": [
    {
     "data": {
      "text/plain": [
       "array([0, 0, 0, 0, 0, 0, 0, 0, 0, 0, 0, 0, 0, 0, 0, 1, 0, 0, 0, 1],\n",
       "      dtype=int32)"
      ]
     },
     "execution_count": 80,
     "metadata": {},
     "output_type": "execute_result"
    }
   ],
   "source": [
    "X.toarray()[0]\n",
    "# we're interested in first row"
   ]
  },
  {
   "cell_type": "code",
   "execution_count": 81,
   "id": "a08b7b80",
   "metadata": {},
   "outputs": [
    {
     "data": {
      "text/plain": [
       "[('neighbourhood=bedford-stuyvesant', 0),\n",
       " ('neighbourhood=bushwick', 0),\n",
       " ('neighbourhood=chelsea', 0),\n",
       " ('neighbourhood=crown_heights', 0),\n",
       " ('neighbourhood=east_harlem', 0),\n",
       " ('neighbourhood=east_village', 0),\n",
       " ('neighbourhood=greenpoint', 0),\n",
       " ('neighbourhood=harlem', 0),\n",
       " (\"neighbourhood=hell's_kitchen\", 0),\n",
       " ('neighbourhood=lower_east_side', 0),\n",
       " ('neighbourhood=upper_east_side', 0),\n",
       " ('neighbourhood=upper_west_side', 0),\n",
       " ('neighbourhood=washington_heights', 0),\n",
       " ('neighbourhood=west_village', 0),\n",
       " ('neighbourhood=williamsburg', 0),\n",
       " ('neighbourhood_group=brooklyn', 1),\n",
       " ('neighbourhood_group=manhattan', 0),\n",
       " ('neighbourhood_group=queens', 0),\n",
       " ('room_type=entire_home/apt', 0),\n",
       " ('room_type=private_room', 1)]"
      ]
     },
     "execution_count": 81,
     "metadata": {},
     "output_type": "execute_result"
    }
   ],
   "source": [
    "list(zip(cv_categories.get_feature_names(), X.toarray()[0]))\n",
    "\n",
    "# as we can see, None of the 'neighbourhood'\n",
    "# matches ours"
   ]
  },
  {
   "cell_type": "markdown",
   "id": "9ea34439",
   "metadata": {},
   "source": [
    "<h3> How to merge DV/CV with text </h3>"
   ]
  },
  {
   "cell_type": "code",
   "execution_count": 86,
   "id": "dc693500",
   "metadata": {},
   "outputs": [
    {
     "data": {
      "text/plain": [
       "CountVectorizer(dtype='int32', min_df=50)"
      ]
     },
     "execution_count": 86,
     "metadata": {},
     "output_type": "execute_result"
    }
   ],
   "source": [
    "cv_name = CountVectorizer(min_df=50,\n",
    "                    dtype='int32')\n",
    "cv_name.fit(df.name.fillna(''))"
   ]
  },
  {
   "cell_type": "code",
   "execution_count": 87,
   "id": "11a547dc",
   "metadata": {},
   "outputs": [
    {
     "data": {
      "text/plain": [
       "160"
      ]
     },
     "execution_count": 87,
     "metadata": {},
     "output_type": "execute_result"
    }
   ],
   "source": [
    "len(cv_name.get_feature_names())"
   ]
  },
  {
   "cell_type": "code",
   "execution_count": 88,
   "id": "6acdfd72",
   "metadata": {
    "scrolled": true
   },
   "outputs": [
    {
     "data": {
      "text/plain": [
       "['15',\n",
       " '1bd',\n",
       " '1br',\n",
       " '2br',\n",
       " '3br',\n",
       " 'amazing',\n",
       " 'and',\n",
       " 'apartment',\n",
       " 'apt',\n",
       " 'area']"
      ]
     },
     "execution_count": 88,
     "metadata": {},
     "output_type": "execute_result"
    }
   ],
   "source": [
    "cv_name.get_feature_names()[:10]"
   ]
  },
  {
   "cell_type": "code",
   "execution_count": 89,
   "id": "f58cbc9f",
   "metadata": {},
   "outputs": [],
   "source": [
    "X_categories = cv_categories.transform(categories)\n",
    "X_name = cv_name.transform(df.name.fillna(''))"
   ]
  },
  {
   "cell_type": "code",
   "execution_count": 90,
   "id": "8910c670",
   "metadata": {},
   "outputs": [
    {
     "data": {
      "text/plain": [
       "<10000x20 sparse matrix of type '<class 'numpy.int32'>'\n",
       "\twith 25910 stored elements in Compressed Sparse Row format>"
      ]
     },
     "execution_count": 90,
     "metadata": {},
     "output_type": "execute_result"
    }
   ],
   "source": [
    "X_categories"
   ]
  },
  {
   "cell_type": "code",
   "execution_count": 91,
   "id": "dc676d98",
   "metadata": {},
   "outputs": [
    {
     "data": {
      "text/plain": [
       "<10000x160 sparse matrix of type '<class 'numpy.int32'>'\n",
       "\twith 40489 stored elements in Compressed Sparse Row format>"
      ]
     },
     "execution_count": 91,
     "metadata": {},
     "output_type": "execute_result"
    }
   ],
   "source": [
    "X_name"
   ]
  },
  {
   "cell_type": "raw",
   "id": "70c25bdc",
   "metadata": {},
   "source": [
    "When there're lots of  categories, it's way\n",
    "better to use Sparse Matrices"
   ]
  },
  {
   "cell_type": "markdown",
   "id": "d58b7521",
   "metadata": {},
   "source": [
    "<h4> How can we merge 2 matricies together?</h4>"
   ]
  },
  {
   "cell_type": "code",
   "execution_count": 92,
   "id": "ac7e69a3",
   "metadata": {},
   "outputs": [],
   "source": [
    "import scipy"
   ]
  },
  {
   "cell_type": "code",
   "execution_count": 96,
   "id": "f8c9efe6",
   "metadata": {},
   "outputs": [],
   "source": [
    "X = scipy.sparse.hstack([X_categories, X_name])"
   ]
  },
  {
   "cell_type": "code",
   "execution_count": 98,
   "id": "4d824f15",
   "metadata": {},
   "outputs": [],
   "source": [
    "X = X.tocsr()"
   ]
  },
  {
   "cell_type": "markdown",
   "id": "de60cc01",
   "metadata": {},
   "source": [
    "<h3>How to deal with imbalanced datasets</h3>"
   ]
  },
  {
   "cell_type": "code",
   "execution_count": 100,
   "id": "68627a7f",
   "metadata": {},
   "outputs": [],
   "source": [
    "df['is_expensive'] = (df.price >= 1000)"
   ]
  },
  {
   "cell_type": "code",
   "execution_count": 101,
   "id": "ed067827",
   "metadata": {},
   "outputs": [
    {
     "data": {
      "text/plain": [
       "0.0081"
      ]
     },
     "execution_count": 101,
     "metadata": {},
     "output_type": "execute_result"
    }
   ],
   "source": [
    "df.is_expensive.mean()"
   ]
  },
  {
   "cell_type": "raw",
   "id": "c7581f7a",
   "metadata": {},
   "source": [
    "There is huge imbalance as most are not expensive"
   ]
  },
  {
   "cell_type": "code",
   "execution_count": 103,
   "id": "612ead4e",
   "metadata": {},
   "outputs": [],
   "source": [
    "from sklearn.model_selection import train_test_split"
   ]
  },
  {
   "cell_type": "raw",
   "id": "cac3eb19",
   "metadata": {},
   "source": [
    "https://stackoverflow.com/a/38889389/16543524\n",
    "\n",
    "About stratify variable"
   ]
  },
  {
   "cell_type": "code",
   "execution_count": 122,
   "id": "5c9b03ca",
   "metadata": {},
   "outputs": [],
   "source": [
    "df_train, df_test = train_test_split(df, test_size=0.25,\n",
    "                            random_state=1, stratify=df.is_expensive)"
   ]
  },
  {
   "cell_type": "code",
   "execution_count": 123,
   "id": "9d01fbd9",
   "metadata": {},
   "outputs": [
    {
     "data": {
      "text/plain": [
       "0.008133333333333333"
      ]
     },
     "execution_count": 123,
     "metadata": {},
     "output_type": "execute_result"
    }
   ],
   "source": [
    "df_train.is_expensive.mean()"
   ]
  },
  {
   "cell_type": "code",
   "execution_count": 124,
   "id": "865a2db3",
   "metadata": {},
   "outputs": [
    {
     "data": {
      "text/plain": [
       "0.008"
      ]
     },
     "execution_count": 124,
     "metadata": {},
     "output_type": "execute_result"
    }
   ],
   "source": [
    "df_test.is_expensive.mean()"
   ]
  },
  {
   "cell_type": "code",
   "execution_count": null,
   "id": "d81a41e4",
   "metadata": {},
   "outputs": [],
   "source": []
  }
 ],
 "metadata": {
  "kernelspec": {
   "display_name": "Python 3",
   "language": "python",
   "name": "python3"
  },
  "language_info": {
   "codemirror_mode": {
    "name": "ipython",
    "version": 3
   },
   "file_extension": ".py",
   "mimetype": "text/x-python",
   "name": "python",
   "nbconvert_exporter": "python",
   "pygments_lexer": "ipython3",
   "version": "3.8.10"
  }
 },
 "nbformat": 4,
 "nbformat_minor": 5
}
