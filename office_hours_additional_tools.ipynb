{
 "cells": [
  {
   "cell_type": "code",
   "execution_count": 1,
   "id": "6bbca476",
   "metadata": {},
   "outputs": [],
   "source": [
    "import pandas as pd\n",
    "import numpy as np"
   ]
  },
  {
   "cell_type": "code",
   "execution_count": 3,
   "id": "50e14d07",
   "metadata": {},
   "outputs": [],
   "source": [
    "df = pd.read_csv('2.linear_regression_models/AB_NYC_2019.csv',\n",
    "            nrows=3000)"
   ]
  },
  {
   "cell_type": "code",
   "execution_count": 4,
   "id": "7e00b162",
   "metadata": {},
   "outputs": [
    {
     "data": {
      "text/plain": [
       "(3000, 16)"
      ]
     },
     "execution_count": 4,
     "metadata": {},
     "output_type": "execute_result"
    }
   ],
   "source": [
    "df.shape"
   ]
  },
  {
   "cell_type": "code",
   "execution_count": 5,
   "id": "b4b532a8",
   "metadata": {},
   "outputs": [
    {
     "data": {
      "text/html": [
       "<div>\n",
       "<style scoped>\n",
       "    .dataframe tbody tr th:only-of-type {\n",
       "        vertical-align: middle;\n",
       "    }\n",
       "\n",
       "    .dataframe tbody tr th {\n",
       "        vertical-align: top;\n",
       "    }\n",
       "\n",
       "    .dataframe thead th {\n",
       "        text-align: right;\n",
       "    }\n",
       "</style>\n",
       "<table border=\"1\" class=\"dataframe\">\n",
       "  <thead>\n",
       "    <tr style=\"text-align: right;\">\n",
       "      <th></th>\n",
       "      <th>id</th>\n",
       "      <th>name</th>\n",
       "      <th>host_id</th>\n",
       "      <th>host_name</th>\n",
       "      <th>neighbourhood_group</th>\n",
       "      <th>neighbourhood</th>\n",
       "      <th>latitude</th>\n",
       "      <th>longitude</th>\n",
       "      <th>room_type</th>\n",
       "      <th>price</th>\n",
       "      <th>minimum_nights</th>\n",
       "      <th>number_of_reviews</th>\n",
       "      <th>last_review</th>\n",
       "      <th>reviews_per_month</th>\n",
       "      <th>calculated_host_listings_count</th>\n",
       "      <th>availability_365</th>\n",
       "    </tr>\n",
       "  </thead>\n",
       "  <tbody>\n",
       "    <tr>\n",
       "      <th>0</th>\n",
       "      <td>2539</td>\n",
       "      <td>Clean &amp; quiet apt home by the park</td>\n",
       "      <td>2787</td>\n",
       "      <td>John</td>\n",
       "      <td>Brooklyn</td>\n",
       "      <td>Kensington</td>\n",
       "      <td>40.64749</td>\n",
       "      <td>-73.97237</td>\n",
       "      <td>Private room</td>\n",
       "      <td>149</td>\n",
       "      <td>1</td>\n",
       "      <td>9</td>\n",
       "      <td>2018-10-19</td>\n",
       "      <td>0.21</td>\n",
       "      <td>6</td>\n",
       "      <td>365</td>\n",
       "    </tr>\n",
       "    <tr>\n",
       "      <th>1</th>\n",
       "      <td>2595</td>\n",
       "      <td>Skylit Midtown Castle</td>\n",
       "      <td>2845</td>\n",
       "      <td>Jennifer</td>\n",
       "      <td>Manhattan</td>\n",
       "      <td>Midtown</td>\n",
       "      <td>40.75362</td>\n",
       "      <td>-73.98377</td>\n",
       "      <td>Entire home/apt</td>\n",
       "      <td>225</td>\n",
       "      <td>1</td>\n",
       "      <td>45</td>\n",
       "      <td>2019-05-21</td>\n",
       "      <td>0.38</td>\n",
       "      <td>2</td>\n",
       "      <td>355</td>\n",
       "    </tr>\n",
       "    <tr>\n",
       "      <th>2</th>\n",
       "      <td>3647</td>\n",
       "      <td>THE VILLAGE OF HARLEM....NEW YORK !</td>\n",
       "      <td>4632</td>\n",
       "      <td>Elisabeth</td>\n",
       "      <td>Manhattan</td>\n",
       "      <td>Harlem</td>\n",
       "      <td>40.80902</td>\n",
       "      <td>-73.94190</td>\n",
       "      <td>Private room</td>\n",
       "      <td>150</td>\n",
       "      <td>3</td>\n",
       "      <td>0</td>\n",
       "      <td>NaN</td>\n",
       "      <td>NaN</td>\n",
       "      <td>1</td>\n",
       "      <td>365</td>\n",
       "    </tr>\n",
       "  </tbody>\n",
       "</table>\n",
       "</div>"
      ],
      "text/plain": [
       "     id                                 name  host_id  host_name  \\\n",
       "0  2539   Clean & quiet apt home by the park     2787       John   \n",
       "1  2595                Skylit Midtown Castle     2845   Jennifer   \n",
       "2  3647  THE VILLAGE OF HARLEM....NEW YORK !     4632  Elisabeth   \n",
       "\n",
       "  neighbourhood_group neighbourhood  latitude  longitude        room_type  \\\n",
       "0            Brooklyn    Kensington  40.64749  -73.97237     Private room   \n",
       "1           Manhattan       Midtown  40.75362  -73.98377  Entire home/apt   \n",
       "2           Manhattan        Harlem  40.80902  -73.94190     Private room   \n",
       "\n",
       "   price  minimum_nights  number_of_reviews last_review  reviews_per_month  \\\n",
       "0    149               1                  9  2018-10-19               0.21   \n",
       "1    225               1                 45  2019-05-21               0.38   \n",
       "2    150               3                  0         NaN                NaN   \n",
       "\n",
       "   calculated_host_listings_count  availability_365  \n",
       "0                               6               365  \n",
       "1                               2               355  \n",
       "2                               1               365  "
      ]
     },
     "execution_count": 5,
     "metadata": {},
     "output_type": "execute_result"
    }
   ],
   "source": [
    "df.head(3)"
   ]
  },
  {
   "cell_type": "code",
   "execution_count": 6,
   "id": "94efbc73",
   "metadata": {},
   "outputs": [
    {
     "data": {
      "text/plain": [
       "Manhattan        1373\n",
       "Brooklyn         1370\n",
       "Queens            199\n",
       "Bronx              33\n",
       "Staten Island      25\n",
       "Name: neighbourhood_group, dtype: int64"
      ]
     },
     "execution_count": 6,
     "metadata": {},
     "output_type": "execute_result"
    }
   ],
   "source": [
    "df.neighbourhood_group.value_counts()"
   ]
  },
  {
   "cell_type": "markdown",
   "id": "6b394068",
   "metadata": {},
   "source": [
    "# Keep only three top values.\n",
    "# We'll try to have multiclass model"
   ]
  },
  {
   "cell_type": "code",
   "execution_count": 7,
   "id": "10d5b0be",
   "metadata": {},
   "outputs": [],
   "source": [
    "groups = ['Manhattan', 'Brooklyn', 'Queens']\n",
    "df = df[df.neighbourhood_group.isin(groups)]"
   ]
  },
  {
   "cell_type": "code",
   "execution_count": 8,
   "id": "d4d5999f",
   "metadata": {},
   "outputs": [],
   "source": [
    "df = df.reset_index(drop=True)"
   ]
  },
  {
   "cell_type": "code",
   "execution_count": 9,
   "id": "36b7c86b",
   "metadata": {},
   "outputs": [
    {
     "data": {
      "text/plain": [
       "(2942, 16)"
      ]
     },
     "execution_count": 9,
     "metadata": {},
     "output_type": "execute_result"
    }
   ],
   "source": [
    "df.shape"
   ]
  },
  {
   "cell_type": "code",
   "execution_count": 10,
   "id": "13347f8f",
   "metadata": {},
   "outputs": [],
   "source": [
    "X = df[['latitude', 'longitude']].values"
   ]
  },
  {
   "cell_type": "code",
   "execution_count": 12,
   "id": "b17aae2b",
   "metadata": {},
   "outputs": [],
   "source": [
    "y = df.neighbourhood_group.values"
   ]
  },
  {
   "cell_type": "code",
   "execution_count": 13,
   "id": "ed3380b8",
   "metadata": {},
   "outputs": [],
   "source": [
    "from sklearn.linear_model import LogisticRegression"
   ]
  },
  {
   "cell_type": "code",
   "execution_count": 14,
   "id": "c3f61ed1",
   "metadata": {},
   "outputs": [
    {
     "data": {
      "text/plain": [
       "LogisticRegression()"
      ]
     },
     "execution_count": 14,
     "metadata": {},
     "output_type": "execute_result"
    }
   ],
   "source": [
    "lr = LogisticRegression()\n",
    "lr.fit(X, y)"
   ]
  },
  {
   "cell_type": "raw",
   "id": "e22c18af",
   "metadata": {},
   "source": [
    "In binary classification we have row with 2 cols, but here we\n",
    "have 3 rows with 2 cols"
   ]
  },
  {
   "cell_type": "raw",
   "id": "f6248457",
   "metadata": {},
   "source": [
    "Internally we trained 3 models, one for each neighbourhood"
   ]
  },
  {
   "cell_type": "code",
   "execution_count": 15,
   "id": "c0eed92b",
   "metadata": {},
   "outputs": [
    {
     "data": {
      "text/plain": [
       "array([[-12.96053022,  -7.14091411],\n",
       "       [  7.34784065,   4.03172651],\n",
       "       [  5.61268957,   3.1091876 ]])"
      ]
     },
     "execution_count": 15,
     "metadata": {},
     "output_type": "execute_result"
    }
   ],
   "source": [
    "lr.coef_"
   ]
  },
  {
   "cell_type": "code",
   "execution_count": 16,
   "id": "6d7f8f5a",
   "metadata": {},
   "outputs": [
    {
     "data": {
      "text/plain": [
       "array([ 0.28193733, -0.40945164,  0.12751432])"
      ]
     },
     "execution_count": 16,
     "metadata": {},
     "output_type": "execute_result"
    }
   ],
   "source": [
    "lr.intercept_\n",
    "# same here as instead of 1 bias we have 3"
   ]
  },
  {
   "cell_type": "code",
   "execution_count": 18,
   "id": "9ba93e47",
   "metadata": {},
   "outputs": [
    {
     "data": {
      "text/plain": [
       "array(['Brooklyn', 'Manhattan', 'Manhattan', ..., 'Brooklyn', 'Brooklyn',\n",
       "       'Manhattan'], dtype=object)"
      ]
     },
     "execution_count": 18,
     "metadata": {},
     "output_type": "execute_result"
    }
   ],
   "source": [
    "lr.predict(X)"
   ]
  },
  {
   "cell_type": "code",
   "execution_count": 17,
   "id": "a3597f7d",
   "metadata": {},
   "outputs": [
    {
     "data": {
      "text/plain": [
       "array([[0.81959348, 0.15370195, 0.02670457],\n",
       "       [0.37977902, 0.54118205, 0.07903893],\n",
       "       [0.11232869, 0.78719635, 0.10047495],\n",
       "       ...,\n",
       "       [0.52672482, 0.41022042, 0.06305476],\n",
       "       [0.47370981, 0.4572758 , 0.06901439],\n",
       "       [0.13015528, 0.77011504, 0.09972968]])"
      ]
     },
     "execution_count": 17,
     "metadata": {},
     "output_type": "execute_result"
    }
   ],
   "source": [
    "lr.predict_proba(X)"
   ]
  },
  {
   "cell_type": "raw",
   "id": "4110cf13",
   "metadata": {},
   "source": [
    "Brooklyn,First one is prob that it's Manhattan, second - Brooklyn,\n",
    "third - Queens"
   ]
  },
  {
   "cell_type": "code",
   "execution_count": 19,
   "id": "96e079b3",
   "metadata": {},
   "outputs": [
    {
     "data": {
      "text/plain": [
       "0.6801495581237254"
      ]
     },
     "execution_count": 19,
     "metadata": {},
     "output_type": "execute_result"
    }
   ],
   "source": [
    "(lr.predict(X) == y).mean()"
   ]
  },
  {
   "cell_type": "code",
   "execution_count": 29,
   "id": "8fdec768",
   "metadata": {},
   "outputs": [],
   "source": [
    "from sklearn.tree import DecisionTreeClassifier\n",
    "from sklearn.tree import export_text"
   ]
  },
  {
   "cell_type": "code",
   "execution_count": 27,
   "id": "98273dd2",
   "metadata": {},
   "outputs": [
    {
     "data": {
      "text/plain": [
       "DecisionTreeClassifier(max_depth=3)"
      ]
     },
     "execution_count": 27,
     "metadata": {},
     "output_type": "execute_result"
    }
   ],
   "source": [
    "dt = DecisionTreeClassifier(max_depth=3)\n",
    "dt.fit(X, y)"
   ]
  },
  {
   "cell_type": "code",
   "execution_count": 28,
   "id": "8a8eb6aa",
   "metadata": {},
   "outputs": [
    {
     "data": {
      "text/plain": [
       "0.9112848402447314"
      ]
     },
     "execution_count": 28,
     "metadata": {},
     "output_type": "execute_result"
    }
   ],
   "source": [
    "(dt.predict(X) == y).mean()"
   ]
  },
  {
   "cell_type": "code",
   "execution_count": 31,
   "id": "4efe72fa",
   "metadata": {},
   "outputs": [
    {
     "name": "stdout",
     "output_type": "stream",
     "text": [
      "|--- latitude <= 40.72\n",
      "|   |--- longitude <= -73.86\n",
      "|   |   |--- longitude <= -73.99\n",
      "|   |   |   |--- class: Brooklyn\n",
      "|   |   |--- longitude >  -73.99\n",
      "|   |   |   |--- class: Brooklyn\n",
      "|   |--- longitude >  -73.86\n",
      "|   |   |--- class: Queens\n",
      "|--- latitude >  40.72\n",
      "|   |--- longitude <= -73.93\n",
      "|   |   |--- longitude <= -73.96\n",
      "|   |   |   |--- class: Manhattan\n",
      "|   |   |--- longitude >  -73.96\n",
      "|   |   |   |--- class: Manhattan\n",
      "|   |--- longitude >  -73.93\n",
      "|   |   |--- latitude <= 40.82\n",
      "|   |   |   |--- class: Queens\n",
      "|   |   |--- latitude >  40.82\n",
      "|   |   |   |--- class: Manhattan\n",
      "\n"
     ]
    }
   ],
   "source": [
    "print(export_text(dt, feature_names=['latitude', 'longitude']))"
   ]
  },
  {
   "cell_type": "markdown",
   "id": "a4b003d8",
   "metadata": {},
   "source": [
    "# Feature importance for continuous target (regression)"
   ]
  },
  {
   "cell_type": "code",
   "execution_count": 36,
   "id": "6b1f9c35",
   "metadata": {},
   "outputs": [
    {
     "data": {
      "text/plain": [
       "['id',\n",
       " 'host_id',\n",
       " 'latitude',\n",
       " 'longitude',\n",
       " 'price',\n",
       " 'minimum_nights',\n",
       " 'number_of_reviews',\n",
       " 'reviews_per_month',\n",
       " 'calculated_host_listings_count',\n",
       " 'availability_365']"
      ]
     },
     "execution_count": 36,
     "metadata": {},
     "output_type": "execute_result"
    }
   ],
   "source": [
    "list(df.dtypes[df.dtypes != 'object'].index)"
   ]
  },
  {
   "cell_type": "code",
   "execution_count": 37,
   "id": "9f9d6d82",
   "metadata": {},
   "outputs": [],
   "source": [
    "numeric = [\n",
    "     'host_id',\n",
    "     'latitude',\n",
    "     'longitude',\n",
    "     'minimum_nights',\n",
    "     'number_of_reviews',\n",
    "     'reviews_per_month',\n",
    "     'calculated_host_listings_count',\n",
    "     'availability_365'\n",
    "]"
   ]
  },
  {
   "cell_type": "raw",
   "id": "b310b247",
   "metadata": {},
   "source": [
    "'feature' & 'target' both numeric => correlation\n",
    "'feature' & 'target' both categoric => mutual_info\n",
    "\n",
    "'feature' is categorical & 'target' is numeric =>\n",
    "    turn 'target' into categoric and use mutual_info"
   ]
  },
  {
   "cell_type": "code",
   "execution_count": 42,
   "id": "676915ac",
   "metadata": {},
   "outputs": [
    {
     "data": {
      "text/plain": [
       "host_id                           0.045893\n",
       "latitude                          0.018935\n",
       "longitude                         0.364144\n",
       "minimum_nights                    0.012581\n",
       "number_of_reviews                 0.095637\n",
       "reviews_per_month                 0.098535\n",
       "calculated_host_listings_count    0.000751\n",
       "availability_365                  0.002821\n",
       "dtype: float64"
      ]
     },
     "execution_count": 42,
     "metadata": {},
     "output_type": "execute_result"
    }
   ],
   "source": [
    "df[numeric].corrwith(np.log1p(df.price)).abs()"
   ]
  },
  {
   "cell_type": "code",
   "execution_count": 43,
   "id": "33f2e0ae",
   "metadata": {
    "scrolled": true
   },
   "outputs": [
    {
     "data": {
      "text/plain": [
       "0         (5.01, 509.0]\n",
       "1         (5.01, 509.0]\n",
       "2         (5.01, 509.0]\n",
       "3         (5.01, 509.0]\n",
       "4         (5.01, 509.0]\n",
       "             ...       \n",
       "2937      (5.01, 509.0]\n",
       "2938      (5.01, 509.0]\n",
       "2939      (5.01, 509.0]\n",
       "2940    (509.0, 1008.0]\n",
       "2941      (5.01, 509.0]\n",
       "Name: price, Length: 2942, dtype: category\n",
       "Categories (10, interval[float64]): [(5.01, 509.0] < (509.0, 1008.0] < (1008.0, 1507.0] < (1507.0, 2006.0] ... (3004.0, 3503.0] < (3503.0, 4002.0] < (4002.0, 4501.0] < (4501.0, 5000.0]]"
      ]
     },
     "execution_count": 43,
     "metadata": {},
     "output_type": "execute_result"
    }
   ],
   "source": [
    "pd.cut(df.price, bins=10)"
   ]
  },
  {
   "cell_type": "code",
   "execution_count": 49,
   "id": "70058aa0",
   "metadata": {},
   "outputs": [
    {
     "data": {
      "text/plain": [
       "(4.234, 4.846]    1124\n",
       "(4.846, 5.458]     991\n",
       "(3.622, 4.234]     374\n",
       "(5.458, 6.07]      339\n",
       "(6.07, 6.682]       62\n",
       "(3.01, 3.622]       24\n",
       "(6.682, 7.293]      19\n",
       "(7.293, 7.905]       5\n",
       "(7.905, 8.517]       3\n",
       "(2.392, 3.01]        1\n",
       "Name: price, dtype: int64"
      ]
     },
     "execution_count": 49,
     "metadata": {},
     "output_type": "execute_result"
    }
   ],
   "source": [
    "pd.cut(np.log1p(df.price), bins=10).value_counts()"
   ]
  },
  {
   "cell_type": "raw",
   "id": "155239d4",
   "metadata": {},
   "source": [
    "So, it takes prices from df and cuts them into number of bins which we specify.\n",
    "Hence we receive a categorical variable. But even with log1p we have\n",
    "normal distribution which makes some ranges more often.\n",
    "See the picture"
   ]
  },
  {
   "cell_type": "markdown",
   "id": "0a16ee8b",
   "metadata": {},
   "source": [
    "![title](price_cut.jpg)"
   ]
  },
  {
   "cell_type": "markdown",
   "id": "c67edfd4",
   "metadata": {},
   "source": [
    "But we need bins of **equal** size"
   ]
  },
  {
   "cell_type": "code",
   "execution_count": 76,
   "id": "a6fc0ab5",
   "metadata": {},
   "outputs": [],
   "source": [
    "qprice = pd.qcut(df.price, q=10)\n",
    "# Pay attention how long tail (as we don't have log applied)\n",
    "# gets into 1 bin"
   ]
  },
  {
   "cell_type": "code",
   "execution_count": 77,
   "id": "ab88458e",
   "metadata": {},
   "outputs": [
    {
     "data": {
      "text/plain": [
       "0        (147.6, 175.0]\n",
       "1        (200.0, 269.0]\n",
       "2        (147.6, 175.0]\n",
       "3          (75.0, 90.0]\n",
       "4          (75.0, 90.0]\n",
       "             ...       \n",
       "2937     (104.0, 125.0]\n",
       "2938     (147.6, 175.0]\n",
       "2939     (200.0, 269.0]\n",
       "2940    (269.0, 5000.0]\n",
       "2941       (75.0, 90.0]\n",
       "Name: price, Length: 2942, dtype: category\n",
       "Categories (10, interval[float64]): [(9.999, 60.0] < (60.0, 75.0] < (75.0, 90.0] < (90.0, 104.0] ... (147.6, 175.0] < (175.0, 200.0] < (200.0, 269.0] < (269.0, 5000.0]]"
      ]
     },
     "execution_count": 77,
     "metadata": {},
     "output_type": "execute_result"
    }
   ],
   "source": [
    "qprice"
   ]
  },
  {
   "cell_type": "code",
   "execution_count": 78,
   "id": "5b622385",
   "metadata": {},
   "outputs": [],
   "source": [
    "from sklearn.metrics import mutual_info_score"
   ]
  },
  {
   "cell_type": "code",
   "execution_count": 81,
   "id": "58be697d",
   "metadata": {
    "scrolled": true
   },
   "outputs": [
    {
     "data": {
      "text/plain": [
       "0.2796110818606619"
      ]
     },
     "execution_count": 81,
     "metadata": {},
     "output_type": "execute_result"
    }
   ],
   "source": [
    "mutual_info_score(df.neighbourhood, qprice)"
   ]
  },
  {
   "cell_type": "code",
   "execution_count": 82,
   "id": "f5410b50",
   "metadata": {},
   "outputs": [
    {
     "data": {
      "text/plain": [
       "0.2464904922022662"
      ]
     },
     "execution_count": 82,
     "metadata": {},
     "output_type": "execute_result"
    }
   ],
   "source": [
    "mutual_info_score(df.room_type, qprice)"
   ]
  },
  {
   "cell_type": "markdown",
   "id": "444b6a92",
   "metadata": {},
   "source": [
    "# How to work with text variables"
   ]
  },
  {
   "cell_type": "raw",
   "id": "6c5b9509",
   "metadata": {},
   "source": [
    "We'll use approach similar to OneHot Encoding"
   ]
  },
  {
   "cell_type": "code",
   "execution_count": 84,
   "id": "bd71a4b8",
   "metadata": {},
   "outputs": [
    {
     "data": {
      "text/plain": [
       "0     Clean & quiet apt home by the park\n",
       "1                  Skylit Midtown Castle\n",
       "2    THE VILLAGE OF HARLEM....NEW YORK !\n",
       "Name: name, dtype: object"
      ]
     },
     "execution_count": 84,
     "metadata": {},
     "output_type": "execute_result"
    }
   ],
   "source": [
    "df.name.head(3)"
   ]
  },
  {
   "cell_type": "code",
   "execution_count": 85,
   "id": "0e635fbd",
   "metadata": {},
   "outputs": [],
   "source": [
    "names = df.name.iloc[:3]"
   ]
  },
  {
   "cell_type": "code",
   "execution_count": 86,
   "id": "2529ad9f",
   "metadata": {},
   "outputs": [],
   "source": [
    "from sklearn.feature_extraction.text import CountVectorizer"
   ]
  },
  {
   "cell_type": "code",
   "execution_count": 87,
   "id": "d281037f",
   "metadata": {},
   "outputs": [],
   "source": [
    "cv = CountVectorizer()"
   ]
  },
  {
   "cell_type": "code",
   "execution_count": 88,
   "id": "c778f707",
   "metadata": {},
   "outputs": [
    {
     "data": {
      "text/plain": [
       "CountVectorizer()"
      ]
     },
     "execution_count": 88,
     "metadata": {},
     "output_type": "execute_result"
    }
   ],
   "source": [
    "cv.fit(names)"
   ]
  },
  {
   "cell_type": "code",
   "execution_count": 90,
   "id": "fd91669b",
   "metadata": {},
   "outputs": [],
   "source": [
    "X = cv.transform(names)"
   ]
  },
  {
   "cell_type": "code",
   "execution_count": 91,
   "id": "9f54f584",
   "metadata": {},
   "outputs": [
    {
     "data": {
      "text/plain": [
       "array([[1, 1, 0, 1, 0, 1, 0, 0, 0, 1, 1, 0, 1, 0, 0],\n",
       "       [0, 0, 1, 0, 0, 0, 1, 0, 0, 0, 0, 1, 0, 0, 0],\n",
       "       [0, 0, 0, 0, 1, 0, 0, 1, 1, 0, 0, 0, 1, 1, 1]])"
      ]
     },
     "execution_count": 91,
     "metadata": {},
     "output_type": "execute_result"
    }
   ],
   "source": [
    "X.toarray()"
   ]
  },
  {
   "cell_type": "code",
   "execution_count": 92,
   "id": "6acc9378",
   "metadata": {},
   "outputs": [
    {
     "data": {
      "text/plain": [
       "['apt',\n",
       " 'by',\n",
       " 'castle',\n",
       " 'clean',\n",
       " 'harlem',\n",
       " 'home',\n",
       " 'midtown',\n",
       " 'new',\n",
       " 'of',\n",
       " 'park',\n",
       " 'quiet',\n",
       " 'skylit',\n",
       " 'the',\n",
       " 'village',\n",
       " 'york']"
      ]
     },
     "execution_count": 92,
     "metadata": {},
     "output_type": "execute_result"
    }
   ],
   "source": [
    "cv.get_feature_names()\n",
    "# every col is whether it matches the word."
   ]
  },
  {
   "cell_type": "code",
   "execution_count": 93,
   "id": "2f35d381",
   "metadata": {},
   "outputs": [
    {
     "data": {
      "text/html": [
       "<div>\n",
       "<style scoped>\n",
       "    .dataframe tbody tr th:only-of-type {\n",
       "        vertical-align: middle;\n",
       "    }\n",
       "\n",
       "    .dataframe tbody tr th {\n",
       "        vertical-align: top;\n",
       "    }\n",
       "\n",
       "    .dataframe thead th {\n",
       "        text-align: right;\n",
       "    }\n",
       "</style>\n",
       "<table border=\"1\" class=\"dataframe\">\n",
       "  <thead>\n",
       "    <tr style=\"text-align: right;\">\n",
       "      <th></th>\n",
       "      <th>apt</th>\n",
       "      <th>by</th>\n",
       "      <th>castle</th>\n",
       "      <th>clean</th>\n",
       "      <th>harlem</th>\n",
       "      <th>home</th>\n",
       "      <th>midtown</th>\n",
       "      <th>new</th>\n",
       "      <th>of</th>\n",
       "      <th>park</th>\n",
       "      <th>quiet</th>\n",
       "      <th>skylit</th>\n",
       "      <th>the</th>\n",
       "      <th>village</th>\n",
       "      <th>york</th>\n",
       "    </tr>\n",
       "  </thead>\n",
       "  <tbody>\n",
       "    <tr>\n",
       "      <th>0</th>\n",
       "      <td>1</td>\n",
       "      <td>1</td>\n",
       "      <td>0</td>\n",
       "      <td>1</td>\n",
       "      <td>0</td>\n",
       "      <td>1</td>\n",
       "      <td>0</td>\n",
       "      <td>0</td>\n",
       "      <td>0</td>\n",
       "      <td>1</td>\n",
       "      <td>1</td>\n",
       "      <td>0</td>\n",
       "      <td>1</td>\n",
       "      <td>0</td>\n",
       "      <td>0</td>\n",
       "    </tr>\n",
       "    <tr>\n",
       "      <th>1</th>\n",
       "      <td>0</td>\n",
       "      <td>0</td>\n",
       "      <td>1</td>\n",
       "      <td>0</td>\n",
       "      <td>0</td>\n",
       "      <td>0</td>\n",
       "      <td>1</td>\n",
       "      <td>0</td>\n",
       "      <td>0</td>\n",
       "      <td>0</td>\n",
       "      <td>0</td>\n",
       "      <td>1</td>\n",
       "      <td>0</td>\n",
       "      <td>0</td>\n",
       "      <td>0</td>\n",
       "    </tr>\n",
       "    <tr>\n",
       "      <th>2</th>\n",
       "      <td>0</td>\n",
       "      <td>0</td>\n",
       "      <td>0</td>\n",
       "      <td>0</td>\n",
       "      <td>1</td>\n",
       "      <td>0</td>\n",
       "      <td>0</td>\n",
       "      <td>1</td>\n",
       "      <td>1</td>\n",
       "      <td>0</td>\n",
       "      <td>0</td>\n",
       "      <td>0</td>\n",
       "      <td>1</td>\n",
       "      <td>1</td>\n",
       "      <td>1</td>\n",
       "    </tr>\n",
       "  </tbody>\n",
       "</table>\n",
       "</div>"
      ],
      "text/plain": [
       "   apt  by  castle  clean  harlem  home  midtown  new  of  park  quiet  \\\n",
       "0    1   1       0      1       0     1        0    0   0     1      1   \n",
       "1    0   0       1      0       0     0        1    0   0     0      0   \n",
       "2    0   0       0      0       1     0        0    1   1     0      0   \n",
       "\n",
       "   skylit  the  village  york  \n",
       "0       0    1        0     0  \n",
       "1       1    0        0     0  \n",
       "2       0    1        1     1  "
      ]
     },
     "execution_count": 93,
     "metadata": {},
     "output_type": "execute_result"
    }
   ],
   "source": [
    "pd.DataFrame(X.toarray(), columns=cv.get_feature_names())"
   ]
  },
  {
   "cell_type": "code",
   "execution_count": null,
   "id": "2f81645e",
   "metadata": {},
   "outputs": [],
   "source": []
  }
 ],
 "metadata": {
  "kernelspec": {
   "display_name": "Python 3",
   "language": "python",
   "name": "python3"
  },
  "language_info": {
   "codemirror_mode": {
    "name": "ipython",
    "version": 3
   },
   "file_extension": ".py",
   "mimetype": "text/x-python",
   "name": "python",
   "nbconvert_exporter": "python",
   "pygments_lexer": "ipython3",
   "version": "3.8.10"
  }
 },
 "nbformat": 4,
 "nbformat_minor": 5
}
