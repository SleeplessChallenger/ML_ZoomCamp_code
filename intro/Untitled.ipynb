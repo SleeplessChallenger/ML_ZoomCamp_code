{
 "cells": [
  {
   "cell_type": "code",
   "execution_count": 1,
   "id": "5a4b0607",
   "metadata": {},
   "outputs": [],
   "source": [
    "import numpy as np"
   ]
  },
  {
   "cell_type": "markdown",
   "id": "52ba0014",
   "metadata": {},
   "source": [
    "# One-dimensional arrays"
   ]
  },
  {
   "cell_type": "code",
   "execution_count": 3,
   "id": "b806b344",
   "metadata": {},
   "outputs": [
    {
     "data": {
      "text/plain": [
       "array([0., 0., 0., 0., 0.])"
      ]
     },
     "execution_count": 3,
     "metadata": {},
     "output_type": "execute_result"
    }
   ],
   "source": [
    "# create array of zeros\n",
    "np.zeros(5)"
   ]
  },
  {
   "cell_type": "code",
   "execution_count": 4,
   "id": "da89b69f",
   "metadata": {},
   "outputs": [
    {
     "data": {
      "text/plain": [
       "array([1., 1., 1., 1., 1.])"
      ]
     },
     "execution_count": 4,
     "metadata": {},
     "output_type": "execute_result"
    }
   ],
   "source": [
    "# create array of ones\n",
    "np.ones(5)"
   ]
  },
  {
   "cell_type": "code",
   "execution_count": 5,
   "id": "6f6d8c28",
   "metadata": {},
   "outputs": [
    {
     "data": {
      "text/plain": [
       "array([2.5, 2.5, 2.5, 2.5, 2.5, 2.5, 2.5, 2.5, 2.5, 2.5])"
      ]
     },
     "execution_count": 5,
     "metadata": {},
     "output_type": "execute_result"
    }
   ],
   "source": [
    "# to define size and value with which to fill\n",
    "np.full(10, 2.5)"
   ]
  },
  {
   "cell_type": "code",
   "execution_count": 12,
   "id": "3cbd4e12",
   "metadata": {},
   "outputs": [
    {
     "data": {
      "text/plain": [
       "array([  3,   1,   6,   7,   3, 653,   9])"
      ]
     },
     "execution_count": 12,
     "metadata": {},
     "output_type": "execute_result"
    }
   ],
   "source": [
    "# create numpy array out of python one\n",
    "arr = np.array([3, 1, 6, 7, 3, 653, 9])\n",
    "arr"
   ]
  },
  {
   "cell_type": "code",
   "execution_count": 13,
   "id": "d2296178",
   "metadata": {},
   "outputs": [
    {
     "data": {
      "text/plain": [
       "3"
      ]
     },
     "execution_count": 13,
     "metadata": {},
     "output_type": "execute_result"
    }
   ],
   "source": [
    "arr[4]"
   ]
  },
  {
   "cell_type": "code",
   "execution_count": 15,
   "id": "bdb1a23a",
   "metadata": {},
   "outputs": [
    {
     "data": {
      "text/plain": [
       "array([  3,   2,   6,   7,   3, 653,   9])"
      ]
     },
     "execution_count": 15,
     "metadata": {},
     "output_type": "execute_result"
    }
   ],
   "source": [
    "arr[1] = 2\n",
    "arr"
   ]
  },
  {
   "cell_type": "code",
   "execution_count": 16,
   "id": "78f9e9c3",
   "metadata": {},
   "outputs": [
    {
     "data": {
      "text/plain": [
       "array([0, 1, 2, 3, 4, 5, 6, 7, 8, 9])"
      ]
     },
     "execution_count": 16,
     "metadata": {},
     "output_type": "execute_result"
    }
   ],
   "source": [
    "# create range of particular size\n",
    "np.arange(10)"
   ]
  },
  {
   "cell_type": "code",
   "execution_count": 17,
   "id": "4e4f99f1",
   "metadata": {},
   "outputs": [
    {
     "data": {
      "text/plain": [
       "array([3, 4, 5, 6, 7, 8, 9])"
      ]
     },
     "execution_count": 17,
     "metadata": {},
     "output_type": "execute_result"
    }
   ],
   "source": [
    "np.arange(3, 10)"
   ]
  },
  {
   "cell_type": "code",
   "execution_count": 19,
   "id": "9a47410b",
   "metadata": {},
   "outputs": [
    {
     "data": {
      "text/plain": [
       "array([ 2.        ,  3.44444444,  4.88888889,  6.33333333,  7.77777778,\n",
       "        9.22222222, 10.66666667, 12.11111111, 13.55555556, 15.        ])"
      ]
     },
     "execution_count": 19,
     "metadata": {},
     "output_type": "execute_result"
    }
   ],
   "source": [
    "# array in the range of a particular size\n",
    "np.linspace(2, 15, 10)"
   ]
  },
  {
   "cell_type": "markdown",
   "id": "a8326aed",
   "metadata": {},
   "source": [
    "# Multi-dimensional arrays"
   ]
  },
  {
   "cell_type": "code",
   "execution_count": 20,
   "id": "6456e940",
   "metadata": {},
   "outputs": [
    {
     "data": {
      "text/plain": [
       "array([[0., 0.],\n",
       "       [0., 0.],\n",
       "       [0., 0.],\n",
       "       [0., 0.],\n",
       "       [0., 0.]])"
      ]
     },
     "execution_count": 20,
     "metadata": {},
     "output_type": "execute_result"
    }
   ],
   "source": [
    "# specify dimensions of an array: rows & cols\n",
    "np.zeros((5, 2))"
   ]
  },
  {
   "cell_type": "code",
   "execution_count": 23,
   "id": "6c0dc612",
   "metadata": {},
   "outputs": [
    {
     "data": {
      "text/plain": [
       "array([[ 3,  5,  1,  6],\n",
       "       [ 6,  2, 10, 54],\n",
       "       [54, 75,  1,  0]])"
      ]
     },
     "execution_count": 23,
     "metadata": {},
     "output_type": "execute_result"
    }
   ],
   "source": [
    "arr = np.array([\n",
    "    [3, 5, 1, 6],\n",
    "    [6, 2, 10, 54],\n",
    "    [54, 75, 1, 0]\n",
    "])\n",
    "\n",
    "arr"
   ]
  },
  {
   "cell_type": "code",
   "execution_count": 24,
   "id": "23372535",
   "metadata": {},
   "outputs": [
    {
     "data": {
      "text/plain": [
       "10"
      ]
     },
     "execution_count": 24,
     "metadata": {},
     "output_type": "execute_result"
    }
   ],
   "source": [
    "arr[1][2]"
   ]
  },
  {
   "cell_type": "code",
   "execution_count": 25,
   "id": "1e1d7a09",
   "metadata": {},
   "outputs": [
    {
     "data": {
      "text/plain": [
       "array([[ 3,  5,  1,  6],\n",
       "       [ 6,  2, 10, 54],\n",
       "       [54, 55,  1,  0]])"
      ]
     },
     "execution_count": 25,
     "metadata": {},
     "output_type": "execute_result"
    }
   ],
   "source": [
    "arr[2][1] = 55\n",
    "arr"
   ]
  },
  {
   "cell_type": "code",
   "execution_count": 26,
   "id": "08f92e1c",
   "metadata": {},
   "outputs": [
    {
     "data": {
      "text/plain": [
       "array([ 6,  2, 10, 54])"
      ]
     },
     "execution_count": 26,
     "metadata": {},
     "output_type": "execute_result"
    }
   ],
   "source": [
    "arr[1]"
   ]
  },
  {
   "cell_type": "code",
   "execution_count": 27,
   "id": "bd56e2ec",
   "metadata": {},
   "outputs": [
    {
     "data": {
      "text/plain": [
       "array([ 1, 10,  1])"
      ]
     },
     "execution_count": 27,
     "metadata": {},
     "output_type": "execute_result"
    }
   ],
   "source": [
    "# get only particular columns\n",
    "arr[:, 2]"
   ]
  },
  {
   "cell_type": "code",
   "execution_count": 29,
   "id": "78b94293",
   "metadata": {},
   "outputs": [
    {
     "data": {
      "text/plain": [
       "array([[  3, 101,   1,   6],\n",
       "       [  6, 102,  10,  54],\n",
       "       [ 54, 103,   1,   0]])"
      ]
     },
     "execution_count": 29,
     "metadata": {},
     "output_type": "execute_result"
    }
   ],
   "source": [
    "arr[:, 1] = [101, 102, 103]\n",
    "arr"
   ]
  },
  {
   "cell_type": "code",
   "execution_count": 30,
   "id": "7a1d74e8",
   "metadata": {},
   "outputs": [
    {
     "data": {
      "text/plain": [
       "array([[0.06659575, 0.70433229],\n",
       "       [0.1239048 , 0.98631205],\n",
       "       [0.64725463, 0.54820955],\n",
       "       [0.14655424, 0.95934664],\n",
       "       [0.17838729, 0.01946963]])"
      ]
     },
     "execution_count": 30,
     "metadata": {},
     "output_type": "execute_result"
    }
   ],
   "source": [
    "# generate random arrays\n",
    "np.random.rand(5, 2)"
   ]
  },
  {
   "cell_type": "code",
   "execution_count": 31,
   "id": "5a2fcc4e",
   "metadata": {},
   "outputs": [
    {
     "data": {
      "text/plain": [
       "array([[0.22199317, 0.87073231, 0.20671916],\n",
       "       [0.91861091, 0.48841119, 0.61174386],\n",
       "       [0.76590786, 0.51841799, 0.2968005 ],\n",
       "       [0.18772123, 0.08074127, 0.7384403 ]])"
      ]
     },
     "execution_count": 31,
     "metadata": {},
     "output_type": "execute_result"
    }
   ],
   "source": [
    "# to make random numbers repeatable\n",
    "np.random.seed(5)\n",
    "np.random.rand(4, 3)"
   ]
  },
  {
   "cell_type": "code",
   "execution_count": 33,
   "id": "3bb77a51",
   "metadata": {},
   "outputs": [
    {
     "data": {
      "text/plain": [
       "array([[ 1.10855471e-03, -2.89544069e-01],\n",
       "       [-1.11606630e+00, -1.28827567e-02],\n",
       "       [-3.78361464e-01, -4.81135363e-01],\n",
       "       [-1.51733118e+00, -4.90871981e-01],\n",
       "       [-2.40680579e-01, -6.47947460e-01]])"
      ]
     },
     "execution_count": 33,
     "metadata": {},
     "output_type": "execute_result"
    }
   ],
   "source": [
    "# if we want to take numbers from standard normal distribution\n",
    "np.random.seed(9)\n",
    "np.random.randn(5, 2)"
   ]
  },
  {
   "cell_type": "code",
   "execution_count": 34,
   "id": "99d31020",
   "metadata": {},
   "outputs": [
    {
     "data": {
      "text/plain": [
       "array([[49,  6],\n",
       "       [27,  5],\n",
       "       [21, 25],\n",
       "       [41, 30],\n",
       "       [16, 25]])"
      ]
     },
     "execution_count": 34,
     "metadata": {},
     "output_type": "execute_result"
    }
   ],
   "source": [
    "np.random.seed(7)\n",
    "np.random.randint(low=2, high=54, size=(5, 2))"
   ]
  },
  {
   "cell_type": "code",
   "execution_count": 35,
   "id": "fda8eff5",
   "metadata": {},
   "outputs": [
    {
     "data": {
      "text/plain": [
       "array([[50.11204637,  7.20511334, 26.84389801],\n",
       "       [49.98825008, 67.92299961, 80.37390361],\n",
       "       [38.09411331,  6.59363469, 28.81455993],\n",
       "       [90.95935277, 21.33853536, 45.21239618]])"
      ]
     },
     "execution_count": 35,
     "metadata": {},
     "output_type": "execute_result"
    }
   ],
   "source": [
    "# we can multiply every element by particular data\n",
    "100 * np.random.rand(4, 3)"
   ]
  },
  {
   "cell_type": "markdown",
   "id": "796003af",
   "metadata": {},
   "source": [
    "# Elementwise operations"
   ]
  },
  {
   "cell_type": "code",
   "execution_count": 36,
   "id": "d85ce261",
   "metadata": {},
   "outputs": [
    {
     "data": {
      "text/plain": [
       "array([0, 1, 2, 3, 4])"
      ]
     },
     "execution_count": 36,
     "metadata": {},
     "output_type": "execute_result"
    }
   ],
   "source": [
    "array = np.arange(5)\n",
    "array"
   ]
  },
  {
   "cell_type": "code",
   "execution_count": 37,
   "id": "c153d4ed",
   "metadata": {},
   "outputs": [
    {
     "data": {
      "text/plain": [
       "array([2, 3, 4, 5, 6])"
      ]
     },
     "execution_count": 37,
     "metadata": {},
     "output_type": "execute_result"
    }
   ],
   "source": [
    "array + 2"
   ]
  },
  {
   "cell_type": "code",
   "execution_count": 38,
   "id": "9a1e27e5",
   "metadata": {},
   "outputs": [
    {
     "data": {
      "text/plain": [
       "array([0.  , 0.01, 0.02, 0.03, 0.04])"
      ]
     },
     "execution_count": 38,
     "metadata": {},
     "output_type": "execute_result"
    }
   ],
   "source": [
    "array / 100"
   ]
  },
  {
   "cell_type": "code",
   "execution_count": 41,
   "id": "ce9cc1c8",
   "metadata": {},
   "outputs": [],
   "source": [
    "array2 = 10 + (array * 10)"
   ]
  },
  {
   "cell_type": "code",
   "execution_count": 42,
   "id": "40162643",
   "metadata": {},
   "outputs": [
    {
     "data": {
      "text/plain": [
       "array([10, 21, 32, 43, 54])"
      ]
     },
     "execution_count": 42,
     "metadata": {},
     "output_type": "execute_result"
    }
   ],
   "source": [
    "array2 + array"
   ]
  },
  {
   "cell_type": "markdown",
   "id": "07b7a6fb",
   "metadata": {},
   "source": [
    "# Comparision operations"
   ]
  },
  {
   "cell_type": "code",
   "execution_count": 44,
   "id": "2cc891b6",
   "metadata": {},
   "outputs": [
    {
     "data": {
      "text/plain": [
       "array([False, False, False,  True,  True])"
      ]
     },
     "execution_count": 44,
     "metadata": {},
     "output_type": "execute_result"
    }
   ],
   "source": [
    "array > 2"
   ]
  },
  {
   "cell_type": "code",
   "execution_count": 45,
   "id": "d5d0a9f0",
   "metadata": {},
   "outputs": [
    {
     "data": {
      "text/plain": [
       "array([ True,  True,  True,  True,  True])"
      ]
     },
     "execution_count": 45,
     "metadata": {},
     "output_type": "execute_result"
    }
   ],
   "source": [
    "array2 > array"
   ]
  },
  {
   "cell_type": "code",
   "execution_count": 46,
   "id": "0b4cefa4",
   "metadata": {},
   "outputs": [
    {
     "data": {
      "text/plain": [
       "array([10, 20, 30, 40, 50])"
      ]
     },
     "execution_count": 46,
     "metadata": {},
     "output_type": "execute_result"
    }
   ],
   "source": [
    "# to see which elemnts are greater, not plain True/False\n",
    "array2[array2 > array]"
   ]
  },
  {
   "cell_type": "markdown",
   "id": "6a56ea0f",
   "metadata": {},
   "source": [
    "# Summarizing operations"
   ]
  },
  {
   "cell_type": "code",
   "execution_count": 47,
   "id": "803eb600",
   "metadata": {},
   "outputs": [
    {
     "data": {
      "text/plain": [
       "0"
      ]
     },
     "execution_count": 47,
     "metadata": {},
     "output_type": "execute_result"
    }
   ],
   "source": [
    "array.min()"
   ]
  },
  {
   "cell_type": "code",
   "execution_count": 48,
   "id": "80708296",
   "metadata": {},
   "outputs": [
    {
     "data": {
      "text/plain": [
       "50"
      ]
     },
     "execution_count": 48,
     "metadata": {},
     "output_type": "execute_result"
    }
   ],
   "source": [
    "array2.max()"
   ]
  },
  {
   "cell_type": "code",
   "execution_count": 49,
   "id": "79fb8235",
   "metadata": {},
   "outputs": [
    {
     "data": {
      "text/plain": [
       "150"
      ]
     },
     "execution_count": 49,
     "metadata": {},
     "output_type": "execute_result"
    }
   ],
   "source": [
    "array2.sum()"
   ]
  },
  {
   "cell_type": "code",
   "execution_count": 50,
   "id": "d96a7701",
   "metadata": {},
   "outputs": [
    {
     "data": {
      "text/plain": [
       "2.0"
      ]
     },
     "execution_count": 50,
     "metadata": {},
     "output_type": "execute_result"
    }
   ],
   "source": [
    "array.mean()"
   ]
  },
  {
   "cell_type": "code",
   "execution_count": 51,
   "id": "f107fa44",
   "metadata": {},
   "outputs": [
    {
     "data": {
      "text/plain": [
       "1.4142135623730951"
      ]
     },
     "execution_count": 51,
     "metadata": {},
     "output_type": "execute_result"
    }
   ],
   "source": [
    "array.std()"
   ]
  },
  {
   "cell_type": "code",
   "execution_count": 53,
   "id": "a24c34ca",
   "metadata": {},
   "outputs": [
    {
     "data": {
      "text/plain": [
       "array([[0.93120602, 0.02489923, 0.60054892, 0.9501295 , 0.23030288],\n",
       "       [0.54848992, 0.90912837, 0.13316945, 0.52341258, 0.75040986],\n",
       "       [0.66901324, 0.46775286, 0.20484909, 0.49076589, 0.37238469]])"
      ]
     },
     "execution_count": 53,
     "metadata": {},
     "output_type": "execute_result"
    }
   ],
   "source": [
    "new_arr = np.random.rand(3, 5)\n",
    "new_arr"
   ]
  },
  {
   "cell_type": "code",
   "execution_count": 54,
   "id": "1c46d432",
   "metadata": {},
   "outputs": [
    {
     "data": {
      "text/plain": [
       "7.806462493198735"
      ]
     },
     "execution_count": 54,
     "metadata": {},
     "output_type": "execute_result"
    }
   ],
   "source": [
    "new_arr.sum()"
   ]
  },
  {
   "cell_type": "code",
   "execution_count": null,
   "id": "91f920ef",
   "metadata": {},
   "outputs": [],
   "source": []
  }
 ],
 "metadata": {
  "kernelspec": {
   "display_name": "Python 3",
   "language": "python",
   "name": "python3"
  },
  "language_info": {
   "codemirror_mode": {
    "name": "ipython",
    "version": 3
   },
   "file_extension": ".py",
   "mimetype": "text/x-python",
   "name": "python",
   "nbconvert_exporter": "python",
   "pygments_lexer": "ipython3",
   "version": "3.8.10"
  }
 },
 "nbformat": 4,
 "nbformat_minor": 5
}
